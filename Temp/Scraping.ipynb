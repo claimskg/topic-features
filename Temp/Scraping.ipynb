{
 "cells": [
  {
   "cell_type": "code",
   "execution_count": 38,
   "metadata": {},
   "outputs": [],
   "source": [
    "import urllib\n",
    "from bs4 import BeautifulSoup\n",
    "\n",
    "url = \"https://edition.cnn.com/2019/07/09/politics/us-britain-ambassador-memos-diplomacy/index.html\"\n",
    "#url = \"https://www.bbc.com/news/uk-politics-48919695\"\n",
    "#url = \"https://www.foxnews.com/politics/ilhan-omar-admits-flubbed-facts-america-racism-injustice-story\"\n",
    "\n",
    "html = urllib.request.urlopen(url).read()\n",
    "soup = BeautifulSoup(html, \"lxml\")\n",
    "\n",
    "# kill all script and style elements\n",
    "for script in soup([\"script\", \"style\"]):\n",
    "    script.decompose()    # rip it out\n",
    "\n",
    "# get text\n",
    "text = soup.get_text(separator=' ')\n",
    "\n",
    "# break into lines and remove leading and trailing space on each\n",
    "lines = (line.strip() for line in text.splitlines())\n",
    "\n",
    "# break multi-headlines into a line each\n",
    "chunks = (phrase.strip() for line in lines for phrase in line.split(\"  \"))\n",
    "\n",
    "# drop blank lines\n",
    "text = ' '.join(chunk for chunk in chunks if chunk)\n",
    "\n",
    "#print(text)"
   ]
  },
  {
   "cell_type": "code",
   "execution_count": 39,
   "metadata": {},
   "outputs": [],
   "source": [
    "from nltk.tokenize import sent_tokenize\n",
    "\n",
    "sentences = sent_tokenize(text)"
   ]
  },
  {
   "cell_type": "code",
   "execution_count": 40,
   "metadata": {},
   "outputs": [
    {
     "data": {
      "text/plain": [
       "['Trump tweets likely deal UK ambassador a fatal blow - CNNPolitics Breaking News 45 Congress Supreme Court Facts First 2020 Election Search » Trump tweets likely deal UK ambassador a fatal blow Analysis by Stephen Collinson , CNN Updated 1232 GMT (2032 HKT) July 9, 2019 Chat with us in Facebook Messenger.',\n",
       " \"Find out what's happening in the world as it unfolds.\",\n",
       " \"JUST WATCHED Trump says he's done with UK Ambassador who slammed him Replay More Videos ... MUST WATCH (15 Videos) Trump says he's done with UK Ambassador who slammed him Lemon: Nothing means more to Trump than winning Swalwell: Today ends our presidential campaign Questions swirl over Trump official's role in housing deal Trump brags about environment, ignores climate crisis Biden: I'm opposed to Dems who want to dismantle ACA Trump retweeted a fake Reagan quote about himself Nearly 20 senior Pentagon roles lack permanent appointees CNN fact checker debunks Trump's story about California Border patrol officer disputes reports about facilities Confused about the busing debate?\",\n",
       " \"You're not alone Trump: Iran better be careful Vinograd: Trump damaged UK relationship, not cables Trump: I want press to go in and see detention centers Amash responds to Trump's tweet calling him a loser (CNN) Only a month after basking in the pageantry and lavish hospitality that only Queen Elizabeth II can lay on, President Donald Trump is back to telling Britain who is boss .\",\n",
       " 'With a devastating set of tweets that all but declared Ambassador Sir Kim Darroch persona-non-grata, the President did more than simply feed a personal grudge.',\n",
       " \"He turned Britain's extreme discomfort into political leverage over America's best friend.\",\n",
       " 'By making it clear he would prefer an envoy more sympathetic to his worldview, Trump is effectively trying to make it more difficult for another country to get accurate diplomatic reporting and internal intelligence on an administration that has alarmed many foreign allies -- not just Britain.',\n",
       " \"Trump could have turned the other cheek and sought the high ground amid the rumpus over the UK ambassador's unsparing memos about his character and dysfunctional White House.\",\n",
       " \"That is not the President's way.\",\n",
       " \"Read More Where other US leaders might have chosen a less contentious route, Trump seeks to escalate, indulging his ruthless sense of another party's weakness.\",\n",
       " \"In lashing out at the British government and its envoy, Trump showed familiar traits — he's thin skinned and reacts poorly to public criticism -- even when it c omes from a country and a government he's often rebuked himself .\",\n",
       " 'And he rarely lets pass a chance for revenge.',\n",
       " 'I have been very critical about the way the U.K. and Prime Minister Theresa May handled Brexit.',\n",
       " 'What a mess she and her representatives have created.',\n",
       " 'I told her how it should be done, but she decided to go another way.',\n",
       " \"I do not know the Ambassador, but he is not liked or well.... — Donald J. Trump (@realDonaldTrump) July 8, 2019 Trump's tweets sent a message to London that its ambassador, a career diplomat who was Monday branded an anti-Trump globalist by his foes back home, is no longer welcome in the White House.\",\n",
       " 'After turning the episode into a full blown diplomatic crisis on Monday, Trump followed up on Tuesday with personal abuse of Darroch and a fresh attack on outgoing British Prime Minister Theresa May, who is standing by her envoy .',\n",
       " 'He tweeted that the ambassador was \"wacky,\" \"a very stupid guy\" and a \"pompous fool\" and said that May\\'s \"failed\" and \"foolish\" efforts to deliver Britain\\'s exit from the European Union were a \"disaster!\"',\n",
       " \"Trump's tweets dealt a likely fatal blow to Darroch's strenuous efforts over two years to manage the almost-impossible task of forging stable ties with Trump's tumultuous White House.\",\n",
       " 'In a sign that he is now out in the cold, the ambassador, who had contacts throughout the administration, was dis-invited from a dinner with Trump, the Emir of Qatar and Treasury Secretary Steven Mnuchin on Monday night.',\n",
       " 'Trump is making clear that the \"special relationship\" under May\\'s successor who will take over in a couple of weeks will be on his terms, a sentiment that could have enormous political and diplomatic implications in London and beyond.',\n",
       " '\"The good news for the wonderful United Kingdom is that they will soon have a new Prime Minister,\" Trump tweeted.',\n",
       " \"'This is a relationship that is bigger than this situation' The President's intervention makes the next British prime minister -- expected to be former Foreign Secretary Boris Johnson -- effectively a supplicant to the US President.\",\n",
       " \"His first order of business will be to repair Britain's most important diplomatic relationship.\",\n",
       " \"It's difficult to see how that might be accomplished without effectively appointing a new ambassador to Washington whom Trump finds favorable.\",\n",
       " 'Britain will become increasingly beholden to the United States if it finally leaves the European Union since it will need a new free trade deal with Washington.',\n",
       " 'By establishing fresh leverage over the UK, Trump improved his position ahead of a negotiation in which both sides expect him to drive a hard bargain.',\n",
       " 'The Trump administration also wants to peel the UK off from its European partners and hopes it will join its effort to punish Iran.',\n",
       " 'Britain still supports the Iran nuclear deal that Trump exited and has come under pressure from top US officials.',\n",
       " \"Trump's state visit to London last month -- masterminded by Darroch -- was seen as Britain's best chance to deploy its own leverage to win over the President.\",\n",
       " 'But if anyone thought that the warmth of his Buckingham Palace welcome in a successful state visit last month would cause Trump to give Britain a pass when it needed it, they were wrong.',\n",
       " 'Ironically, Darroch had predicted as much in one of a flurry of dispatches dating back two years that were handed to the \"Mail on Sunday\" by an unknown leaker.',\n",
       " '\"We might be flavor of the month, but this is still the land of \\'America First,\\'\" wrote Darroch, who in other memos described Trump as \"inept\" and his administration as mired in chaos.',\n",
       " \"British diplomats spent the weekend trying to contain the damage from the Mail's scoop that rocked US-UK relations.\",\n",
       " \"Given the decades of friendship forged in war between Washington and London, it's likely that the current tensions will eventually be seen as just a wrinkle in a long relationship.\",\n",
       " '\"Nobody is in a great position here,\" former Defense Secretary Ashton Carter told CNN\\'s Erin Burnett on Monday, noting that Trump felt insulted and Britain embarrassed by the leak.',\n",
       " 'He added: \"I would hope that we all recognize that this is a relationship that is bigger than this situation\" and \"any one personality.\"',\n",
       " \"Search for the leaker Back in London, May's government repeatedly said it stood by Darroch and decried the motives of the unidentified leaker.\",\n",
       " 'Different theories are being floated about the motivation of the leaker.',\n",
       " 'Possibly, he or she was an official sympathetic to anti-European, pro-Trump factions in the Conservative Party who want Darroch gone to insert a new ambassador more ideologically in tune with Trump.',\n",
       " 'Perhaps someone from the next government wanted to send a sign to Trump that the days of traditional UK diplomats favorably disposed to the EU and the international establishment are numbered.',\n",
       " 'In Tuesday\\'s \"The Sun\" newspaper, Foreign Secretary Jeremy Hunt -- Darroch\\'s boss and Johnson\\'s last remaining rival in the leadership race -- said officials would consider whether a hostile foreign power keen to disrupt relations between the US and Britain was behind the leak.',\n",
       " \"Trump's friend, Nigel Farage, the anti-Europe Brexit Party leader who Trump has said would be a great ambassador in Washington, sought his own political leverage.\",\n",
       " 'He blasted the current UK ambassador to Washington on his LBC Radio show as a \"globalist,\" adding \"Kim Darroch is anti-Trump.\"',\n",
       " 'The British government was left in a vulnerable position after Trump barred the doors for Darroch.',\n",
       " 'After all, the ambassador was only doing his job -- providing blunt assessments of a foreign government to his superiors back home.',\n",
       " \"If Trump can force Darroch home, he would send a message to any foreign government keen to exploit Britain's willingness to bend to the will of a host nation.\",\n",
       " 'And by replacing Darroch, the British government would be playing right into the hands of a leaker, who must have left British diplomats abroad uncertain whether their critical memos about foreign leaders will end up in the newspapers.',\n",
       " 'May\\'s office released a statement expressing May\\'s \"full support\" for Darroch.',\n",
       " '\"We have made clear to the US how unfortunate this leak is.',\n",
       " 'The selective extracts leaked do not reflect the closeness of, and the esteem in which we hold, the relationship,\" a spokesman said.',\n",
       " '\"At the same time we have also underlined the importance of Ambassadors being able to provide honest, unvarnished assessments of the politics in their country.\"',\n",
       " 'So in the short term at least, Britain probably cannot afford to withdraw Darroch because of the precedent it would establish at home and to its envoys around the world.',\n",
       " 'Darroch was expected to leave by early next year anyway.',\n",
       " 'It would not be a surprise if the new British Prime Minister finds a way to quietly finesse his departure before then.',\n",
       " '45 Congress Supreme Court Facts First 2020 Election © 2019 Cable News Network.',\n",
       " 'Turner Broadcasting System, Inc. All Rights Reserved.',\n",
       " 'CNN Sans ™ & © 2016 Cable News Network.',\n",
       " 'Terms of service | Privacy guidelines | AdChoices']"
      ]
     },
     "execution_count": 40,
     "metadata": {},
     "output_type": "execute_result"
    }
   ],
   "source": [
    "sentences"
   ]
  }
 ],
 "metadata": {
  "kernelspec": {
   "display_name": "Python 3",
   "language": "python",
   "name": "python3"
  },
  "language_info": {
   "codemirror_mode": {
    "name": "ipython",
    "version": 3
   },
   "file_extension": ".py",
   "mimetype": "text/x-python",
   "name": "python",
   "nbconvert_exporter": "python",
   "pygments_lexer": "ipython3",
   "version": "3.7.4"
  }
 },
 "nbformat": 4,
 "nbformat_minor": 2
}
