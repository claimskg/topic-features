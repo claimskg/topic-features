{
 "cells": [
  {
   "cell_type": "code",
   "execution_count": 1,
   "metadata": {},
   "outputs": [],
   "source": [
    "# Load contractions model\n",
    "from pycontractions import Contractions\n",
    "\n",
    "cont = Contractions(api_key=\"glove-twitter-100\")\n",
    "cont.load_models()"
   ]
  },
  {
   "cell_type": "code",
   "execution_count": 2,
   "metadata": {},
   "outputs": [],
   "source": [
    "import pandas as pd\n",
    "import numpy as np\n",
    "import csv\n",
    "import re\n",
    "import math\n",
    "\n",
    "from sklearn.feature_extraction.text import TfidfVectorizer\n",
    "from sklearn.feature_extraction.text import CountVectorizer\n",
    "from sklearn.svm import LinearSVC\n",
    "from sklearn.model_selection import KFold\n",
    "from sklearn.model_selection import StratifiedKFold\n",
    "from sklearn.model_selection import cross_val_score"
   ]
  },
  {
   "cell_type": "markdown",
   "metadata": {},
   "source": [
    "### Load Data"
   ]
  },
  {
   "cell_type": "code",
   "execution_count": 3,
   "metadata": {},
   "outputs": [],
   "source": [
    "file = 'Data/c4.csv'\n",
    "df = pd.read_csv(file,sep=\",\")\n",
    "df = df.loc[df['rating'] != 'OTHER']"
   ]
  },
  {
   "cell_type": "code",
   "execution_count": 4,
   "metadata": {},
   "outputs": [],
   "source": [
    "authors_dict = dict()\n",
    "\n",
    "with open('Data/authors_classified.csv', 'r', newline='') as file:\n",
    "    reader = csv.reader(file)\n",
    "    next(reader)  # Skip header row.\n",
    "    for row in reader:\n",
    "        authors_dict[row[0]] = row[1]"
   ]
  },
  {
   "cell_type": "code",
   "execution_count": 5,
   "metadata": {},
   "outputs": [
    {
     "data": {
      "text/plain": [
       "(6179, 7)"
      ]
     },
     "execution_count": 5,
     "metadata": {},
     "output_type": "execute_result"
    }
   ],
   "source": [
    "df.shape\n",
    "#990 with snopes"
   ]
  },
  {
   "cell_type": "code",
   "execution_count": 6,
   "metadata": {},
   "outputs": [
    {
     "data": {
      "text/plain": [
       "(6053, 7)"
      ]
     },
     "execution_count": 6,
     "metadata": {},
     "output_type": "execute_result"
    }
   ],
   "source": [
    "df = df.loc[df['organization'] != 'snopes']\n",
    "df.shape\n",
    "#949 without snopes"
   ]
  },
  {
   "cell_type": "code",
   "execution_count": 7,
   "metadata": {},
   "outputs": [
    {
     "data": {
      "text/plain": [
       "(5330, 7)"
      ]
     },
     "execution_count": 7,
     "metadata": {},
     "output_type": "execute_result"
    }
   ],
   "source": [
    "ix=[i for i in df.index if ((df.at[i,'author'] in authors_dict.keys()))]\n",
    "df = df.loc[ix]\n",
    "df.shape\n",
    "#827 claims with classified authors"
   ]
  },
  {
   "cell_type": "code",
   "execution_count": 8,
   "metadata": {},
   "outputs": [],
   "source": [
    "df = df.reset_index(drop=True)"
   ]
  },
  {
   "cell_type": "markdown",
   "metadata": {},
   "source": [
    "### Add author type to df"
   ]
  },
  {
   "cell_type": "code",
   "execution_count": 9,
   "metadata": {},
   "outputs": [],
   "source": [
    "def add_type_column(df):\n",
    "    df['type'] = ''\n",
    "    for i in df.index:\n",
    "        df.at[i,'type'] = authors_dict[df.at[i,'author']]"
   ]
  },
  {
   "cell_type": "code",
   "execution_count": 10,
   "metadata": {},
   "outputs": [],
   "source": [
    "add_type_column(df)"
   ]
  },
  {
   "cell_type": "markdown",
   "metadata": {},
   "source": [
    "### Preprocess DF"
   ]
  },
  {
   "cell_type": "code",
   "execution_count": 11,
   "metadata": {},
   "outputs": [],
   "source": [
    "def preprocess_claim(sentence):\n",
    "    sentence = sentence.lower().strip()\n",
    "    translator = str.maketrans('’', \"'\", '')\n",
    "    sentence = sentence.translate(translator)\n",
    "    sentence = re.sub(\"u\\.s\\.\",\"united states\",sentence)\n",
    "    sentence = list(cont.expand_texts([sentence],precise=True))[0]\n",
    "    sentence = re.sub(\"[^a-zA-Z0-9_.’,]|(?<!\\d)\\.(?!\\d)|(?<!\\w)-(?!\\w)|(?<!\\d)\\,(?!\\d)\",' ',sentence)\n",
    "    sentence = re.sub(\",\",'',sentence)\n",
    "    sentence = re.sub(\"\\.\",'',sentence)\n",
    "    sentence = re.sub(\" a \",' ',sentence)\n",
    "    sentence = re.sub('\\s+', ' ', sentence).strip()\n",
    "    sentence = re.sub(\" s \",' ',sentence)\n",
    "    if sentence[0:5] == 'says ':\n",
    "        sentence = sentence[5:]\n",
    "    sentence = ' '.join([w for w in sentence.split() if len(w)>1])\n",
    "    return sentence\n",
    "\n",
    "def preprocess_df(df):\n",
    "    for index in df.index:\n",
    "        df.at[index,'text'] = preprocess_claim(df.at[index,'text'])\n",
    "        rating = df.at[index,'rating']\n",
    "        if rating == 'FALSE':\n",
    "            df.at[index,'rating'] = 0\n",
    "        if rating == 'TRUE':\n",
    "            df.at[index,'rating'] = 1\n",
    "        if rating == 'MIXTURE':\n",
    "            df.at[index,'rating'] = 2\n",
    "    return df"
   ]
  },
  {
   "cell_type": "code",
   "execution_count": 12,
   "metadata": {},
   "outputs": [],
   "source": [
    "df = preprocess_df(df)"
   ]
  },
  {
   "cell_type": "markdown",
   "metadata": {},
   "source": [
    "### DF Copies"
   ]
  },
  {
   "cell_type": "code",
   "execution_count": 13,
   "metadata": {},
   "outputs": [],
   "source": [
    "#All\n",
    "df1 = df.copy()\n",
    "\n",
    "#True-False\n",
    "df2 = df1.copy()\n",
    "df2 = df2.loc[(df2['rating'] == 0) | (df2['rating'] == 1)]\n",
    "df2 = df2.reset_index(drop=True)\n",
    "\n",
    "#Mixed\n",
    "df3 = df1.copy()\n",
    "for index in df3.index:\n",
    "    rating = df3.at[index,'rating']\n",
    "    if rating == 1:\n",
    "        df3.at[index,'rating'] = 0\n",
    "    if rating == 2:\n",
    "        df3.at[index,'rating'] = 1"
   ]
  },
  {
   "cell_type": "code",
   "execution_count": 14,
   "metadata": {},
   "outputs": [],
   "source": [
    "dfs = dict()\n",
    "dfs['3 Classes'] = df1\n",
    "dfs['2 Classes'] = df2\n",
    "dfs['2 Mixed Classes'] = df3"
   ]
  },
  {
   "cell_type": "markdown",
   "metadata": {},
   "source": [
    "### Classify without authors"
   ]
  },
  {
   "cell_type": "code",
   "execution_count": 15,
   "metadata": {},
   "outputs": [],
   "source": [
    "ngram = (1,3)\n",
    "mindf = 2\n",
    "\n",
    "def vectorize(df):\n",
    "    vectorizer = TfidfVectorizer(ngram_range=ngram,min_df=mindf)\n",
    "    vectors = vectorizer.fit_transform(df['text']).toarray()\n",
    "    return vectors"
   ]
  },
  {
   "cell_type": "code",
   "execution_count": 16,
   "metadata": {},
   "outputs": [],
   "source": [
    "def classify(df, key):\n",
    "    X = vectorize(df)\n",
    "    y = df[\"rating\"]\n",
    "    y = y.astype('int')\n",
    "    clf = LinearSVC(random_state=0, tol=1e-5)\n",
    "    k_fold = StratifiedKFold(n_splits=10, shuffle=True, random_state=None)\n",
    "    score = cross_val_score(clf, X, y, cv=k_fold, scoring='accuracy')\n",
    "    print('%s - Mean accuracy: %f, Deviation: %f' % (key,score.mean(),score.std()))\n",
    "    return score.mean()"
   ]
  },
  {
   "cell_type": "code",
   "execution_count": 17,
   "metadata": {},
   "outputs": [
    {
     "name": "stdout",
     "output_type": "stream",
     "text": [
      "3 Classes - Mean accuracy: 0.561541, Deviation: 0.010503\n",
      "3 Classes - Mean accuracy: 0.565667, Deviation: 0.010233\n",
      "3 Classes - Mean accuracy: 0.558533, Deviation: 0.017906\n",
      "3 Classes - Mean accuracy: 0.557783, Deviation: 0.010593\n",
      "3 Classes - Mean accuracy: 0.564722, Deviation: 0.013668\n",
      "3 Classes - Mean accuracy: 0.566411, Deviation: 0.009053\n",
      "3 Classes - Mean accuracy: 0.558539, Deviation: 0.010852\n",
      "3 Classes - Mean accuracy: 0.556288, Deviation: 0.011443\n",
      "3 Classes - Mean accuracy: 0.557604, Deviation: 0.015704\n",
      "3 Classes - Mean accuracy: 0.562853, Deviation: 0.011597\n",
      "Average of 10 runs: 0.560994\n",
      "\n",
      "2 Classes - Mean accuracy: 0.638865, Deviation: 0.027311\n",
      "2 Classes - Mean accuracy: 0.637437, Deviation: 0.018688\n",
      "2 Classes - Mean accuracy: 0.642677, Deviation: 0.031628\n",
      "2 Classes - Mean accuracy: 0.639829, Deviation: 0.030270\n",
      "2 Classes - Mean accuracy: 0.640287, Deviation: 0.025044\n",
      "2 Classes - Mean accuracy: 0.643183, Deviation: 0.032063\n",
      "2 Classes - Mean accuracy: 0.646965, Deviation: 0.029659\n",
      "2 Classes - Mean accuracy: 0.641734, Deviation: 0.030845\n",
      "2 Classes - Mean accuracy: 0.641265, Deviation: 0.030858\n",
      "2 Classes - Mean accuracy: 0.634593, Deviation: 0.021524\n",
      "Average of 10 runs: 0.640684\n",
      "\n",
      "2 Mixed Classes - Mean accuracy: 0.566604, Deviation: 0.015679\n",
      "2 Mixed Classes - Mean accuracy: 0.570355, Deviation: 0.013899\n",
      "2 Mixed Classes - Mean accuracy: 0.572977, Deviation: 0.025694\n",
      "2 Mixed Classes - Mean accuracy: 0.576925, Deviation: 0.011953\n",
      "2 Mixed Classes - Mean accuracy: 0.563602, Deviation: 0.016398\n",
      "2 Mixed Classes - Mean accuracy: 0.566231, Deviation: 0.011225\n",
      "2 Mixed Classes - Mean accuracy: 0.567167, Deviation: 0.017784\n",
      "2 Mixed Classes - Mean accuracy: 0.564347, Deviation: 0.015436\n",
      "2 Mixed Classes - Mean accuracy: 0.573349, Deviation: 0.019764\n",
      "2 Mixed Classes - Mean accuracy: 0.567725, Deviation: 0.020185\n",
      "Average of 10 runs: 0.568928\n",
      "\n"
     ]
    }
   ],
   "source": [
    "#Classify without authors\n",
    "iterations = 10\n",
    "\n",
    "for key, df in dfs.items():\n",
    "    scores = list()\n",
    "    for i in range(iterations):\n",
    "        scores.append(classify(df,key))\n",
    "\n",
    "    avg = sum(scores)/len(scores)\n",
    "    print(\"Average of %d runs: %f\\n\" % (iterations,avg))"
   ]
  },
  {
   "cell_type": "markdown",
   "metadata": {},
   "source": [
    "### Classify with authors"
   ]
  },
  {
   "cell_type": "code",
   "execution_count": 18,
   "metadata": {},
   "outputs": [],
   "source": [
    "def vectorize2(df):\n",
    "    vectorizer = TfidfVectorizer(ngram_range=ngram,min_df=mindf)\n",
    "    X = vectorizer.fit_transform(df['text']).toarray()\n",
    "    df_vectors = pd.DataFrame(X, columns = vectorizer.get_feature_names())\n",
    "    df_vectors['person'] = 0\n",
    "    df_vectors['democrat'] = 0\n",
    "    df_vectors['republican'] = 0\n",
    "    df_vectors['political'] = 0\n",
    "    df_vectors['journalist'] = 0\n",
    "    df_vectors['organization'] = 0\n",
    "    \n",
    "    for i in df.index:\n",
    "        if df.at[i,'type'] == 'Person':\n",
    "            df_vectors.at[i,'person'] = 1\n",
    "        if df.at[i,'type'] == 'Democrat':\n",
    "            df_vectors.at[i,'person'] = 1\n",
    "            df_vectors.at[i,'democrat'] = 1\n",
    "        if df.at[i,'type'] == 'Republican':\n",
    "            df_vectors.at[i,'person'] = 1\n",
    "            df_vectors.at[i,'republican'] = 1\n",
    "        if df.at[i,'type'] == 'Political':\n",
    "            df_vectors.at[i,'person'] = 1\n",
    "            df_vectors.at[i,'political'] = 1\n",
    "        if df.at[i,'type'] == 'Journalist':\n",
    "            df_vectors.at[i,'person'] = 1\n",
    "            df_vectors.at[i,'journalist'] = 1\n",
    "        if df.at[i,'type'] == 'Organization':\n",
    "            df_vectors.at[i,'organization'] = 1\n",
    "    return df_vectors.to_numpy()"
   ]
  },
  {
   "cell_type": "code",
   "execution_count": 19,
   "metadata": {},
   "outputs": [],
   "source": [
    "def classify2(df, key):\n",
    "    X = vectorize2(df)\n",
    "    y = df[\"rating\"]\n",
    "    y = y.astype('int')\n",
    "    clf = LinearSVC(random_state=0, tol=1e-5)\n",
    "    k_fold = StratifiedKFold(n_splits=10, shuffle=True, random_state=None)\n",
    "    score = cross_val_score(clf, X, y, cv=k_fold, scoring='accuracy')\n",
    "    print('%s - Mean accuracy: %f, Deviation: %f' % (('%s with authors'%key),score.mean(),score.std()))\n",
    "    return score.mean()"
   ]
  },
  {
   "cell_type": "code",
   "execution_count": 20,
   "metadata": {},
   "outputs": [
    {
     "name": "stdout",
     "output_type": "stream",
     "text": [
      "3 Classes with authors - Mean accuracy: 0.559849, Deviation: 0.011154\n",
      "3 Classes with authors - Mean accuracy: 0.570345, Deviation: 0.020037\n",
      "3 Classes with authors - Mean accuracy: 0.569419, Deviation: 0.010230\n",
      "3 Classes with authors - Mean accuracy: 0.565483, Deviation: 0.009810\n",
      "3 Classes with authors - Mean accuracy: 0.569607, Deviation: 0.017298\n",
      "3 Classes with authors - Mean accuracy: 0.559670, Deviation: 0.022957\n",
      "3 Classes with authors - Mean accuracy: 0.563038, Deviation: 0.020898\n",
      "3 Classes with authors - Mean accuracy: 0.561169, Deviation: 0.017635\n",
      "3 Classes with authors - Mean accuracy: 0.571291, Deviation: 0.008420\n",
      "3 Classes with authors - Mean accuracy: 0.565484, Deviation: 0.011276\n",
      "Average of 10 runs: 0.565536\n",
      "\n",
      "2 Classes with authors - Mean accuracy: 0.657927, Deviation: 0.027818\n",
      "2 Classes with authors - Mean accuracy: 0.643167, Deviation: 0.032774\n",
      "2 Classes with authors - Mean accuracy: 0.648863, Deviation: 0.024182\n",
      "2 Classes with authors - Mean accuracy: 0.653627, Deviation: 0.026505\n",
      "2 Classes with authors - Mean accuracy: 0.656983, Deviation: 0.019329\n",
      "2 Classes with authors - Mean accuracy: 0.652215, Deviation: 0.019870\n",
      "2 Classes with authors - Mean accuracy: 0.649843, Deviation: 0.021802\n",
      "2 Classes with authors - Mean accuracy: 0.658922, Deviation: 0.042531\n",
      "2 Classes with authors - Mean accuracy: 0.656967, Deviation: 0.020964\n",
      "2 Classes with authors - Mean accuracy: 0.651265, Deviation: 0.033022\n",
      "Average of 10 runs: 0.652978\n",
      "\n",
      "2 Mixed Classes with authors - Mean accuracy: 0.573167, Deviation: 0.022364\n",
      "2 Mixed Classes with authors - Mean accuracy: 0.572053, Deviation: 0.019914\n",
      "2 Mixed Classes with authors - Mean accuracy: 0.571293, Deviation: 0.013830\n",
      "2 Mixed Classes with authors - Mean accuracy: 0.569042, Deviation: 0.019470\n",
      "2 Mixed Classes with authors - Mean accuracy: 0.570737, Deviation: 0.022884\n",
      "2 Mixed Classes with authors - Mean accuracy: 0.568661, Deviation: 0.019863\n",
      "2 Mixed Classes with authors - Mean accuracy: 0.572421, Deviation: 0.022212\n",
      "2 Mixed Classes with authors - Mean accuracy: 0.568854, Deviation: 0.018784\n",
      "2 Mixed Classes with authors - Mean accuracy: 0.569982, Deviation: 0.008569\n",
      "2 Mixed Classes with authors - Mean accuracy: 0.580304, Deviation: 0.016624\n",
      "Average of 10 runs: 0.571651\n",
      "\n"
     ]
    }
   ],
   "source": [
    "#Classify with authors\n",
    "iterations = 10\n",
    "\n",
    "for key, df in dfs.items():\n",
    "    scores = list()\n",
    "    for i in range(iterations):\n",
    "        scores.append(classify2(df,key))\n",
    "\n",
    "    avg = sum(scores)/len(scores)\n",
    "    print(\"Average of %d runs: %f\\n\" % (iterations,avg))"
   ]
  },
  {
   "cell_type": "markdown",
   "metadata": {},
   "source": [
    "### Author IDF"
   ]
  },
  {
   "cell_type": "code",
   "execution_count": 21,
   "metadata": {},
   "outputs": [],
   "source": [
    "#Author IDF test\n",
    "def get_iaf_dict(ngram,mindf,df):\n",
    "    vectorizer = CountVectorizer(ngram_range=ngram,min_df=mindf)\n",
    "    vectorizer.fit(df['text'])\n",
    "    icfdict = {key:0 for key in vectorizer.get_feature_names()}\n",
    "    classes = df[\"rating\"].unique()\n",
    "\n",
    "    dfcldict = {key:df.loc[df[\"rating\"] == key] for key in classes}\n",
    "\n",
    "    for key in icfdict.keys():\n",
    "        for cl in classes:\n",
    "            dfcl = dfcldict[cl]\n",
    "            for claim in dfcl[\"text\"]:\n",
    "                text = ' ' + claim + ' '\n",
    "                if text.find(' ' + key + ' ') >= 0:\n",
    "                    icfdict[key] = icfdict[key] + 1\n",
    "                    break\n",
    "    return icfdict "
   ]
  },
  {
   "cell_type": "code",
   "execution_count": 22,
   "metadata": {},
   "outputs": [],
   "source": [
    "def classify_iaf(df, key1):\n",
    "    vectorizer = TfidfVectorizer(ngram_range=ngram,min_df=mindf)\n",
    "    iafdict = get_iaf_dict(ngram,mindf,df)\n",
    "    vec = vectorizer.fit_transform(df['text']).toarray()\n",
    "    \n",
    "    for key,value in vectorizer.vocabulary_.items():\n",
    "        vec[:,value] = vec[:,value] * math.log10(1 + iafdict[key])\n",
    "    \n",
    "    X = vec\n",
    "    y = df[\"rating\"]\n",
    "    y = y.astype('int')\n",
    "    clf = LinearSVC(random_state=0, tol=1e-5)\n",
    "    k_fold = StratifiedKFold(n_splits=10, shuffle=True, random_state=None)\n",
    "    score = cross_val_score(clf, X, y, cv=k_fold, scoring='accuracy')\n",
    "    print('%s - Mean accuracy: %f, Deviation: %f' % (key1,score.mean(),score.std()))\n",
    "    return score.mean()"
   ]
  },
  {
   "cell_type": "code",
   "execution_count": 23,
   "metadata": {},
   "outputs": [
    {
     "name": "stdout",
     "output_type": "stream",
     "text": [
      "3 Classes - Mean accuracy: 0.584241, Deviation: 0.009446\n",
      "3 Classes - Mean accuracy: 0.583865, Deviation: 0.006925\n",
      "3 Classes - Mean accuracy: 0.586677, Deviation: 0.014332\n",
      "3 Classes - Mean accuracy: 0.585371, Deviation: 0.007343\n",
      "3 Classes - Mean accuracy: 0.583304, Deviation: 0.007649\n",
      "3 Classes - Mean accuracy: 0.584803, Deviation: 0.012200\n",
      "3 Classes - Mean accuracy: 0.583491, Deviation: 0.010827\n",
      "3 Classes - Mean accuracy: 0.586304, Deviation: 0.012875\n",
      "3 Classes - Mean accuracy: 0.581234, Deviation: 0.010110\n",
      "3 Classes - Mean accuracy: 0.585744, Deviation: 0.010253\n",
      "Average of 10 runs: 0.584504\n",
      "\n",
      "2 Classes - Mean accuracy: 0.614087, Deviation: 0.035288\n",
      "2 Classes - Mean accuracy: 0.619337, Deviation: 0.021753\n",
      "2 Classes - Mean accuracy: 0.607922, Deviation: 0.027423\n",
      "2 Classes - Mean accuracy: 0.625054, Deviation: 0.029815\n",
      "2 Classes - Mean accuracy: 0.620285, Deviation: 0.040342\n",
      "2 Classes - Mean accuracy: 0.619337, Deviation: 0.022772\n",
      "2 Classes - Mean accuracy: 0.623614, Deviation: 0.028088\n",
      "2 Classes - Mean accuracy: 0.622679, Deviation: 0.028604\n",
      "2 Classes - Mean accuracy: 0.619827, Deviation: 0.020144\n",
      "2 Classes - Mean accuracy: 0.621722, Deviation: 0.026384\n",
      "Average of 10 runs: 0.619386\n",
      "\n",
      "2 Mixed Classes - Mean accuracy: 0.561913, Deviation: 0.013799\n",
      "2 Mixed Classes - Mean accuracy: 0.558160, Deviation: 0.013705\n",
      "2 Mixed Classes - Mean accuracy: 0.558537, Deviation: 0.011437\n",
      "2 Mixed Classes - Mean accuracy: 0.565112, Deviation: 0.017581\n",
      "2 Mixed Classes - Mean accuracy: 0.560228, Deviation: 0.017715\n",
      "2 Mixed Classes - Mean accuracy: 0.558720, Deviation: 0.014139\n",
      "2 Mixed Classes - Mean accuracy: 0.563415, Deviation: 0.015512\n",
      "2 Mixed Classes - Mean accuracy: 0.562480, Deviation: 0.012797\n",
      "2 Mixed Classes - Mean accuracy: 0.555161, Deviation: 0.024068\n",
      "2 Mixed Classes - Mean accuracy: 0.558533, Deviation: 0.020256\n",
      "Average of 10 runs: 0.560226\n",
      "\n"
     ]
    }
   ],
   "source": [
    "# Classify with IAF\n",
    "iterations = 10\n",
    "\n",
    "for key, df in dfs.items():\n",
    "    scores = list()\n",
    "    for i in range(iterations):\n",
    "        scores.append(classify_iaf(df,key))\n",
    "    avg = sum(scores)/len(scores)\n",
    "    print(\"Average of %d runs: %f\\n\" % (iterations,avg))"
   ]
  }
 ],
 "metadata": {
  "kernelspec": {
   "display_name": "Python 3",
   "language": "python",
   "name": "python3"
  },
  "language_info": {
   "codemirror_mode": {
    "name": "ipython",
    "version": 3
   },
   "file_extension": ".py",
   "mimetype": "text/x-python",
   "name": "python",
   "nbconvert_exporter": "python",
   "pygments_lexer": "ipython3",
   "version": "3.7.4"
  }
 },
 "nbformat": 4,
 "nbformat_minor": 2
}
