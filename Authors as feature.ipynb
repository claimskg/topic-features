{
 "cells": [
  {
   "cell_type": "code",
   "execution_count": 1,
   "metadata": {},
   "outputs": [],
   "source": [
    "# Load contractions model\n",
    "from pycontractions import Contractions\n",
    "\n",
    "cont = Contractions(api_key=\"glove-twitter-100\")\n",
    "cont.load_models()"
   ]
  },
  {
   "cell_type": "code",
   "execution_count": 24,
   "metadata": {},
   "outputs": [],
   "source": [
    "import pandas as pd\n",
    "import numpy as np\n",
    "import csv\n",
    "import re\n",
    "import math\n",
    "\n",
    "from sklearn.feature_extraction.text import TfidfVectorizer\n",
    "from sklearn.feature_extraction.text import CountVectorizer\n",
    "from sklearn.svm import LinearSVC\n",
    "from sklearn.model_selection import KFold\n",
    "from sklearn.model_selection import StratifiedKFold\n",
    "from sklearn.model_selection import cross_val_score"
   ]
  },
  {
   "cell_type": "markdown",
   "metadata": {},
   "source": [
    "### Load Data"
   ]
  },
  {
   "cell_type": "code",
   "execution_count": 46,
   "metadata": {},
   "outputs": [],
   "source": [
    "file = 'Data/c3.csv'\n",
    "df = pd.read_csv(file,sep=\",\")\n",
    "df = df.loc[df['rating'] != 'OTHER']"
   ]
  },
  {
   "cell_type": "code",
   "execution_count": 47,
   "metadata": {},
   "outputs": [],
   "source": [
    "authors_dict = dict()\n",
    "\n",
    "with open('Data/authors_classified.csv', 'r', newline='') as file:\n",
    "    reader = csv.reader(file)\n",
    "    next(reader)  # Skip header row.\n",
    "    for row in reader:\n",
    "        authors_dict[row[0]] = row[1]"
   ]
  },
  {
   "cell_type": "code",
   "execution_count": 48,
   "metadata": {},
   "outputs": [
    {
     "data": {
      "text/plain": [
       "(1410, 7)"
      ]
     },
     "execution_count": 48,
     "metadata": {},
     "output_type": "execute_result"
    }
   ],
   "source": [
    "df.shape\n",
    "#990 with snopes"
   ]
  },
  {
   "cell_type": "code",
   "execution_count": 49,
   "metadata": {},
   "outputs": [
    {
     "data": {
      "text/plain": [
       "(1355, 7)"
      ]
     },
     "execution_count": 49,
     "metadata": {},
     "output_type": "execute_result"
    }
   ],
   "source": [
    "df = df.loc[df['organization'] != 'snopes']\n",
    "df.shape\n",
    "#949 without snopes"
   ]
  },
  {
   "cell_type": "code",
   "execution_count": 50,
   "metadata": {},
   "outputs": [
    {
     "data": {
      "text/plain": [
       "(1221, 7)"
      ]
     },
     "execution_count": 50,
     "metadata": {},
     "output_type": "execute_result"
    }
   ],
   "source": [
    "ix=[i for i in df.index if ((df.at[i,'author'] in authors_dict.keys()))]\n",
    "df = df.loc[ix]\n",
    "df.shape\n",
    "#827 claims with classified authors"
   ]
  },
  {
   "cell_type": "code",
   "execution_count": 51,
   "metadata": {},
   "outputs": [],
   "source": [
    "df = df.reset_index(drop=True)"
   ]
  },
  {
   "cell_type": "markdown",
   "metadata": {},
   "source": [
    "### Add author type to df"
   ]
  },
  {
   "cell_type": "code",
   "execution_count": 52,
   "metadata": {},
   "outputs": [],
   "source": [
    "def add_type_column(df):\n",
    "    df['type'] = ''\n",
    "    for i in df.index:\n",
    "        df.at[i,'type'] = authors_dict[df.at[i,'author']]"
   ]
  },
  {
   "cell_type": "code",
   "execution_count": 53,
   "metadata": {},
   "outputs": [],
   "source": [
    "add_type_column(df)"
   ]
  },
  {
   "cell_type": "markdown",
   "metadata": {},
   "source": [
    "### Preprocess DF"
   ]
  },
  {
   "cell_type": "code",
   "execution_count": 54,
   "metadata": {},
   "outputs": [],
   "source": [
    "def preprocess_claim(sentence):\n",
    "    sentence = sentence.lower().strip()\n",
    "    translator = str.maketrans('’', \"'\", '')\n",
    "    sentence = sentence.translate(translator)\n",
    "    sentence = re.sub(\"u\\.s\\.\",\"united states\",sentence)\n",
    "    sentence = list(cont.expand_texts([sentence],precise=True))[0]\n",
    "    sentence = re.sub(\"[^a-zA-Z0-9_.’,]|(?<!\\d)\\.(?!\\d)|(?<!\\w)-(?!\\w)|(?<!\\d)\\,(?!\\d)\",' ',sentence)\n",
    "    sentence = re.sub(\",\",'',sentence)\n",
    "    sentence = re.sub(\"\\.\",'',sentence)\n",
    "    sentence = re.sub(\" a \",' ',sentence)\n",
    "    sentence = re.sub('\\s+', ' ', sentence).strip()\n",
    "    sentence = re.sub(\" s \",' ',sentence)\n",
    "    if sentence[0:5] == 'says ':\n",
    "        sentence = sentence[5:]\n",
    "    sentence = ' '.join([w for w in sentence.split() if len(w)>1])\n",
    "    return sentence\n",
    "\n",
    "def preprocess_df(df):\n",
    "    for index in df.index:\n",
    "        df.at[index,'text'] = preprocess_claim(df.at[index,'text'])\n",
    "        rating = df.at[index,'rating']\n",
    "        if rating == 'FALSE':\n",
    "            df.at[index,'rating'] = 0\n",
    "        if rating == 'TRUE':\n",
    "            df.at[index,'rating'] = 1\n",
    "        if rating == 'MIXTURE':\n",
    "            df.at[index,'rating'] = 2\n",
    "    return df"
   ]
  },
  {
   "cell_type": "code",
   "execution_count": 55,
   "metadata": {},
   "outputs": [],
   "source": [
    "df = preprocess_df(df)"
   ]
  },
  {
   "cell_type": "markdown",
   "metadata": {},
   "source": [
    "### DF Copies"
   ]
  },
  {
   "cell_type": "code",
   "execution_count": 56,
   "metadata": {},
   "outputs": [],
   "source": [
    "#All\n",
    "df1 = df.copy()\n",
    "\n",
    "#True-False\n",
    "df2 = df1.copy()\n",
    "df2 = df2.loc[(df2['rating'] == 0) | (df2['rating'] == 1)]\n",
    "df2 = df2.reset_index(drop=True)\n",
    "\n",
    "#Mixed\n",
    "df3 = df1.copy()\n",
    "for index in df3.index:\n",
    "    rating = df3.at[index,'rating']\n",
    "    if rating == 1:\n",
    "        df3.at[index,'rating'] = 0\n",
    "    if rating == 2:\n",
    "        df3.at[index,'rating'] = 1"
   ]
  },
  {
   "cell_type": "code",
   "execution_count": 57,
   "metadata": {},
   "outputs": [],
   "source": [
    "dfs = dict()\n",
    "dfs['3 Classes'] = df1\n",
    "dfs['2 Classes'] = df2\n",
    "dfs['2 Mixed Classes'] = df3"
   ]
  },
  {
   "cell_type": "markdown",
   "metadata": {},
   "source": [
    "### Classify without authors"
   ]
  },
  {
   "cell_type": "code",
   "execution_count": 58,
   "metadata": {},
   "outputs": [],
   "source": [
    "ngram = (1,3)\n",
    "mindf = 2\n",
    "\n",
    "def vectorize(df):\n",
    "    vectorizer = TfidfVectorizer(ngram_range=ngram,min_df=mindf)\n",
    "    vectors = vectorizer.fit_transform(df['text']).toarray()\n",
    "    return vectors"
   ]
  },
  {
   "cell_type": "code",
   "execution_count": 59,
   "metadata": {},
   "outputs": [],
   "source": [
    "def classify(df, key):\n",
    "    X = vectorize(df)\n",
    "    y = df[\"rating\"]\n",
    "    y = y.astype('int')\n",
    "    clf = LinearSVC(random_state=0, tol=1e-5)\n",
    "    k_fold = StratifiedKFold(n_splits=10, shuffle=True, random_state=None)\n",
    "    score = cross_val_score(clf, X, y, cv=k_fold, scoring='accuracy')\n",
    "    print('%s - Mean accuracy: %f, Deviation: %f' % (key,score.mean(),score.std()))\n",
    "    return score.mean()"
   ]
  },
  {
   "cell_type": "code",
   "execution_count": 60,
   "metadata": {},
   "outputs": [
    {
     "name": "stdout",
     "output_type": "stream",
     "text": [
      "3 Classes - Mean accuracy: 0.552110, Deviation: 0.039724\n",
      "3 Classes - Mean accuracy: 0.545464, Deviation: 0.036910\n",
      "3 Classes - Mean accuracy: 0.550194, Deviation: 0.028658\n",
      "3 Classes - Mean accuracy: 0.544852, Deviation: 0.038287\n",
      "3 Classes - Mean accuracy: 0.544080, Deviation: 0.045615\n",
      "3 Classes - Mean accuracy: 0.540526, Deviation: 0.039730\n",
      "3 Classes - Mean accuracy: 0.557001, Deviation: 0.041782\n",
      "3 Classes - Mean accuracy: 0.541446, Deviation: 0.033573\n",
      "3 Classes - Mean accuracy: 0.533182, Deviation: 0.032339\n",
      "3 Classes - Mean accuracy: 0.550571, Deviation: 0.036797\n",
      "Average of 10 runs: 0.545943\n",
      "\n",
      "2 Classes - Mean accuracy: 0.671988, Deviation: 0.056670\n",
      "2 Classes - Mean accuracy: 0.651270, Deviation: 0.031353\n",
      "2 Classes - Mean accuracy: 0.664332, Deviation: 0.061324\n",
      "2 Classes - Mean accuracy: 0.677939, Deviation: 0.047989\n",
      "2 Classes - Mean accuracy: 0.668868, Deviation: 0.042885\n",
      "2 Classes - Mean accuracy: 0.670682, Deviation: 0.048175\n",
      "2 Classes - Mean accuracy: 0.661139, Deviation: 0.049367\n",
      "2 Classes - Mean accuracy: 0.657039, Deviation: 0.037740\n",
      "2 Classes - Mean accuracy: 0.639985, Deviation: 0.056139\n",
      "2 Classes - Mean accuracy: 0.645573, Deviation: 0.074378\n",
      "Average of 10 runs: 0.660882\n",
      "\n",
      "2 Mixed Classes - Mean accuracy: 0.569491, Deviation: 0.058638\n",
      "2 Mixed Classes - Mean accuracy: 0.569257, Deviation: 0.030777\n",
      "2 Mixed Classes - Mean accuracy: 0.577333, Deviation: 0.034891\n",
      "2 Mixed Classes - Mean accuracy: 0.576527, Deviation: 0.047583\n",
      "2 Mixed Classes - Mean accuracy: 0.564271, Deviation: 0.038805\n",
      "2 Mixed Classes - Mean accuracy: 0.554441, Deviation: 0.042594\n",
      "2 Mixed Classes - Mean accuracy: 0.567583, Deviation: 0.032382\n",
      "2 Mixed Classes - Mean accuracy: 0.561905, Deviation: 0.053138\n",
      "2 Mixed Classes - Mean accuracy: 0.567637, Deviation: 0.032628\n",
      "2 Mixed Classes - Mean accuracy: 0.570997, Deviation: 0.049142\n",
      "Average of 10 runs: 0.567944\n",
      "\n"
     ]
    }
   ],
   "source": [
    "#Classify without authors\n",
    "iterations = 10\n",
    "\n",
    "for key, df in dfs.items():\n",
    "    scores = list()\n",
    "    for i in range(iterations):\n",
    "        scores.append(classify(df,key))\n",
    "\n",
    "    avg = sum(scores)/len(scores)\n",
    "    print(\"Average of %d runs: %f\\n\" % (iterations,avg))"
   ]
  },
  {
   "cell_type": "markdown",
   "metadata": {},
   "source": [
    "### Classify with authors"
   ]
  },
  {
   "cell_type": "code",
   "execution_count": 61,
   "metadata": {},
   "outputs": [],
   "source": [
    "def vectorize2(df):\n",
    "    vectorizer = TfidfVectorizer(ngram_range=ngram,min_df=mindf)\n",
    "    X = vectorizer.fit_transform(df['text']).toarray()\n",
    "    df_vectors = pd.DataFrame(X, columns = vectorizer.get_feature_names())\n",
    "    df_vectors['person'] = 0\n",
    "    df_vectors['democrat'] = 0\n",
    "    df_vectors['republican'] = 0\n",
    "    df_vectors['political'] = 0\n",
    "    df_vectors['journalist'] = 0\n",
    "    df_vectors['organization'] = 0\n",
    "    \n",
    "    for i in df.index:\n",
    "        if df.at[i,'type'] == 'Person':\n",
    "            df_vectors.at[i,'person'] = 1\n",
    "        if df.at[i,'type'] == 'Democrat':\n",
    "            df_vectors.at[i,'person'] = 1\n",
    "            df_vectors.at[i,'democrat'] = 1\n",
    "        if df.at[i,'type'] == 'Republican':\n",
    "            df_vectors.at[i,'person'] = 1\n",
    "            df_vectors.at[i,'republican'] = 1\n",
    "        if df.at[i,'type'] == 'Political':\n",
    "            df_vectors.at[i,'person'] = 1\n",
    "            df_vectors.at[i,'political'] = 1\n",
    "        if df.at[i,'type'] == 'Journalist':\n",
    "            df_vectors.at[i,'person'] = 1\n",
    "            df_vectors.at[i,'journalist'] = 1\n",
    "        if df.at[i,'type'] == 'Organization':\n",
    "            df_vectors.at[i,'organization'] = 1\n",
    "    return df_vectors.to_numpy()"
   ]
  },
  {
   "cell_type": "code",
   "execution_count": 62,
   "metadata": {},
   "outputs": [],
   "source": [
    "def classify2(df, key):\n",
    "    X = vectorize2(df)\n",
    "    y = df[\"rating\"]\n",
    "    y = y.astype('int')\n",
    "    clf = LinearSVC(random_state=0, tol=1e-5)\n",
    "    k_fold = StratifiedKFold(n_splits=10, shuffle=True, random_state=None)\n",
    "    score = cross_val_score(clf, X, y, cv=k_fold, scoring='accuracy')\n",
    "    print('%s - Mean accuracy: %f, Deviation: %f' % (('%s with authors'%key),score.mean(),score.std()))\n",
    "    return score.mean()"
   ]
  },
  {
   "cell_type": "code",
   "execution_count": 63,
   "metadata": {},
   "outputs": [
    {
     "name": "stdout",
     "output_type": "stream",
     "text": [
      "3 Classes with authors - Mean accuracy: 0.561039, Deviation: 0.039062\n",
      "3 Classes with authors - Mean accuracy: 0.559507, Deviation: 0.029582\n",
      "3 Classes with authors - Mean accuracy: 0.552909, Deviation: 0.018268\n",
      "3 Classes with authors - Mean accuracy: 0.560979, Deviation: 0.046072\n",
      "3 Classes with authors - Mean accuracy: 0.559171, Deviation: 0.043304\n",
      "3 Classes with authors - Mean accuracy: 0.558661, Deviation: 0.027131\n",
      "3 Classes with authors - Mean accuracy: 0.566690, Deviation: 0.021002\n",
      "3 Classes with authors - Mean accuracy: 0.556134, Deviation: 0.024517\n",
      "3 Classes with authors - Mean accuracy: 0.552929, Deviation: 0.030491\n",
      "3 Classes with authors - Mean accuracy: 0.557008, Deviation: 0.035970\n",
      "Average of 10 runs: 0.558503\n",
      "\n",
      "2 Classes with authors - Mean accuracy: 0.677939, Deviation: 0.071413\n",
      "2 Classes with authors - Mean accuracy: 0.691909, Deviation: 0.062814\n",
      "2 Classes with authors - Mean accuracy: 0.687990, Deviation: 0.057731\n",
      "2 Classes with authors - Mean accuracy: 0.682039, Deviation: 0.050606\n",
      "2 Classes with authors - Mean accuracy: 0.674456, Deviation: 0.063685\n",
      "2 Classes with authors - Mean accuracy: 0.683890, Deviation: 0.043103\n",
      "2 Classes with authors - Mean accuracy: 0.674419, Deviation: 0.049503\n",
      "2 Classes with authors - Mean accuracy: 0.658817, Deviation: 0.073252\n",
      "2 Classes with authors - Mean accuracy: 0.685668, Deviation: 0.037467\n",
      "2 Classes with authors - Mean accuracy: 0.691473, Deviation: 0.066061\n",
      "Average of 10 runs: 0.680860\n",
      "\n",
      "2 Mixed Classes with authors - Mean accuracy: 0.556752, Deviation: 0.051638\n",
      "2 Mixed Classes with authors - Mean accuracy: 0.560428, Deviation: 0.047497\n",
      "2 Mixed Classes with authors - Mean accuracy: 0.584099, Deviation: 0.031240\n",
      "2 Mixed Classes with authors - Mean accuracy: 0.577266, Deviation: 0.050500\n",
      "2 Mixed Classes with authors - Mean accuracy: 0.571682, Deviation: 0.026929\n",
      "2 Mixed Classes with authors - Mean accuracy: 0.571749, Deviation: 0.037637\n",
      "2 Mixed Classes with authors - Mean accuracy: 0.567469, Deviation: 0.044322\n",
      "2 Mixed Classes with authors - Mean accuracy: 0.591772, Deviation: 0.055485\n",
      "2 Mixed Classes with authors - Mean accuracy: 0.588009, Deviation: 0.035904\n",
      "2 Mixed Classes with authors - Mean accuracy: 0.561845, Deviation: 0.025322\n",
      "Average of 10 runs: 0.573107\n",
      "\n"
     ]
    }
   ],
   "source": [
    "#Classify with authors\n",
    "iterations = 10\n",
    "\n",
    "for key, df in dfs.items():\n",
    "    scores = list()\n",
    "    for i in range(iterations):\n",
    "        scores.append(classify2(df,key))\n",
    "\n",
    "    avg = sum(scores)/len(scores)\n",
    "    print(\"Average of %d runs: %f\\n\" % (iterations,avg))"
   ]
  },
  {
   "cell_type": "markdown",
   "metadata": {},
   "source": [
    "### Author IDF"
   ]
  },
  {
   "cell_type": "code",
   "execution_count": 64,
   "metadata": {},
   "outputs": [],
   "source": [
    "#Author IDF test\n",
    "def get_iaf_dict(ngram,mindf,df):\n",
    "    vectorizer = CountVectorizer(ngram_range=ngram,min_df=mindf)\n",
    "    vectorizer.fit(df['text'])\n",
    "    icfdict = {key:0 for key in vectorizer.get_feature_names()}\n",
    "    classes = df[\"rating\"].unique()\n",
    "\n",
    "    dfcldict = {key:df.loc[df[\"rating\"] == key] for key in classes}\n",
    "\n",
    "    for key in icfdict.keys():\n",
    "        for cl in classes:\n",
    "            dfcl = dfcldict[cl]\n",
    "            for claim in dfcl[\"text\"]:\n",
    "                text = ' ' + claim + ' '\n",
    "                if text.find(' ' + key + ' ') >= 0:\n",
    "                    icfdict[key] = icfdict[key] + 1\n",
    "                    break\n",
    "    return icfdict "
   ]
  },
  {
   "cell_type": "code",
   "execution_count": 65,
   "metadata": {},
   "outputs": [],
   "source": [
    "def classify_iaf(df, key1):\n",
    "    vectorizer = TfidfVectorizer(ngram_range=ngram,min_df=mindf)\n",
    "    iafdict = get_iaf_dict(ngram,mindf,df)\n",
    "    vec = vectorizer.fit_transform(df['text']).toarray()\n",
    "    \n",
    "    for key,value in vectorizer.vocabulary_.items():\n",
    "        vec[:,value] = vec[:,value] * math.log10(1 + iafdict[key])\n",
    "    \n",
    "    X = vec\n",
    "    y = df[\"rating\"]\n",
    "    y = y.astype('int')\n",
    "    clf = LinearSVC(random_state=0, tol=1e-5)\n",
    "    k_fold = StratifiedKFold(n_splits=10, shuffle=True, random_state=None)\n",
    "    score = cross_val_score(clf, X, y, cv=k_fold, scoring='accuracy')\n",
    "    print('%s - Mean accuracy: %f, Deviation: %f' % (key1,score.mean(),score.std()))\n",
    "    return score.mean()"
   ]
  },
  {
   "cell_type": "code",
   "execution_count": 66,
   "metadata": {},
   "outputs": [
    {
     "name": "stdout",
     "output_type": "stream",
     "text": [
      "3 Classes - Mean accuracy: 0.546291, Deviation: 0.017980\n",
      "3 Classes - Mean accuracy: 0.544504, Deviation: 0.022676\n",
      "3 Classes - Mean accuracy: 0.540559, Deviation: 0.019115\n",
      "3 Classes - Mean accuracy: 0.545390, Deviation: 0.025491\n",
      "3 Classes - Mean accuracy: 0.542111, Deviation: 0.023913\n",
      "3 Classes - Mean accuracy: 0.552869, Deviation: 0.015710\n",
      "3 Classes - Mean accuracy: 0.540573, Deviation: 0.026896\n",
      "3 Classes - Mean accuracy: 0.546217, Deviation: 0.024594\n",
      "3 Classes - Mean accuracy: 0.545370, Deviation: 0.022037\n",
      "3 Classes - Mean accuracy: 0.555341, Deviation: 0.016834\n",
      "Average of 10 runs: 0.545923\n",
      "\n",
      "2 Classes - Mean accuracy: 0.630443, Deviation: 0.027360\n",
      "2 Classes - Mean accuracy: 0.619158, Deviation: 0.031507\n",
      "2 Classes - Mean accuracy: 0.620936, Deviation: 0.037442\n",
      "2 Classes - Mean accuracy: 0.638099, Deviation: 0.016486\n",
      "2 Classes - Mean accuracy: 0.626742, Deviation: 0.030022\n",
      "2 Classes - Mean accuracy: 0.626451, Deviation: 0.035316\n",
      "2 Classes - Mean accuracy: 0.622714, Deviation: 0.028425\n",
      "2 Classes - Mean accuracy: 0.630334, Deviation: 0.032601\n",
      "2 Classes - Mean accuracy: 0.628520, Deviation: 0.031472\n",
      "2 Classes - Mean accuracy: 0.635958, Deviation: 0.045489\n",
      "Average of 10 runs: 0.627935\n",
      "\n",
      "2 Mixed Classes - Mean accuracy: 0.537132, Deviation: 0.033298\n",
      "2 Mixed Classes - Mean accuracy: 0.524104, Deviation: 0.017671\n",
      "2 Mixed Classes - Mean accuracy: 0.520785, Deviation: 0.028200\n",
      "2 Mixed Classes - Mean accuracy: 0.510223, Deviation: 0.026983\n",
      "2 Mixed Classes - Mean accuracy: 0.526631, Deviation: 0.035563\n",
      "2 Mixed Classes - Mean accuracy: 0.513670, Deviation: 0.027929\n",
      "2 Mixed Classes - Mean accuracy: 0.506279, Deviation: 0.031739\n",
      "2 Mixed Classes - Mean accuracy: 0.513569, Deviation: 0.027639\n",
      "2 Mixed Classes - Mean accuracy: 0.515141, Deviation: 0.028133\n",
      "2 Mixed Classes - Mean accuracy: 0.499661, Deviation: 0.031620\n",
      "Average of 10 runs: 0.516720\n",
      "\n"
     ]
    }
   ],
   "source": [
    "# Classify with IAF\n",
    "iterations = 10\n",
    "\n",
    "for key, df in dfs.items():\n",
    "    scores = list()\n",
    "    for i in range(iterations):\n",
    "        scores.append(classify_iaf(df,key))\n",
    "    avg = sum(scores)/len(scores)\n",
    "    print(\"Average of %d runs: %f\\n\" % (iterations,avg))"
   ]
  }
 ],
 "metadata": {
  "kernelspec": {
   "display_name": "Python 3",
   "language": "python",
   "name": "python3"
  },
  "language_info": {
   "codemirror_mode": {
    "name": "ipython",
    "version": 3
   },
   "file_extension": ".py",
   "mimetype": "text/x-python",
   "name": "python",
   "nbconvert_exporter": "python",
   "pygments_lexer": "ipython3",
   "version": "3.7.4"
  }
 },
 "nbformat": 4,
 "nbformat_minor": 2
}
