{
 "cells": [
  {
   "cell_type": "code",
   "execution_count": 1,
   "metadata": {},
   "outputs": [],
   "source": [
    "# Load contractions model\n",
    "from pycontractions import Contractions\n",
    "\n",
    "cont = Contractions(api_key=\"glove-twitter-100\")\n",
    "cont.load_models()"
   ]
  },
  {
   "cell_type": "code",
   "execution_count": 2,
   "metadata": {},
   "outputs": [],
   "source": [
    "import pandas as pd\n",
    "import numpy as np\n",
    "import csv\n",
    "import re\n",
    "\n",
    "from sklearn.feature_extraction.text import TfidfVectorizer\n",
    "from sklearn.svm import LinearSVC\n",
    "from sklearn.model_selection import KFold\n",
    "from sklearn.model_selection import StratifiedKFold\n",
    "from sklearn.model_selection import cross_val_score"
   ]
  },
  {
   "cell_type": "markdown",
   "metadata": {},
   "source": [
    "### Load Data"
   ]
  },
  {
   "cell_type": "code",
   "execution_count": 3,
   "metadata": {},
   "outputs": [],
   "source": [
    "file = 'Data/c3.csv'\n",
    "df = pd.read_csv(file,sep=\",\")\n",
    "df = df.loc[df['rating'] != 'OTHER']"
   ]
  },
  {
   "cell_type": "code",
   "execution_count": 4,
   "metadata": {},
   "outputs": [],
   "source": [
    "authors_dict = dict()\n",
    "\n",
    "with open('Data/authors_classified.csv', 'r', newline='') as file:\n",
    "    reader = csv.reader(file)\n",
    "    next(reader)  # Skip header row.\n",
    "    for row in reader:\n",
    "        authors_dict[row[0]] = row[1]"
   ]
  },
  {
   "cell_type": "code",
   "execution_count": 5,
   "metadata": {},
   "outputs": [
    {
     "data": {
      "text/plain": [
       "(1410, 7)"
      ]
     },
     "execution_count": 5,
     "metadata": {},
     "output_type": "execute_result"
    }
   ],
   "source": [
    "df.shape\n",
    "#990 with snopes"
   ]
  },
  {
   "cell_type": "code",
   "execution_count": 6,
   "metadata": {},
   "outputs": [
    {
     "data": {
      "text/plain": [
       "(1355, 7)"
      ]
     },
     "execution_count": 6,
     "metadata": {},
     "output_type": "execute_result"
    }
   ],
   "source": [
    "df = df.loc[df['organization'] != 'snopes']\n",
    "df.shape\n",
    "#949 without snopes"
   ]
  },
  {
   "cell_type": "code",
   "execution_count": 7,
   "metadata": {},
   "outputs": [
    {
     "data": {
      "text/plain": [
       "(1221, 7)"
      ]
     },
     "execution_count": 7,
     "metadata": {},
     "output_type": "execute_result"
    }
   ],
   "source": [
    "ix=[i for i in df.index if ((df.at[i,'author'] in authors_dict.keys()))]\n",
    "df = df.loc[ix]\n",
    "df.shape\n",
    "#827 claims with classified authors"
   ]
  },
  {
   "cell_type": "code",
   "execution_count": 8,
   "metadata": {},
   "outputs": [],
   "source": [
    "df = df.reset_index(drop=True)"
   ]
  },
  {
   "cell_type": "markdown",
   "metadata": {},
   "source": [
    "### Add author type to df"
   ]
  },
  {
   "cell_type": "code",
   "execution_count": 9,
   "metadata": {},
   "outputs": [],
   "source": [
    "def add_type_column(df):\n",
    "    df['type'] = ''\n",
    "    for i in df.index:\n",
    "        df.at[i,'type'] = authors_dict[df.at[i,'author']]"
   ]
  },
  {
   "cell_type": "code",
   "execution_count": 10,
   "metadata": {},
   "outputs": [],
   "source": [
    "add_type_column(df)"
   ]
  },
  {
   "cell_type": "markdown",
   "metadata": {},
   "source": [
    "### Preprocess DF"
   ]
  },
  {
   "cell_type": "code",
   "execution_count": 11,
   "metadata": {},
   "outputs": [],
   "source": [
    "def preprocess_claim(sentence):\n",
    "    sentence = sentence.lower().strip()\n",
    "    translator = str.maketrans('’', \"'\", '')\n",
    "    sentence = sentence.translate(translator)\n",
    "    sentence = re.sub(\"u\\.s\\.\",\"united states\",sentence)\n",
    "    sentence = list(cont.expand_texts([sentence],precise=True))[0]\n",
    "    sentence = re.sub(\"[^a-zA-Z0-9_.’,]|(?<!\\d)\\.(?!\\d)|(?<!\\w)-(?!\\w)|(?<!\\d)\\,(?!\\d)\",' ',sentence)\n",
    "    sentence = re.sub(\",\",'',sentence)\n",
    "    sentence = re.sub(\"\\.\",'',sentence)\n",
    "    sentence = re.sub(\" a \",' ',sentence)\n",
    "    sentence = re.sub('\\s+', ' ', sentence).strip()\n",
    "    sentence = re.sub(\" s \",' ',sentence)\n",
    "    if sentence[0:5] == 'says ':\n",
    "        sentence = sentence[5:]\n",
    "    sentence = ' '.join([w for w in sentence.split() if len(w)>1])\n",
    "    return sentence\n",
    "\n",
    "def preprocess_df(df):\n",
    "    for index in df.index:\n",
    "        df.at[index,'text'] = preprocess_claim(df.at[index,'text'])\n",
    "        rating = df.at[index,'rating']\n",
    "        if rating == 'FALSE':\n",
    "            df.at[index,'rating'] = 0\n",
    "        if rating == 'TRUE':\n",
    "            df.at[index,'rating'] = 1\n",
    "        if rating == 'MIXTURE':\n",
    "            df.at[index,'rating'] = 2\n",
    "    return df"
   ]
  },
  {
   "cell_type": "code",
   "execution_count": 12,
   "metadata": {},
   "outputs": [],
   "source": [
    "df = preprocess_df(df)"
   ]
  },
  {
   "cell_type": "markdown",
   "metadata": {},
   "source": [
    "### DF Copies"
   ]
  },
  {
   "cell_type": "code",
   "execution_count": 13,
   "metadata": {},
   "outputs": [],
   "source": [
    "#All\n",
    "df1 = df.copy()\n",
    "\n",
    "#True-False\n",
    "df2 = df1.copy()\n",
    "df2 = df2.loc[(df2['rating'] == 0) | (df2['rating'] == 1)]\n",
    "df2 = df2.reset_index(drop=True)\n",
    "\n",
    "#Mixed\n",
    "df3 = df1.copy()\n",
    "for index in df3.index:\n",
    "    rating = df3.at[index,'rating']\n",
    "    if rating == 1:\n",
    "        df3.at[index,'rating'] = 0\n",
    "    if rating == 2:\n",
    "        df3.at[index,'rating'] = 1"
   ]
  },
  {
   "cell_type": "code",
   "execution_count": 14,
   "metadata": {},
   "outputs": [],
   "source": [
    "dfs = dict()\n",
    "dfs['3 Classes'] = df1\n",
    "dfs['2 Classes'] = df2\n",
    "dfs['2 Mixed Classes'] = df3"
   ]
  },
  {
   "cell_type": "markdown",
   "metadata": {},
   "source": [
    "### Classify without authors"
   ]
  },
  {
   "cell_type": "code",
   "execution_count": 15,
   "metadata": {},
   "outputs": [],
   "source": [
    "ngram = (1,3)\n",
    "mindf = 2\n",
    "\n",
    "def vectorize(df):\n",
    "    vectorizer = TfidfVectorizer(ngram_range=ngram,min_df=mindf)\n",
    "    vectors = vectorizer.fit_transform(df['text']).toarray()\n",
    "    return vectors"
   ]
  },
  {
   "cell_type": "code",
   "execution_count": 16,
   "metadata": {},
   "outputs": [],
   "source": [
    "def classify(df, key):\n",
    "    X = vectorize(df)\n",
    "    y = df[\"rating\"]\n",
    "    y = y.astype('int')\n",
    "    clf = LinearSVC(random_state=0, tol=1e-5)\n",
    "    k_fold = StratifiedKFold(n_splits=10, shuffle=True, random_state=None)\n",
    "    score = cross_val_score(clf, X, y, cv=k_fold, scoring='accuracy')\n",
    "    print('%s - Mean accuracy: %f, Deviation: %f' % (key,score.mean(),score.std()))\n",
    "    return score.mean()"
   ]
  },
  {
   "cell_type": "code",
   "execution_count": 17,
   "metadata": {},
   "outputs": [
    {
     "name": "stdout",
     "output_type": "stream",
     "text": [
      "3 Classes - Mean accuracy: 0.542185, Deviation: 0.032067\n",
      "3 Classes - Mean accuracy: 0.552002, Deviation: 0.038817\n",
      "3 Classes - Mean accuracy: 0.551296, Deviation: 0.025852\n",
      "3 Classes - Mean accuracy: 0.546149, Deviation: 0.038567\n",
      "3 Classes - Mean accuracy: 0.560253, Deviation: 0.032905\n",
      "3 Classes - Mean accuracy: 0.563344, Deviation: 0.033419\n",
      "3 Classes - Mean accuracy: 0.547776, Deviation: 0.047482\n",
      "3 Classes - Mean accuracy: 0.543744, Deviation: 0.027199\n",
      "3 Classes - Mean accuracy: 0.546190, Deviation: 0.032115\n",
      "3 Classes - Mean accuracy: 0.550335, Deviation: 0.028959\n",
      "Average of 10 runs: 0.550327\n",
      "\n",
      "2 Classes - Mean accuracy: 0.649456, Deviation: 0.040649\n",
      "2 Classes - Mean accuracy: 0.649601, Deviation: 0.051296\n",
      "2 Classes - Mean accuracy: 0.666473, Deviation: 0.079761\n",
      "2 Classes - Mean accuracy: 0.653374, Deviation: 0.051572\n",
      "2 Classes - Mean accuracy: 0.659325, Deviation: 0.049521\n",
      "2 Classes - Mean accuracy: 0.672170, Deviation: 0.047957\n",
      "2 Classes - Mean accuracy: 0.666691, Deviation: 0.038085\n",
      "2 Classes - Mean accuracy: 0.653120, Deviation: 0.055054\n",
      "2 Classes - Mean accuracy: 0.672279, Deviation: 0.040393\n",
      "2 Classes - Mean accuracy: 0.660922, Deviation: 0.051064\n",
      "Average of 10 runs: 0.660341\n",
      "\n",
      "2 Mixed Classes - Mean accuracy: 0.575989, Deviation: 0.058179\n",
      "2 Mixed Classes - Mean accuracy: 0.573040, Deviation: 0.056829\n",
      "2 Mixed Classes - Mean accuracy: 0.568383, Deviation: 0.040455\n",
      "2 Mixed Classes - Mean accuracy: 0.559513, Deviation: 0.047011\n",
      "2 Mixed Classes - Mean accuracy: 0.556114, Deviation: 0.027423\n",
      "2 Mixed Classes - Mean accuracy: 0.564157, Deviation: 0.042559\n",
      "2 Mixed Classes - Mean accuracy: 0.555315, Deviation: 0.045334\n",
      "2 Mixed Classes - Mean accuracy: 0.570049, Deviation: 0.049053\n",
      "2 Mixed Classes - Mean accuracy: 0.561825, Deviation: 0.037221\n",
      "2 Mixed Classes - Mean accuracy: 0.565238, Deviation: 0.030147\n",
      "Average of 10 runs: 0.564962\n",
      "\n"
     ]
    }
   ],
   "source": [
    "#Classify without authors\n",
    "iterations = 10\n",
    "\n",
    "for key, df in dfs.items():\n",
    "    scores = list()\n",
    "    for i in range(iterations):\n",
    "        scores.append(classify(df,key))\n",
    "\n",
    "    avg = sum(scores)/len(scores)\n",
    "    print(\"Average of %d runs: %f\\n\" % (iterations,avg))"
   ]
  },
  {
   "cell_type": "markdown",
   "metadata": {},
   "source": [
    "### Classify with authors"
   ]
  },
  {
   "cell_type": "code",
   "execution_count": 18,
   "metadata": {},
   "outputs": [],
   "source": [
    "def vectorize2(df):\n",
    "    vectorizer = TfidfVectorizer(ngram_range=ngram,min_df=mindf)\n",
    "    X = vectorizer.fit_transform(df['text']).toarray()\n",
    "    df_vectors = pd.DataFrame(X, columns = vectorizer.get_feature_names())\n",
    "    df_vectors['person'] = 0\n",
    "    df_vectors['democrat'] = 0\n",
    "    df_vectors['republican'] = 0\n",
    "    df_vectors['political'] = 0\n",
    "    df_vectors['journalist'] = 0\n",
    "    df_vectors['organization'] = 0\n",
    "    \n",
    "    for i in df.index:\n",
    "        if df.at[i,'type'] == 'Person':\n",
    "            df_vectors.at[i,'person'] = 1\n",
    "        if df.at[i,'type'] == 'Democrat':\n",
    "            df_vectors.at[i,'person'] = 1\n",
    "            df_vectors.at[i,'democrat'] = 1\n",
    "        if df.at[i,'type'] == 'Republican':\n",
    "            df_vectors.at[i,'person'] = 1\n",
    "            df_vectors.at[i,'republican'] = 1\n",
    "        if df.at[i,'type'] == 'Political':\n",
    "            df_vectors.at[i,'person'] = 1\n",
    "            df_vectors.at[i,'political'] = 1\n",
    "        if df.at[i,'type'] == 'Journalist':\n",
    "            df_vectors.at[i,'person'] = 1\n",
    "            df_vectors.at[i,'journalist'] = 1\n",
    "        if df.at[i,'type'] == 'Organization':\n",
    "            df_vectors.at[i,'organization'] = 1\n",
    "    return df_vectors.to_numpy()"
   ]
  },
  {
   "cell_type": "code",
   "execution_count": 19,
   "metadata": {},
   "outputs": [],
   "source": [
    "def classify2(df, key):\n",
    "    X = vectorize2(df)\n",
    "    y = df[\"rating\"]\n",
    "    y = y.astype('int')\n",
    "    clf = LinearSVC(random_state=0, tol=1e-5)\n",
    "    k_fold = StratifiedKFold(n_splits=10, shuffle=True, random_state=None)\n",
    "    score = cross_val_score(clf, X, y, cv=k_fold, scoring='accuracy')\n",
    "    print('%s - Mean accuracy: %f, Deviation: %f' % (('%s with authors'%key),score.mean(),score.std()))\n",
    "    return score.mean()"
   ]
  },
  {
   "cell_type": "code",
   "execution_count": 20,
   "metadata": {},
   "outputs": [
    {
     "name": "stdout",
     "output_type": "stream",
     "text": [
      "3 Classes with authors - Mean accuracy: 0.577461, Deviation: 0.034803\n",
      "3 Classes with authors - Mean accuracy: 0.548750, Deviation: 0.025128\n",
      "3 Classes with authors - Mean accuracy: 0.554394, Deviation: 0.032575\n",
      "3 Classes with authors - Mean accuracy: 0.552076, Deviation: 0.041307\n",
      "3 Classes with authors - Mean accuracy: 0.568416, Deviation: 0.022063\n",
      "3 Classes with authors - Mean accuracy: 0.556900, Deviation: 0.024237\n",
      "3 Classes with authors - Mean accuracy: 0.557733, Deviation: 0.040591\n",
      "3 Classes with authors - Mean accuracy: 0.561818, Deviation: 0.043977\n",
      "3 Classes with authors - Mean accuracy: 0.551921, Deviation: 0.023388\n",
      "3 Classes with authors - Mean accuracy: 0.562558, Deviation: 0.040100\n",
      "Average of 10 runs: 0.559203\n",
      "\n",
      "2 Classes with authors - Mean accuracy: 0.693469, Deviation: 0.070502\n",
      "2 Classes with authors - Mean accuracy: 0.668433, Deviation: 0.070273\n",
      "2 Classes with authors - Mean accuracy: 0.697279, Deviation: 0.060141\n",
      "2 Classes with authors - Mean accuracy: 0.687591, Deviation: 0.043693\n",
      "2 Classes with authors - Mean accuracy: 0.691509, Deviation: 0.059577\n",
      "2 Classes with authors - Mean accuracy: 0.687591, Deviation: 0.039093\n",
      "2 Classes with authors - Mean accuracy: 0.678120, Deviation: 0.064076\n",
      "2 Classes with authors - Mean accuracy: 0.687482, Deviation: 0.049791\n",
      "2 Classes with authors - Mean accuracy: 0.695247, Deviation: 0.056477\n",
      "2 Classes with authors - Mean accuracy: 0.685486, Deviation: 0.052575\n",
      "Average of 10 runs: 0.687221\n",
      "\n",
      "2 Mixed Classes with authors - Mean accuracy: 0.568463, Deviation: 0.039534\n",
      "2 Mixed Classes with authors - Mean accuracy: 0.568315, Deviation: 0.055027\n",
      "2 Mixed Classes with authors - Mean accuracy: 0.580000, Deviation: 0.046842\n",
      "2 Mixed Classes with authors - Mean accuracy: 0.560064, Deviation: 0.054797\n",
      "2 Mixed Classes with authors - Mean accuracy: 0.576567, Deviation: 0.032493\n",
      "2 Mixed Classes with authors - Mean accuracy: 0.580652, Deviation: 0.038978\n",
      "2 Mixed Classes with authors - Mean accuracy: 0.570741, Deviation: 0.029248\n",
      "2 Mixed Classes with authors - Mean accuracy: 0.567684, Deviation: 0.034590\n",
      "2 Mixed Classes with authors - Mean accuracy: 0.575754, Deviation: 0.028218\n",
      "2 Mixed Classes with authors - Mean accuracy: 0.569942, Deviation: 0.027592\n",
      "Average of 10 runs: 0.571818\n",
      "\n"
     ]
    }
   ],
   "source": [
    "#Classify with authors\n",
    "iterations = 10\n",
    "\n",
    "for key, df in dfs.items():\n",
    "    scores = list()\n",
    "    for i in range(iterations):\n",
    "        scores.append(classify2(df,key))\n",
    "\n",
    "    avg = sum(scores)/len(scores)\n",
    "    print(\"Average of %d runs: %f\\n\" % (iterations,avg))"
   ]
  }
 ],
 "metadata": {
  "kernelspec": {
   "display_name": "Python 3",
   "language": "python",
   "name": "python3"
  },
  "language_info": {
   "codemirror_mode": {
    "name": "ipython",
    "version": 3
   },
   "file_extension": ".py",
   "mimetype": "text/x-python",
   "name": "python",
   "nbconvert_exporter": "python",
   "pygments_lexer": "ipython3",
   "version": "3.7.4"
  }
 },
 "nbformat": 4,
 "nbformat_minor": 2
}
