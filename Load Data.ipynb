{
 "cells": [
  {
   "cell_type": "code",
   "execution_count": 37,
   "metadata": {},
   "outputs": [],
   "source": [
    "import pickle\n",
    "import nltk\n",
    "import csv\n",
    "\n",
    "from nltk.corpus import wordnet\n",
    "from nltk.stem import WordNetLemmatizer\n",
    "from rdflib import Graph"
   ]
  },
  {
   "cell_type": "markdown",
   "metadata": {},
   "source": [
    "### Load Data"
   ]
  },
  {
   "cell_type": "code",
   "execution_count": 1,
   "metadata": {},
   "outputs": [
    {
     "data": {
      "text/plain": [
       "6606074"
      ]
     },
     "execution_count": 1,
     "metadata": {},
     "output_type": "execute_result"
    }
   ],
   "source": [
    "g = Graph()\n",
    "g.parse(\"Data/claimskg_v1.0.ttl\", format=\"turtle\")"
   ]
  },
  {
   "cell_type": "markdown",
   "metadata": {},
   "source": [
    "### Save graph as PKL"
   ]
  },
  {
   "cell_type": "code",
   "execution_count": 5,
   "metadata": {},
   "outputs": [],
   "source": [
    "filename = 'Data/ClaimsKG.pkl'\n",
    "pickle.dump(g, open(filename, 'wb'))"
   ]
  },
  {
   "cell_type": "markdown",
   "metadata": {},
   "source": [
    "### Load PKL"
   ]
  },
  {
   "cell_type": "code",
   "execution_count": 2,
   "metadata": {},
   "outputs": [],
   "source": [
    "g2 = pickle.load(open(\"Data/ClaimsKG.pkl\", 'rb'))"
   ]
  },
  {
   "cell_type": "markdown",
   "metadata": {},
   "source": [
    "### Execute Query"
   ]
  },
  {
   "cell_type": "code",
   "execution_count": 8,
   "metadata": {},
   "outputs": [
    {
     "name": "stdout",
     "output_type": "stream",
     "text": [
      "ASP Article, barack obama\n",
      "Health Care,Immigration,Public Health\n",
      "Children\n",
      "Energy,Environment\n",
      "Corporations,Economy,Gays and Lesbians,State Finances,States\n",
      "Economy,Workers\n",
      "Bankruptcy,Debt,Federal Budget,Financial Regulation,Retirement\n",
      "Crime,Criminal Justice,Economy,Sexuality\n",
      "Income,Small Business,Taxes\n",
      "People\n",
      "Elections,Immigration,Redistricting\n",
      "Federal Budget,Government Efficiency\n",
      "Guns\n",
      "ASP Article, Not Necessarily The News\n",
      "Job Accomplishments,Stimulus\n",
      "Candidate Biography,Legal Issues\n",
      "fast food rumors, food, italy, mcdonald's\n",
      "Economy,Gays and Lesbians,Sexuality,States\n",
      "Economy,Jobs,Workers\n",
      "Elections\n",
      "Education,Poverty,State Budget,State government spending ,Taxes,Urban\n",
      "Elections,Transparency\n",
      "Crime\n",
      "ASP Article\n",
      "Debates,Elections\n",
      "Candidate Biography,Pundits\n",
      "emergency alert system, false flag, fcc, FEMA, hoboken train crash, viral videos\n",
      "barack obama, national anthem\n",
      "Crime,Jobs\n",
      "Trade\n",
      "cancer, health, reader suggestion, vaccination\n",
      "Health Care\n",
      "Candidate Biography,Corrections and Updates\n",
      "ASP Article, Pending Legislation\n",
      "Crime,Criminal Justice,Drugs\n",
      "football, super bowl, Traffic Accidents\n",
      "Immigration,Terrorism\n",
      "Education\n",
      "church of lucifer, colombia, satanism\n",
      "Job Accomplishments,Public Service\n",
      "Candidate Biography,Obama Birth Certificate\n",
      "fake news, quotes, sandra bullock, us world now\n",
      "ASP Article, Insurance Inanity\n",
      "Foreign Policy\n",
      "rashida tlaib\n",
      "Climate Change,Foreign Policy\n",
      "Economy,Jobs\n",
      "ASP Article, pornography\n",
      "Energy,Florida Amendments\n",
      "Legal Issues\n",
      "Job Accomplishments,State Budget,Voting Record\n",
      "classic pics, fauxtography, martin luther king\n",
      "Corrections and Updates,Education,Gays and Lesbians\n",
      "christmas, war on christmas\n",
      "police shootings\n",
      "2nd amendment, george washington\n",
      "Economy,History,Jobs,States\n",
      "animals, leatherback sea turtle\n",
      "Education,State Budget\n",
      "Legal Issues,States\n",
      "Elections,Message Machine 2012\n",
      "drug rumors, drugs, marijuana\n",
      "Abortion\n",
      "Climate Change,Corrections and Updates,Energy\n",
      "Guns,Legal Issues\n",
      "Economy,Federal Budget,Pundits\n",
      "department of education, donald trump, trump administration\n",
      "warren buffett\n",
      "Children,Crime,Education\n",
      "State Budget,State Finances,Transportation\n",
      "ASP Article, Medical Appeals\n",
      "Veterans\n",
      "Campaign Finance,Financial Regulation,Message Machine 2012,Voting Record\n",
      "eruption, geology, supereruption, volcano, yellowstone\n",
      "antifa, protest, sturgis\n",
      "Immigration\n",
      "Crime Prevention Tips, crime warnings\n",
      "ASP Article, putin endorses sanders\n",
      "Welfare\n",
      "education, police\n",
      "alternative health, food, natural news\n",
      "hurricane maria, mike cernovich, puerto rico, san juan, trump administration\n",
      "american flag, national report, target, transgender\n",
      "Supreme Court\n",
      "Crime,Government Efficiency,Job Accomplishments\n",
      "Candidate Biography\n",
      "Congress,Federal Budget\n",
      "Children,Education,Poverty\n",
      "coded symbols, monster jam, pedophile, pedophile code, pedophile symbols, WFLA\n",
      "Deficit,Federal Budget\n",
      "Economy,Pundits,Welfare\n",
      "latrines, sanitation, school\n",
      "ANC, government, health, sanitation, water\n",
      "fake news, macaulay culkin, neon nettle, neonnettle, news punch, newspunch, newspunch.com, pedophilia, satanism, your news wire, yournewswire, yournewswire.com\n",
      "Corrections and Updates,Taxes\n",
      "Israel,Polls and Public Opinion\n",
      "Economy,Energy,Environment,Jobs\n",
      "Poverty\n",
      "Education,Gays and Lesbians,Kagan Nomination,Military,Supreme Court\n",
      "Retirement,Social Security,State Budget\n"
     ]
    }
   ],
   "source": [
    "qres = g2.query(\n",
    "    \"\"\"PREFIX schema: <http://schema.org/>\n",
    "       PREFIX rdfs: <http://www.w3.org/2000/01/rdf-schema#>\n",
    "\n",
    "       SELECT DISTINCT ?keywords WHERE {\n",
    "          ?claim a schema:CreativeWork.\n",
    "          ?claim schema:keywords ?keywords\n",
    "       } LIMIT 100\"\"\")\n",
    "\n",
    "for row in qres:\n",
    "    print(\"%s\" % row)"
   ]
  },
  {
   "cell_type": "markdown",
   "metadata": {},
   "source": [
    "### Lemmatize keywords and save as CSV"
   ]
  },
  {
   "cell_type": "code",
   "execution_count": 21,
   "metadata": {},
   "outputs": [],
   "source": [
    "def get_wordnet_pos(word):\n",
    "    \"\"\"Map POS tag to first character lemmatize() accepts\"\"\"\n",
    "    tag = nltk.pos_tag([word])[0][1][0].upper()\n",
    "    tag_dict = {\"J\": wordnet.ADJ,\n",
    "                \"N\": wordnet.NOUN,\n",
    "                \"V\": wordnet.VERB,\n",
    "                \"R\": wordnet.ADV}\n",
    "    return tag_dict.get(tag, wordnet.NOUN)\n",
    "\n",
    "def lemmatize_sentence(sentence):\n",
    "    lemmatizer = WordNetLemmatizer()\n",
    "    return \" \".join([lemmatizer.lemmatize(w, get_wordnet_pos(w)) for w in nltk.word_tokenize(sentence)]).lower().strip()"
   ]
  },
  {
   "cell_type": "code",
   "execution_count": 54,
   "metadata": {},
   "outputs": [],
   "source": [
    "def get_claims(g):\n",
    "    qres = g.query(\n",
    "    \"\"\"\n",
    "    PREFIX schema: <http://schema.org/>\n",
    "    PREFIX rdfs: <http://www.w3.org/2000/01/rdf-schema#>\n",
    "\n",
    "    SELECT DISTINCT ?claim ?text ?date ?keywords ?orgName ?ratingName WHERE {\n",
    "        ?claimReview schema:itemReviewed ?claim.\n",
    "        ?claimReview schema:reviewRating ?rating.\n",
    "        ?claimReview schema:author ?org.\n",
    "        ?org schema:name ?orgName.\n",
    "        ?rating schema:author <http://data.gesis.org/claimskg/organization/claimskg>.\n",
    "        ?rating schema:alternateName ?ratingName.\n",
    "        ?claim a schema:CreativeWork.\n",
    "        ?claim schema:keywords ?keywords.\n",
    "        ?claim schema:text ?text\n",
    "        OPTIONAL {?claim schema:datePublished ?date}.\n",
    "    } ORDER BY DESC (?date) ASC(?claim)\n",
    "    \"\"\")\n",
    "    return qres"
   ]
  },
  {
   "cell_type": "code",
   "execution_count": 55,
   "metadata": {},
   "outputs": [],
   "source": [
    "qres = get_claims(g2)"
   ]
  },
  {
   "cell_type": "code",
   "execution_count": 57,
   "metadata": {},
   "outputs": [],
   "source": [
    "rows = list()\n",
    "header = [\"uri\",\"date\",\"claim\",\"keywords\",\"organization\",\"rating\"]\n",
    "rows.append(header)\n",
    "\n",
    "for row in qres:\n",
    "    claim = row.claim\n",
    "    date = row.date\n",
    "    keywords = \",\".join([lemmatize_sentence(x) for x in row.keywords.split(',')])\n",
    "    orgName = row.orgName.value\n",
    "    ratingName = row.ratingName.value\n",
    "    text = row.text.value\n",
    "    \n",
    "    if date == None:\n",
    "        date = ''\n",
    "    else:\n",
    "        date = date.value.strftime(\"%m/%d/%Y\")\n",
    "        \n",
    "    claim_row = [claim,date,text,keywords,orgName,ratingName]\n",
    "    rows.append(claim_row)\n",
    "\n",
    "with open('Data/data.csv','w',newline='',encoding=\"utf-8\") as writeFile:\n",
    "    writer = csv.writer(writeFile,delimiter=';')\n",
    "    writer.writerows(rows)\n",
    "    writeFile.close()"
   ]
  }
 ],
 "metadata": {
  "kernelspec": {
   "display_name": "Python 3",
   "language": "python",
   "name": "python3"
  },
  "language_info": {
   "codemirror_mode": {
    "name": "ipython",
    "version": 3
   },
   "file_extension": ".py",
   "mimetype": "text/x-python",
   "name": "python",
   "nbconvert_exporter": "python",
   "pygments_lexer": "ipython3",
   "version": "3.7.2"
  }
 },
 "nbformat": 4,
 "nbformat_minor": 2
}
