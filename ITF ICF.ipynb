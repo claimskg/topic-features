{
 "cells": [
  {
   "cell_type": "code",
   "execution_count": 1,
   "metadata": {},
   "outputs": [],
   "source": [
    "# Load contractions model\n",
    "from pycontractions import Contractions\n",
    "\n",
    "cont = Contractions(api_key=\"glove-twitter-100\")\n",
    "cont.load_models()"
   ]
  },
  {
   "cell_type": "markdown",
   "metadata": {},
   "source": [
    "### Load Data"
   ]
  },
  {
   "cell_type": "code",
   "execution_count": 2,
   "metadata": {},
   "outputs": [],
   "source": [
    "import pandas as pd\n",
    "import numpy as np\n",
    "import math\n",
    "\n",
    "file1 = 'Data/c1.csv'\n",
    "file2 = 'Data/c2.csv'\n",
    "file3 = 'Data/c3.csv'\n",
    "file4 = 'Data/c4.csv'"
   ]
  },
  {
   "cell_type": "code",
   "execution_count": 3,
   "metadata": {},
   "outputs": [],
   "source": [
    "df1 = pd.read_csv(file1,sep=\",\")\n",
    "df2 = pd.read_csv(file2,sep=\",\")\n",
    "df3 = pd.read_csv(file3,sep=\",\")\n",
    "dfall = pd.read_csv(file4,sep=\",\")\n",
    "\n",
    "df1 = df1.loc[df1['rating'] != 'OTHER']\n",
    "df2 = df2.loc[df2['rating'] != 'OTHER']\n",
    "df3 = df3.loc[df3['rating'] != 'OTHER']\n",
    "dfall = dfall.loc[dfall['rating'] != 'OTHER']"
   ]
  },
  {
   "cell_type": "markdown",
   "metadata": {},
   "source": [
    "### Preprocess"
   ]
  },
  {
   "cell_type": "code",
   "execution_count": 4,
   "metadata": {},
   "outputs": [],
   "source": [
    "import re\n",
    "\n",
    "def preprocess_claim(sentence):\n",
    "    sentence = sentence.lower().strip()\n",
    "    translator = str.maketrans('’', \"'\", '')\n",
    "    sentence = sentence.translate(translator)\n",
    "    sentence = re.sub(\"u\\.s\\.\",\"united states\",sentence)\n",
    "    sentence = list(cont.expand_texts([sentence],precise=True))[0]\n",
    "    sentence = re.sub(\"[^a-zA-Z0-9_.’,]|(?<!\\d)\\.(?!\\d)|(?<!\\w)-(?!\\w)|(?<!\\d)\\,(?!\\d)\",' ',sentence)\n",
    "    sentence = re.sub(\",\",'',sentence)\n",
    "    sentence = re.sub(\"\\.\",'',sentence)\n",
    "    sentence = re.sub(\" a \",' ',sentence)\n",
    "    sentence = re.sub('\\s+', ' ', sentence).strip()\n",
    "    sentence = re.sub(\" s \",' ',sentence)\n",
    "    if sentence[0:5] == 'says ':\n",
    "        sentence = sentence[5:]\n",
    "    sentence = ' '.join([w for w in sentence.split() if len(w)>1])\n",
    "    return sentence\n",
    "\n",
    "def preprocess_df(df):\n",
    "    for index in df.index:\n",
    "        df.at[index,'text'] = preprocess_claim(df.at[index,'text'])\n",
    "        rating = df.at[index,'rating']\n",
    "        if rating == 'FALSE':\n",
    "            df.at[index,'rating'] = 0\n",
    "        if rating == 'TRUE':\n",
    "            df.at[index,'rating'] = 1\n",
    "        if rating == 'MIXTURE':\n",
    "            df.at[index,'rating'] = 2\n",
    "    return df"
   ]
  },
  {
   "cell_type": "code",
   "execution_count": 5,
   "metadata": {},
   "outputs": [],
   "source": [
    "df1 = preprocess_df(df1)\n",
    "df2 = preprocess_df(df2)\n",
    "df3 = preprocess_df(df3)\n",
    "dfall = preprocess_df(dfall)"
   ]
  },
  {
   "cell_type": "markdown",
   "metadata": {},
   "source": [
    "### ITF"
   ]
  },
  {
   "cell_type": "code",
   "execution_count": 6,
   "metadata": {},
   "outputs": [],
   "source": [
    "from sklearn.feature_extraction.text import CountVectorizer\n",
    "\n",
    "def get_itf_dict(ngram,mindf,dfall,topics):\n",
    "    vectorizer = CountVectorizer(ngram_range=ngram,min_df=mindf)\n",
    "    vectorizer.fit(dfall['text'])\n",
    "    itfdict = {key:0 for key in vectorizer.get_feature_names()}\n",
    "    for key in itfdict.keys():\n",
    "        for topic in topics:\n",
    "            for claim in topic['text']:\n",
    "                cl = ' ' + claim + ' '\n",
    "                if cl.find(' ' + key + ' ') >= 0:\n",
    "                    itfdict[key] = itfdict[key]+1\n",
    "                    break                \n",
    "    for key in itfdict.keys():\n",
    "        itfdict[key] = len(topics) / itfdict[key]\n",
    "    return itfdict"
   ]
  },
  {
   "cell_type": "markdown",
   "metadata": {},
   "source": [
    "### ICF"
   ]
  },
  {
   "cell_type": "code",
   "execution_count": 7,
   "metadata": {},
   "outputs": [],
   "source": [
    "def get_icf_dict(ngram,mindf,df):\n",
    "    vectorizer = CountVectorizer(ngram_range=ngram,min_df=mindf)\n",
    "    vectorizer.fit(df['text'])\n",
    "    icfdict = {key:0 for key in vectorizer.get_feature_names()}\n",
    "    classes = df[\"rating\"].unique()\n",
    "\n",
    "    dfcldict = {key:df.loc[df[\"rating\"] == key] for key in classes}\n",
    "\n",
    "    for key in icfdict.keys():\n",
    "        for cl in classes:\n",
    "            dfcl = dfcldict[cl]\n",
    "            for claim in dfcl[\"text\"]:\n",
    "                text = ' ' + claim + ' '\n",
    "                if text.find(' ' + key + ' ') >= 0:\n",
    "                    icfdict[key] = icfdict[key] + 1\n",
    "                    break\n",
    "    return icfdict "
   ]
  },
  {
   "cell_type": "markdown",
   "metadata": {},
   "source": [
    "### ITF * ICF"
   ]
  },
  {
   "cell_type": "code",
   "execution_count": 8,
   "metadata": {},
   "outputs": [],
   "source": [
    "def get_itf_icf_dict(itfdict,icfdict):\n",
    "    itficfdict = { key:itfdict[key] * icfdict[key] for key in icfdict.keys() }\n",
    "    return itficfdict"
   ]
  },
  {
   "cell_type": "markdown",
   "metadata": {},
   "source": [
    "### ITF * ICF Vectors"
   ]
  },
  {
   "cell_type": "code",
   "execution_count": 9,
   "metadata": {},
   "outputs": [],
   "source": [
    "def computeITFICFVector(claim,itficfdict):\n",
    "    worddict = itficfdict.keys()\n",
    "    itficfVector = [0.0] * len(worddict)\n",
    "    for i, word in enumerate(worddict):\n",
    "        w = ' ' + word + ' '\n",
    "        if w in ' ' + claim + ' ':\n",
    "            itficfVector[i] = itficfdict[word]\n",
    "    return itficfVector\n",
    "\n",
    "def get_itf_icf_matrix(df,itficfdict):\n",
    "    vectors = [computeITFICFVector(claim,itficfdict) for claim in df['text']]\n",
    "    vectors = np.array(vectors)\n",
    "    return vectors"
   ]
  },
  {
   "cell_type": "markdown",
   "metadata": {},
   "source": [
    "### Prepare datasets for the 3 classification tasks"
   ]
  },
  {
   "cell_type": "code",
   "execution_count": 10,
   "metadata": {},
   "outputs": [],
   "source": [
    "def get_classes(df):\n",
    "    df_top = df\n",
    "\n",
    "    class1 = df_top.copy()\n",
    "    class2 = df_top.copy()\n",
    "    class2 = df_top.loc[(df_top['rating'] == 0) | (df_top['rating'] == 1)]\n",
    "    class3 = df_top.copy()\n",
    "\n",
    "    for index in class3.index:\n",
    "        rating = class3.at[index,'rating']\n",
    "        if rating == 1:\n",
    "            class3.at[index,'rating'] = 0\n",
    "        if rating == 2:\n",
    "            class3.at[index,'rating'] = 1\n",
    "\n",
    "    dfs = dict()\n",
    "    dfs['3 Classes'] = class1\n",
    "    dfs['2 Classes'] = class2\n",
    "    dfs['2 Mixed Classes'] = class3\n",
    "    return dfs"
   ]
  },
  {
   "cell_type": "code",
   "execution_count": 11,
   "metadata": {},
   "outputs": [],
   "source": [
    "topics = dict()\n",
    "topics['Topic 1'] = get_classes(df1)\n",
    "topics['Topic 2'] = get_classes(df2)\n",
    "topics['Topic 3'] = get_classes(df3)\n",
    "topicall = get_classes(dfall)"
   ]
  },
  {
   "cell_type": "code",
   "execution_count": 12,
   "metadata": {},
   "outputs": [],
   "source": [
    "from sklearn.svm import LinearSVC\n",
    "from sklearn.model_selection import KFold\n",
    "from sklearn.model_selection import StratifiedKFold\n",
    "from sklearn.model_selection import cross_val_score"
   ]
  },
  {
   "cell_type": "markdown",
   "metadata": {},
   "source": [
    "### IDF * ICF * ITF"
   ]
  },
  {
   "cell_type": "code",
   "execution_count": 13,
   "metadata": {},
   "outputs": [],
   "source": [
    "from sklearn.feature_extraction.text import TfidfVectorizer\n",
    "\n",
    "def get_idf_dict(ngram,mindf,df):\n",
    "    vectorizer = TfidfVectorizer(ngram_range=ngram,min_df=mindf)\n",
    "    vectorizer.fit(df['text'])\n",
    "    return dict(zip(vectorizer.get_feature_names(), vectorizer.idf_))\n",
    "\n",
    "def get_idf_itf_icf_dict(idfdict,itficfdict):\n",
    "    itficfdict = { key:itficfdict[key] * idfdict[key] for key in itficfdict.keys() }\n",
    "    return itficfdict"
   ]
  },
  {
   "cell_type": "markdown",
   "metadata": {},
   "source": [
    "### TF ICF Classification"
   ]
  },
  {
   "cell_type": "code",
   "execution_count": 14,
   "metadata": {},
   "outputs": [],
   "source": [
    "ngram = (1,3)\n",
    "mindf = 2\n",
    "\n",
    "dfs = [df1, df2, df3]\n",
    "itfdict = get_itf_dict(ngram,mindf,dfall,dfs)"
   ]
  },
  {
   "cell_type": "code",
   "execution_count": 15,
   "metadata": {},
   "outputs": [
    {
     "name": "stdout",
     "output_type": "stream",
     "text": [
      "Topic 1 - Mean accuracy: 0.523194, Deviation: 0.028905\n",
      "Topic 2 - Mean accuracy: 0.583899, Deviation: 0.007911\n",
      "Topic 3 - Mean accuracy: 0.524854, Deviation: 0.020582\n"
     ]
    }
   ],
   "source": [
    "t = 0\n",
    "for df in dfs:\n",
    "    t += 1\n",
    "    vectorizer = CountVectorizer(ngram_range=ngram,min_df=mindf)\n",
    "    icfdict = get_icf_dict(ngram,mindf,df)\n",
    "    vec = vectorizer.fit_transform(df['text']).toarray()\n",
    "    for key,value in vectorizer.vocabulary_.items():\n",
    "        vec[:,value] = vec[:,value] * math.log10(1 + icfdict[key])\n",
    "    \n",
    "    X = vec\n",
    "    y = df[\"rating\"]\n",
    "    y = y.astype('int')\n",
    "    clf = LinearSVC(random_state=0, tol=1e-5)\n",
    "    k_fold = StratifiedKFold(n_splits=10, shuffle=True, random_state=None)\n",
    "    score = cross_val_score(clf, X, y, cv=k_fold, scoring='accuracy')\n",
    "    print('Topic %d - Mean accuracy: %f, Deviation: %f' % (t,score.mean(),score.std()))"
   ]
  },
  {
   "cell_type": "markdown",
   "metadata": {},
   "source": [
    "### TF ITF Classification"
   ]
  },
  {
   "cell_type": "code",
   "execution_count": 16,
   "metadata": {},
   "outputs": [
    {
     "name": "stdout",
     "output_type": "stream",
     "text": [
      "Topic 1 - Mean accuracy: 0.538378, Deviation: 0.011273\n",
      "Topic 2 - Mean accuracy: 0.602044, Deviation: 0.003326\n",
      "Topic 3 - Mean accuracy: 0.540427, Deviation: 0.005314\n"
     ]
    }
   ],
   "source": [
    "t = 0\n",
    "for df in dfs:\n",
    "    t += 1\n",
    "    vectorizer = CountVectorizer(ngram_range=ngram,min_df=mindf)\n",
    "    vec = vectorizer.fit_transform(df['text']).toarray()\n",
    "    for key,value in vectorizer.vocabulary_.items():\n",
    "        vec[:,value] = vec[:,value] * math.log10(1 + itfdict[key])\n",
    "    \n",
    "    X = vec\n",
    "    y = df[\"rating\"]\n",
    "    y = y.astype('int')\n",
    "    clf = LinearSVC(random_state=0, tol=1e-5)\n",
    "    k_fold = StratifiedKFold(n_splits=10, shuffle=True, random_state=None)\n",
    "    score = cross_val_score(clf, X, y, cv=k_fold, scoring='accuracy')\n",
    "    print('Topic %d - Mean accuracy: %f, Deviation: %f' % (t,score.mean(),score.std()))"
   ]
  },
  {
   "cell_type": "markdown",
   "metadata": {},
   "source": [
    "### TF ICF ITF Classification"
   ]
  },
  {
   "cell_type": "code",
   "execution_count": 17,
   "metadata": {},
   "outputs": [
    {
     "name": "stdout",
     "output_type": "stream",
     "text": [
      "Topic 1 - Mean accuracy: 0.546500, Deviation: 0.004163\n",
      "Topic 2 - Mean accuracy: 0.604526, Deviation: 0.001088\n",
      "Topic 3 - Mean accuracy: 0.541142, Deviation: 0.002470\n"
     ]
    }
   ],
   "source": [
    "t = 0\n",
    "for df in dfs:\n",
    "    t += 1\n",
    "    vectorizer = CountVectorizer(ngram_range=ngram,min_df=mindf)\n",
    "    icfdict = get_icf_dict(ngram,mindf,df)\n",
    "    vec = vectorizer.fit_transform(df['text']).toarray()\n",
    "    for key,value in vectorizer.vocabulary_.items():\n",
    "        vec[:,value] = vec[:,value] * math.log10(1 + icfdict[key]) * math.log10(1 + itfdict[key])\n",
    "    \n",
    "    X = vec\n",
    "    y = df[\"rating\"]\n",
    "    y = y.astype('int')\n",
    "    clf = LinearSVC(random_state=0, tol=1e-5)\n",
    "    k_fold = StratifiedKFold(n_splits=10, shuffle=True, random_state=None)\n",
    "    score = cross_val_score(clf, X, y, cv=k_fold, scoring='accuracy')\n",
    "    print('Topic %d - Mean accuracy: %f, Deviation: %f' % (t,score.mean(),score.std()))"
   ]
  },
  {
   "cell_type": "markdown",
   "metadata": {},
   "source": [
    "### TF IDF ICF ITF Classification"
   ]
  },
  {
   "cell_type": "code",
   "execution_count": 18,
   "metadata": {},
   "outputs": [
    {
     "name": "stdout",
     "output_type": "stream",
     "text": [
      "Topic 1 - Mean accuracy: 0.546500, Deviation: 0.004163\n",
      "Topic 2 - Mean accuracy: 0.607261, Deviation: 0.003024\n",
      "Topic 3 - Mean accuracy: 0.542555, Deviation: 0.003554\n"
     ]
    }
   ],
   "source": [
    "t = 0\n",
    "for df in dfs:\n",
    "    t += 1\n",
    "    vectorizer = TfidfVectorizer(ngram_range=ngram,min_df=mindf)\n",
    "    icfdict = get_icf_dict(ngram,mindf,df)\n",
    "    vec = vectorizer.fit_transform(df['text']).toarray()\n",
    "    for key,value in vectorizer.vocabulary_.items():\n",
    "        vec[:,value] = vec[:,value] * math.log10(1 + icfdict[key]) * math.log10(1 + itfdict[key])\n",
    "    \n",
    "    X = vec\n",
    "    y = df[\"rating\"]\n",
    "    y = y.astype('int')\n",
    "    clf = LinearSVC(random_state=0, tol=1e-5)\n",
    "    k_fold = StratifiedKFold(n_splits=10, shuffle=True, random_state=None)\n",
    "    score = cross_val_score(clf, X, y, cv=k_fold, scoring='accuracy')\n",
    "    print('Topic %d - Mean accuracy: %f, Deviation: %f' % (t,score.mean(),score.std()))"
   ]
  },
  {
   "cell_type": "markdown",
   "metadata": {},
   "source": [
    "### All data classification"
   ]
  },
  {
   "cell_type": "code",
   "execution_count": 19,
   "metadata": {},
   "outputs": [],
   "source": [
    "df = dfall"
   ]
  },
  {
   "cell_type": "code",
   "execution_count": 20,
   "metadata": {},
   "outputs": [
    {
     "name": "stdout",
     "output_type": "stream",
     "text": [
      "All - Mean accuracy: 0.580193, Deviation: 0.002725\n"
     ]
    }
   ],
   "source": [
    "#TF ITF\n",
    "vectorizer = CountVectorizer(ngram_range=ngram,min_df=mindf)\n",
    "vec = vectorizer.fit_transform(df['text']).toarray()\n",
    "for key,value in vectorizer.vocabulary_.items():\n",
    "    vec[:,value] = vec[:,value] * math.log10(1 + itfdict[key])\n",
    "\n",
    "X = vec\n",
    "y = df[\"rating\"]\n",
    "y = y.astype('int')\n",
    "clf = LinearSVC(random_state=0, tol=1e-5)\n",
    "k_fold = StratifiedKFold(n_splits=10, shuffle=True, random_state=None)\n",
    "score = cross_val_score(clf, X, y, cv=k_fold, scoring='accuracy')\n",
    "print('All - Mean accuracy: %f, Deviation: %f' % (score.mean(),score.std()))"
   ]
  },
  {
   "cell_type": "code",
   "execution_count": 21,
   "metadata": {},
   "outputs": [
    {
     "name": "stdout",
     "output_type": "stream",
     "text": [
      "All - Mean accuracy: 0.563999, Deviation: 0.012270\n"
     ]
    }
   ],
   "source": [
    "#TF ICF\n",
    "vectorizer = CountVectorizer(ngram_range=ngram,min_df=mindf)\n",
    "icfdict = get_icf_dict(ngram,mindf,df)\n",
    "vec = vectorizer.fit_transform(df['text']).toarray()\n",
    "for key,value in vectorizer.vocabulary_.items():\n",
    "    vec[:,value] = vec[:,value] * math.log10(1 + icfdict[key])\n",
    "\n",
    "X = vec\n",
    "y = df[\"rating\"]\n",
    "y = y.astype('int')\n",
    "clf = LinearSVC(random_state=0, tol=1e-5)\n",
    "k_fold = StratifiedKFold(n_splits=10, shuffle=True, random_state=None)\n",
    "score = cross_val_score(clf, X, y, cv=k_fold, scoring='accuracy')\n",
    "print('All - Mean accuracy: %f, Deviation: %f' % (score.mean(),score.std()))"
   ]
  },
  {
   "cell_type": "code",
   "execution_count": 22,
   "metadata": {},
   "outputs": [
    {
     "name": "stdout",
     "output_type": "stream",
     "text": [
      "All - Mean accuracy: 0.580515, Deviation: 0.000459\n"
     ]
    }
   ],
   "source": [
    "#TF ICF ITF\n",
    "vectorizer = CountVectorizer(ngram_range=ngram,min_df=mindf)\n",
    "icfdict = get_icf_dict(ngram,mindf,df)\n",
    "vec = vectorizer.fit_transform(df['text']).toarray()\n",
    "for key,value in vectorizer.vocabulary_.items():\n",
    "    vec[:,value] = vec[:,value] * math.log10(1 + icfdict[key]) * math.log10(1 + itfdict[key])\n",
    "\n",
    "X = vec\n",
    "y = df[\"rating\"]\n",
    "y = y.astype('int')\n",
    "clf = LinearSVC(random_state=0, tol=1e-5)\n",
    "k_fold = StratifiedKFold(n_splits=10, shuffle=True, random_state=None)\n",
    "score = cross_val_score(clf, X, y, cv=k_fold, scoring='accuracy')\n",
    "print('All - Mean accuracy: %f, Deviation: %f' % (score.mean(),score.std()))"
   ]
  }
 ],
 "metadata": {
  "kernelspec": {
   "display_name": "Python 3",
   "language": "python",
   "name": "python3"
  },
  "language_info": {
   "codemirror_mode": {
    "name": "ipython",
    "version": 3
   },
   "file_extension": ".py",
   "mimetype": "text/x-python",
   "name": "python",
   "nbconvert_exporter": "python",
   "pygments_lexer": "ipython3",
   "version": "3.7.4"
  }
 },
 "nbformat": 4,
 "nbformat_minor": 2
}
