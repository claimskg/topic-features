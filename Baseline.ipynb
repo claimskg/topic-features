{
 "cells": [
  {
   "cell_type": "code",
   "execution_count": 1,
   "metadata": {},
   "outputs": [],
   "source": [
    "# Load contractions model\n",
    "from pycontractions import Contractions\n",
    "\n",
    "cont = Contractions(api_key=\"glove-twitter-100\")\n",
    "cont.load_models()"
   ]
  },
  {
   "cell_type": "markdown",
   "metadata": {},
   "source": [
    "### Parameters"
   ]
  },
  {
   "cell_type": "code",
   "execution_count": 2,
   "metadata": {},
   "outputs": [],
   "source": [
    "file = 'Data/c4.csv'\n",
    "ngram = (1,3)\n",
    "mindf = 2\n",
    "maxdf = 0.8"
   ]
  },
  {
   "cell_type": "markdown",
   "metadata": {},
   "source": [
    "### Load"
   ]
  },
  {
   "cell_type": "code",
   "execution_count": 3,
   "metadata": {},
   "outputs": [
    {
     "data": {
      "text/html": [
       "<div>\n",
       "<style scoped>\n",
       "    .dataframe tbody tr th:only-of-type {\n",
       "        vertical-align: middle;\n",
       "    }\n",
       "\n",
       "    .dataframe tbody tr th {\n",
       "        vertical-align: top;\n",
       "    }\n",
       "\n",
       "    .dataframe thead th {\n",
       "        text-align: right;\n",
       "    }\n",
       "</style>\n",
       "<table border=\"1\" class=\"dataframe\">\n",
       "  <thead>\n",
       "    <tr style=\"text-align: right;\">\n",
       "      <th></th>\n",
       "      <th>id</th>\n",
       "      <th>text</th>\n",
       "      <th>author</th>\n",
       "      <th>date</th>\n",
       "      <th>keywords</th>\n",
       "      <th>organization</th>\n",
       "      <th>rating</th>\n",
       "    </tr>\n",
       "  </thead>\n",
       "  <tbody>\n",
       "    <tr>\n",
       "      <th>0</th>\n",
       "      <td>http://data.gesis.org/claimskg/creative_work/9...</td>\n",
       "      <td>California’s Prop 55 'prevents $4 billion in n...</td>\n",
       "      <td>Yes on 55</td>\n",
       "      <td>03/26/2055</td>\n",
       "      <td>education,state finances</td>\n",
       "      <td>politifact</td>\n",
       "      <td>MIXTURE</td>\n",
       "    </tr>\n",
       "    <tr>\n",
       "      <th>1</th>\n",
       "      <td>http://data.gesis.org/claimskg/creative_work/e...</td>\n",
       "      <td>Says an election clerk in Green Bay refused to...</td>\n",
       "      <td>Our Democracy 2020</td>\n",
       "      <td>03/26/2020</td>\n",
       "      <td>bipartisanship,city government,education,elect...</td>\n",
       "      <td>politifact</td>\n",
       "      <td>MIXTURE</td>\n",
       "    </tr>\n",
       "    <tr>\n",
       "      <th>2</th>\n",
       "      <td>http://data.gesis.org/claimskg/creative_work/0...</td>\n",
       "      <td>Says state schools superintendent candidate Do...</td>\n",
       "      <td>One Wisconsin Now</td>\n",
       "      <td>12/03/2019</td>\n",
       "      <td>corporations,education,small business,state bu...</td>\n",
       "      <td>politifact</td>\n",
       "      <td>MIXTURE</td>\n",
       "    </tr>\n",
       "    <tr>\n",
       "      <th>3</th>\n",
       "      <td>http://data.gesis.org/claimskg/creative_work/f...</td>\n",
       "      <td>'The Walton family, which owns Wal-Mart, contr...</td>\n",
       "      <td>One Wisconsin Now</td>\n",
       "      <td>11/27/2019</td>\n",
       "      <td>corporations,economy,income,labor,wealth</td>\n",
       "      <td>politifact</td>\n",
       "      <td>TRUE</td>\n",
       "    </tr>\n",
       "    <tr>\n",
       "      <th>4</th>\n",
       "      <td>http://data.gesis.org/claimskg/creative_work/c...</td>\n",
       "      <td>In his first meeting with University of Wiscon...</td>\n",
       "      <td>One Wisconsin Now</td>\n",
       "      <td>11/09/2019</td>\n",
       "      <td>education,state budget</td>\n",
       "      <td>politifact</td>\n",
       "      <td>FALSE</td>\n",
       "    </tr>\n",
       "  </tbody>\n",
       "</table>\n",
       "</div>"
      ],
      "text/plain": [
       "                                                  id  \\\n",
       "0  http://data.gesis.org/claimskg/creative_work/9...   \n",
       "1  http://data.gesis.org/claimskg/creative_work/e...   \n",
       "2  http://data.gesis.org/claimskg/creative_work/0...   \n",
       "3  http://data.gesis.org/claimskg/creative_work/f...   \n",
       "4  http://data.gesis.org/claimskg/creative_work/c...   \n",
       "\n",
       "                                                text              author  \\\n",
       "0  California’s Prop 55 'prevents $4 billion in n...           Yes on 55   \n",
       "1  Says an election clerk in Green Bay refused to...  Our Democracy 2020   \n",
       "2  Says state schools superintendent candidate Do...   One Wisconsin Now   \n",
       "3  'The Walton family, which owns Wal-Mart, contr...   One Wisconsin Now   \n",
       "4  In his first meeting with University of Wiscon...   One Wisconsin Now   \n",
       "\n",
       "         date                                           keywords organization  \\\n",
       "0  03/26/2055                           education,state finances   politifact   \n",
       "1  03/26/2020  bipartisanship,city government,education,elect...   politifact   \n",
       "2  12/03/2019  corporations,education,small business,state bu...   politifact   \n",
       "3  11/27/2019           corporations,economy,income,labor,wealth   politifact   \n",
       "4  11/09/2019                             education,state budget   politifact   \n",
       "\n",
       "    rating  \n",
       "0  MIXTURE  \n",
       "1  MIXTURE  \n",
       "2  MIXTURE  \n",
       "3     TRUE  \n",
       "4    FALSE  "
      ]
     },
     "metadata": {},
     "output_type": "display_data"
    }
   ],
   "source": [
    "import pandas as pd\n",
    "\n",
    "df = pd.read_csv(file,sep=\",\")\n",
    "display(df.head())"
   ]
  },
  {
   "cell_type": "code",
   "execution_count": 4,
   "metadata": {},
   "outputs": [
    {
     "name": "stdout",
     "output_type": "stream",
     "text": [
      "(6258, 7)\n"
     ]
    },
    {
     "data": {
      "text/plain": [
       "2076"
      ]
     },
     "execution_count": 4,
     "metadata": {},
     "output_type": "execute_result"
    }
   ],
   "source": [
    "df5 = df.copy().sort_values(by=\"author\")\n",
    "df6 = df5.loc[(df5['organization'] != 'snopes')]\n",
    "authors = df6[\"author\"].unique()\n",
    "#display(df6)\n",
    "\n",
    "print(df6.shape)\n",
    "len(authors)"
   ]
  },
  {
   "cell_type": "code",
   "execution_count": 5,
   "metadata": {},
   "outputs": [
    {
     "data": {
      "text/html": [
       "<div>\n",
       "<style scoped>\n",
       "    .dataframe tbody tr th:only-of-type {\n",
       "        vertical-align: middle;\n",
       "    }\n",
       "\n",
       "    .dataframe tbody tr th {\n",
       "        vertical-align: top;\n",
       "    }\n",
       "\n",
       "    .dataframe thead th {\n",
       "        text-align: right;\n",
       "    }\n",
       "</style>\n",
       "<table border=\"1\" class=\"dataframe\">\n",
       "  <thead>\n",
       "    <tr style=\"text-align: right;\">\n",
       "      <th></th>\n",
       "      <th>id</th>\n",
       "      <th>text</th>\n",
       "      <th>author</th>\n",
       "      <th>date</th>\n",
       "      <th>keywords</th>\n",
       "      <th>organization</th>\n",
       "      <th>rating</th>\n",
       "    </tr>\n",
       "  </thead>\n",
       "  <tbody>\n",
       "    <tr>\n",
       "      <th>0</th>\n",
       "      <td>http://data.gesis.org/claimskg/creative_work/9...</td>\n",
       "      <td>California’s Prop 55 'prevents $4 billion in n...</td>\n",
       "      <td>Yes on 55</td>\n",
       "      <td>03/26/2055</td>\n",
       "      <td>education,state finances</td>\n",
       "      <td>politifact</td>\n",
       "      <td>MIXTURE</td>\n",
       "    </tr>\n",
       "    <tr>\n",
       "      <th>1</th>\n",
       "      <td>http://data.gesis.org/claimskg/creative_work/e...</td>\n",
       "      <td>Says an election clerk in Green Bay refused to...</td>\n",
       "      <td>Our Democracy 2020</td>\n",
       "      <td>03/26/2020</td>\n",
       "      <td>bipartisanship,city government,education,elect...</td>\n",
       "      <td>politifact</td>\n",
       "      <td>MIXTURE</td>\n",
       "    </tr>\n",
       "    <tr>\n",
       "      <th>2</th>\n",
       "      <td>http://data.gesis.org/claimskg/creative_work/0...</td>\n",
       "      <td>Says state schools superintendent candidate Do...</td>\n",
       "      <td>One Wisconsin Now</td>\n",
       "      <td>12/03/2019</td>\n",
       "      <td>corporations,education,small business,state bu...</td>\n",
       "      <td>politifact</td>\n",
       "      <td>MIXTURE</td>\n",
       "    </tr>\n",
       "    <tr>\n",
       "      <th>3</th>\n",
       "      <td>http://data.gesis.org/claimskg/creative_work/f...</td>\n",
       "      <td>'The Walton family, which owns Wal-Mart, contr...</td>\n",
       "      <td>One Wisconsin Now</td>\n",
       "      <td>11/27/2019</td>\n",
       "      <td>corporations,economy,income,labor,wealth</td>\n",
       "      <td>politifact</td>\n",
       "      <td>TRUE</td>\n",
       "    </tr>\n",
       "    <tr>\n",
       "      <th>4</th>\n",
       "      <td>http://data.gesis.org/claimskg/creative_work/c...</td>\n",
       "      <td>In his first meeting with University of Wiscon...</td>\n",
       "      <td>One Wisconsin Now</td>\n",
       "      <td>11/09/2019</td>\n",
       "      <td>education,state budget</td>\n",
       "      <td>politifact</td>\n",
       "      <td>FALSE</td>\n",
       "    </tr>\n",
       "  </tbody>\n",
       "</table>\n",
       "</div>"
      ],
      "text/plain": [
       "                                                  id  \\\n",
       "0  http://data.gesis.org/claimskg/creative_work/9...   \n",
       "1  http://data.gesis.org/claimskg/creative_work/e...   \n",
       "2  http://data.gesis.org/claimskg/creative_work/0...   \n",
       "3  http://data.gesis.org/claimskg/creative_work/f...   \n",
       "4  http://data.gesis.org/claimskg/creative_work/c...   \n",
       "\n",
       "                                                text              author  \\\n",
       "0  California’s Prop 55 'prevents $4 billion in n...           Yes on 55   \n",
       "1  Says an election clerk in Green Bay refused to...  Our Democracy 2020   \n",
       "2  Says state schools superintendent candidate Do...   One Wisconsin Now   \n",
       "3  'The Walton family, which owns Wal-Mart, contr...   One Wisconsin Now   \n",
       "4  In his first meeting with University of Wiscon...   One Wisconsin Now   \n",
       "\n",
       "         date                                           keywords organization  \\\n",
       "0  03/26/2055                           education,state finances   politifact   \n",
       "1  03/26/2020  bipartisanship,city government,education,elect...   politifact   \n",
       "2  12/03/2019  corporations,education,small business,state bu...   politifact   \n",
       "3  11/27/2019           corporations,economy,income,labor,wealth   politifact   \n",
       "4  11/09/2019                             education,state budget   politifact   \n",
       "\n",
       "    rating  \n",
       "0  MIXTURE  \n",
       "1  MIXTURE  \n",
       "2  MIXTURE  \n",
       "3     TRUE  \n",
       "4    FALSE  "
      ]
     },
     "metadata": {},
     "output_type": "display_data"
    }
   ],
   "source": [
    "df1 = df.copy()\n",
    "df1 = df1.loc[df1['rating'] != 'OTHER']\n",
    "display(df1.head())"
   ]
  },
  {
   "cell_type": "code",
   "execution_count": 6,
   "metadata": {},
   "outputs": [
    {
     "name": "stdout",
     "output_type": "stream",
     "text": [
      "True claims : 979\n",
      "False claims : 1613\n",
      "Mixture claims : 3587\n",
      "TF claims : 2592\n"
     ]
    }
   ],
   "source": [
    "t = df1.loc[(df1['rating'] == 'TRUE')]['id'].count()\n",
    "f = df1.loc[(df1['rating'] == 'FALSE')]['id'].count()\n",
    "m = df1.loc[(df1['rating'] == 'MIXTURE')]['id'].count()\n",
    "\n",
    "print('True claims : %d' % t)\n",
    "print('False claims : %d' % f)\n",
    "print('Mixture claims : %d' % m)\n",
    "print('TF claims : %d' % (t+f))"
   ]
  },
  {
   "cell_type": "markdown",
   "metadata": {},
   "source": [
    "### Preprocess"
   ]
  },
  {
   "cell_type": "code",
   "execution_count": 7,
   "metadata": {},
   "outputs": [],
   "source": [
    "import re\n",
    "\n",
    "# def preprocess(sentence):\n",
    "#     sentence = sentence.lower().strip()\n",
    "#     translator = str.maketrans('’', \"'\", '')\n",
    "#     sentence = sentence.translate(translator)\n",
    "#     sentence = re.sub(\"u\\.s\\.\",\"united states\",sentence)\n",
    "#     sentence = list(cont.expand_texts([sentence],precise=True))[0]\n",
    "#     sentence = re.sub(\"[^a-zA-Z0-9_.’,]|(?<!\\d)\\.(?!\\d)|(?<!\\w)-(?!\\w)|(?<!\\d)\\,(?!\\d)\",' ',sentence)\n",
    "#     sentence = re.sub(\",\",'',sentence)\n",
    "#     sentence = re.sub('\\s+', ' ', sentence).strip()\n",
    "#     sentence = re.sub(\" s \",' ',sentence)\n",
    "#     if sentence[0:5] == 'says ':\n",
    "#         sentence = sentence[5:]\n",
    "#     return sentence\n",
    "\n",
    "def preprocess(sentence):\n",
    "    sentence = sentence.lower().strip()\n",
    "    translator = str.maketrans('’', \"'\", '')\n",
    "    sentence = sentence.translate(translator)\n",
    "    sentence = re.sub(\"u\\.s\\.\",\"united states\",sentence)\n",
    "    sentence = list(cont.expand_texts([sentence],precise=True))[0]\n",
    "    sentence = re.sub(\"[^a-zA-Z0-9_.’,]|(?<!\\d)\\.(?!\\d)|(?<!\\w)-(?!\\w)|(?<!\\d)\\,(?!\\d)\",' ',sentence)\n",
    "    sentence = re.sub(\",\",'',sentence)\n",
    "    sentence = re.sub(\"\\.\",'',sentence)\n",
    "    sentence = re.sub(\" a \",' ',sentence)\n",
    "    sentence = re.sub('\\s+', ' ', sentence).strip()\n",
    "    sentence = re.sub(\" s \",' ',sentence)\n",
    "    if sentence[0:5] == 'says ':\n",
    "        sentence = sentence[5:]\n",
    "    sentence = ' '.join([w for w in sentence.split() if len(w)>1])\n",
    "    return sentence"
   ]
  },
  {
   "cell_type": "code",
   "execution_count": 8,
   "metadata": {},
   "outputs": [],
   "source": [
    "for index in df1.index:\n",
    "    df1.at[index,'text'] = preprocess(df1.at[index,'text'])\n",
    "    rating = df1.at[index,'rating']\n",
    "    if rating == 'FALSE':\n",
    "        df1.at[index,'rating'] = 0\n",
    "    if rating == 'TRUE':\n",
    "        df1.at[index,'rating'] = 1\n",
    "    if rating == 'MIXTURE':\n",
    "        df1.at[index,'rating'] = 2"
   ]
  },
  {
   "cell_type": "code",
   "execution_count": 9,
   "metadata": {},
   "outputs": [
    {
     "name": "stdout",
     "output_type": "stream",
     "text": [
      "california prop 55 prevents billion in new cuts to our schools\n",
      "\n",
      "an election clerk in green bay refused to allow early voting on the uw green bay campus because she was afraid it would help democrats showing outrageous partisan bias\n",
      "\n",
      "state schools superintendent candidate don pridemore voted for the largest cuts to public education in our state history and for 23 billion in tax breaks for corporations and the wealthy\n",
      "\n",
      "the walton family which owns wal mart controls fortune equal to the wealth of the bottom 42 percent of americans combined\n",
      "\n",
      "in his first meeting with university of wisconsin system officials republican governor elect scott walker told them to prepare for cuts\n",
      "\n",
      "scott walker was elected governor on promise not to take campaign contributions from the date of his inauguration until the signing of the state budget but broke it by taking nearly 56 million\n",
      "\n",
      "obama adviser david plouffe took large piles of cash from joint venture partner of company owned by iran revolutionary guard\n",
      "\n",
      "what is the maximum number of students allowed in your classroom 30 or more\n",
      "\n",
      "there currently are 825000 student stations sitting empty across florida in every district and at every grade level\n",
      "\n",
      "deer baiting planned for block island by dem is illegal in rhode island\n",
      "\n",
      "wisconsin billion incentive offer to foxconn is the largest gift ever by state to foreign company\n",
      "\n",
      "scott walker wants state taxpayers to dole out up to 250 million annually in incentives to foxconn to lure manufacturing plant to wisconsin that he claims will generate 181 million in tax revenue\n",
      "\n",
      "for his first interview as president barack obama chose arab tv for an apology\n",
      "\n",
      "gov scott walker budget includes tax breaks for corporations and the rich that will cost the state of wisconsin taxpayers 23 billion over the next decade\n",
      "\n",
      "oregon is one of only three states that allow the use of gillnets on inland waters\n",
      "\n",
      "in the past year dekalb has attracted and retained more than 2300 jobs\n",
      "\n",
      "demond means turnaround district superintendent for milwaukee public schools said the district needs to be gutted\n",
      "\n",
      "george norcross said the takeover of rutger camden will cost new jer ey billion\n",
      "\n",
      "hillary clinton makes more per hour at speaking gig than the average ceo does in year\n",
      "\n",
      "under randi shade austin has had the highest cost of living of any large texas city\n",
      "\n"
     ]
    }
   ],
   "source": [
    "for index in df1.index:\n",
    "    if index < 20:\n",
    "        print(\"%s\\n\" % df1.at[index,'text'])"
   ]
  },
  {
   "cell_type": "markdown",
   "metadata": {},
   "source": [
    "### Create additional dataframes"
   ]
  },
  {
   "cell_type": "code",
   "execution_count": 10,
   "metadata": {},
   "outputs": [],
   "source": [
    "#df1 = true/false/mixed\n",
    "#df2 = true/false\n",
    "#df3 = true-false/mixed"
   ]
  },
  {
   "cell_type": "code",
   "execution_count": 11,
   "metadata": {},
   "outputs": [
    {
     "data": {
      "text/html": [
       "<div>\n",
       "<style scoped>\n",
       "    .dataframe tbody tr th:only-of-type {\n",
       "        vertical-align: middle;\n",
       "    }\n",
       "\n",
       "    .dataframe tbody tr th {\n",
       "        vertical-align: top;\n",
       "    }\n",
       "\n",
       "    .dataframe thead th {\n",
       "        text-align: right;\n",
       "    }\n",
       "</style>\n",
       "<table border=\"1\" class=\"dataframe\">\n",
       "  <thead>\n",
       "    <tr style=\"text-align: right;\">\n",
       "      <th></th>\n",
       "      <th>id</th>\n",
       "      <th>text</th>\n",
       "      <th>author</th>\n",
       "      <th>date</th>\n",
       "      <th>keywords</th>\n",
       "      <th>organization</th>\n",
       "      <th>rating</th>\n",
       "    </tr>\n",
       "  </thead>\n",
       "  <tbody>\n",
       "    <tr>\n",
       "      <th>3</th>\n",
       "      <td>http://data.gesis.org/claimskg/creative_work/f...</td>\n",
       "      <td>the walton family which owns wal mart controls...</td>\n",
       "      <td>One Wisconsin Now</td>\n",
       "      <td>11/27/2019</td>\n",
       "      <td>corporations,economy,income,labor,wealth</td>\n",
       "      <td>politifact</td>\n",
       "      <td>1</td>\n",
       "    </tr>\n",
       "    <tr>\n",
       "      <th>4</th>\n",
       "      <td>http://data.gesis.org/claimskg/creative_work/c...</td>\n",
       "      <td>in his first meeting with university of wiscon...</td>\n",
       "      <td>One Wisconsin Now</td>\n",
       "      <td>11/09/2019</td>\n",
       "      <td>education,state budget</td>\n",
       "      <td>politifact</td>\n",
       "      <td>0</td>\n",
       "    </tr>\n",
       "    <tr>\n",
       "      <th>5</th>\n",
       "      <td>http://data.gesis.org/claimskg/creative_work/a...</td>\n",
       "      <td>scott walker was elected governor on promise n...</td>\n",
       "      <td>One Wisconsin Now</td>\n",
       "      <td>09/26/2019</td>\n",
       "      <td>campaign finance,elections,state budget</td>\n",
       "      <td>politifact</td>\n",
       "      <td>0</td>\n",
       "    </tr>\n",
       "    <tr>\n",
       "      <th>9</th>\n",
       "      <td>http://data.gesis.org/claimskg/creative_work/f...</td>\n",
       "      <td>deer baiting planned for block island by dem i...</td>\n",
       "      <td>Richard August</td>\n",
       "      <td>08/26/2019</td>\n",
       "      <td>animals,crime,environment,government regulatio...</td>\n",
       "      <td>politifact</td>\n",
       "      <td>1</td>\n",
       "    </tr>\n",
       "    <tr>\n",
       "      <th>14</th>\n",
       "      <td>http://data.gesis.org/claimskg/creative_work/8...</td>\n",
       "      <td>oregon is one of only three states that allow ...</td>\n",
       "      <td>Stop Gillnetting Now</td>\n",
       "      <td>05/30/2019</td>\n",
       "      <td>environment,jobs,message machine 2012,recreation</td>\n",
       "      <td>politifact</td>\n",
       "      <td>0</td>\n",
       "    </tr>\n",
       "  </tbody>\n",
       "</table>\n",
       "</div>"
      ],
      "text/plain": [
       "                                                   id  \\\n",
       "3   http://data.gesis.org/claimskg/creative_work/f...   \n",
       "4   http://data.gesis.org/claimskg/creative_work/c...   \n",
       "5   http://data.gesis.org/claimskg/creative_work/a...   \n",
       "9   http://data.gesis.org/claimskg/creative_work/f...   \n",
       "14  http://data.gesis.org/claimskg/creative_work/8...   \n",
       "\n",
       "                                                 text                author  \\\n",
       "3   the walton family which owns wal mart controls...     One Wisconsin Now   \n",
       "4   in his first meeting with university of wiscon...     One Wisconsin Now   \n",
       "5   scott walker was elected governor on promise n...     One Wisconsin Now   \n",
       "9   deer baiting planned for block island by dem i...        Richard August   \n",
       "14  oregon is one of only three states that allow ...  Stop Gillnetting Now   \n",
       "\n",
       "          date                                           keywords  \\\n",
       "3   11/27/2019           corporations,economy,income,labor,wealth   \n",
       "4   11/09/2019                             education,state budget   \n",
       "5   09/26/2019            campaign finance,elections,state budget   \n",
       "9   08/26/2019  animals,crime,environment,government regulatio...   \n",
       "14  05/30/2019   environment,jobs,message machine 2012,recreation   \n",
       "\n",
       "   organization rating  \n",
       "3    politifact      1  \n",
       "4    politifact      0  \n",
       "5    politifact      0  \n",
       "9    politifact      1  \n",
       "14   politifact      0  "
      ]
     },
     "execution_count": 11,
     "metadata": {},
     "output_type": "execute_result"
    }
   ],
   "source": [
    "df2 = df1.copy()\n",
    "df2 = df2.loc[(df2['rating'] == 0) | (df2['rating'] == 1)]\n",
    "df2.head()"
   ]
  },
  {
   "cell_type": "code",
   "execution_count": 12,
   "metadata": {},
   "outputs": [
    {
     "data": {
      "text/html": [
       "<div>\n",
       "<style scoped>\n",
       "    .dataframe tbody tr th:only-of-type {\n",
       "        vertical-align: middle;\n",
       "    }\n",
       "\n",
       "    .dataframe tbody tr th {\n",
       "        vertical-align: top;\n",
       "    }\n",
       "\n",
       "    .dataframe thead th {\n",
       "        text-align: right;\n",
       "    }\n",
       "</style>\n",
       "<table border=\"1\" class=\"dataframe\">\n",
       "  <thead>\n",
       "    <tr style=\"text-align: right;\">\n",
       "      <th></th>\n",
       "      <th>id</th>\n",
       "      <th>text</th>\n",
       "      <th>author</th>\n",
       "      <th>date</th>\n",
       "      <th>keywords</th>\n",
       "      <th>organization</th>\n",
       "      <th>rating</th>\n",
       "    </tr>\n",
       "  </thead>\n",
       "  <tbody>\n",
       "    <tr>\n",
       "      <th>0</th>\n",
       "      <td>http://data.gesis.org/claimskg/creative_work/9...</td>\n",
       "      <td>california prop 55 prevents billion in new cut...</td>\n",
       "      <td>Yes on 55</td>\n",
       "      <td>03/26/2055</td>\n",
       "      <td>education,state finances</td>\n",
       "      <td>politifact</td>\n",
       "      <td>1</td>\n",
       "    </tr>\n",
       "    <tr>\n",
       "      <th>1</th>\n",
       "      <td>http://data.gesis.org/claimskg/creative_work/e...</td>\n",
       "      <td>an election clerk in green bay refused to allo...</td>\n",
       "      <td>Our Democracy 2020</td>\n",
       "      <td>03/26/2020</td>\n",
       "      <td>bipartisanship,city government,education,elect...</td>\n",
       "      <td>politifact</td>\n",
       "      <td>1</td>\n",
       "    </tr>\n",
       "    <tr>\n",
       "      <th>2</th>\n",
       "      <td>http://data.gesis.org/claimskg/creative_work/0...</td>\n",
       "      <td>state schools superintendent candidate don pri...</td>\n",
       "      <td>One Wisconsin Now</td>\n",
       "      <td>12/03/2019</td>\n",
       "      <td>corporations,education,small business,state bu...</td>\n",
       "      <td>politifact</td>\n",
       "      <td>1</td>\n",
       "    </tr>\n",
       "    <tr>\n",
       "      <th>3</th>\n",
       "      <td>http://data.gesis.org/claimskg/creative_work/f...</td>\n",
       "      <td>the walton family which owns wal mart controls...</td>\n",
       "      <td>One Wisconsin Now</td>\n",
       "      <td>11/27/2019</td>\n",
       "      <td>corporations,economy,income,labor,wealth</td>\n",
       "      <td>politifact</td>\n",
       "      <td>0</td>\n",
       "    </tr>\n",
       "    <tr>\n",
       "      <th>4</th>\n",
       "      <td>http://data.gesis.org/claimskg/creative_work/c...</td>\n",
       "      <td>in his first meeting with university of wiscon...</td>\n",
       "      <td>One Wisconsin Now</td>\n",
       "      <td>11/09/2019</td>\n",
       "      <td>education,state budget</td>\n",
       "      <td>politifact</td>\n",
       "      <td>0</td>\n",
       "    </tr>\n",
       "  </tbody>\n",
       "</table>\n",
       "</div>"
      ],
      "text/plain": [
       "                                                  id  \\\n",
       "0  http://data.gesis.org/claimskg/creative_work/9...   \n",
       "1  http://data.gesis.org/claimskg/creative_work/e...   \n",
       "2  http://data.gesis.org/claimskg/creative_work/0...   \n",
       "3  http://data.gesis.org/claimskg/creative_work/f...   \n",
       "4  http://data.gesis.org/claimskg/creative_work/c...   \n",
       "\n",
       "                                                text              author  \\\n",
       "0  california prop 55 prevents billion in new cut...           Yes on 55   \n",
       "1  an election clerk in green bay refused to allo...  Our Democracy 2020   \n",
       "2  state schools superintendent candidate don pri...   One Wisconsin Now   \n",
       "3  the walton family which owns wal mart controls...   One Wisconsin Now   \n",
       "4  in his first meeting with university of wiscon...   One Wisconsin Now   \n",
       "\n",
       "         date                                           keywords organization  \\\n",
       "0  03/26/2055                           education,state finances   politifact   \n",
       "1  03/26/2020  bipartisanship,city government,education,elect...   politifact   \n",
       "2  12/03/2019  corporations,education,small business,state bu...   politifact   \n",
       "3  11/27/2019           corporations,economy,income,labor,wealth   politifact   \n",
       "4  11/09/2019                             education,state budget   politifact   \n",
       "\n",
       "  rating  \n",
       "0      1  \n",
       "1      1  \n",
       "2      1  \n",
       "3      0  \n",
       "4      0  "
      ]
     },
     "execution_count": 12,
     "metadata": {},
     "output_type": "execute_result"
    }
   ],
   "source": [
    "df3 = df1.copy()\n",
    "for index in df3.index:\n",
    "    rating = df3.at[index,'rating']\n",
    "    if rating == 1:\n",
    "        df3.at[index,'rating'] = 0\n",
    "    if rating == 2:\n",
    "        df3.at[index,'rating'] = 1\n",
    "        \n",
    "df3.head()"
   ]
  },
  {
   "cell_type": "code",
   "execution_count": 13,
   "metadata": {},
   "outputs": [],
   "source": [
    "dfs = dict()\n",
    "dfs['3 Classes'] = df1\n",
    "dfs['2 Classes'] = df2\n",
    "dfs['2 Mixed Classes'] = df3"
   ]
  },
  {
   "cell_type": "markdown",
   "metadata": {},
   "source": [
    "### Vectors"
   ]
  },
  {
   "cell_type": "code",
   "execution_count": 14,
   "metadata": {},
   "outputs": [],
   "source": [
    "from sklearn.feature_extraction.text import TfidfVectorizer\n",
    "\n",
    "def vectorize(df):\n",
    "    vectorizer = TfidfVectorizer(ngram_range=ngram,min_df=mindf,max_df=maxdf)\n",
    "    vectors = vectorizer.fit_transform(df['text']).toarray()\n",
    "    #print(vectorizer.get_feature_names())\n",
    "    return vectors"
   ]
  },
  {
   "cell_type": "markdown",
   "metadata": {},
   "source": [
    "### Classification"
   ]
  },
  {
   "cell_type": "code",
   "execution_count": 15,
   "metadata": {},
   "outputs": [],
   "source": [
    "from sklearn.svm import LinearSVC\n",
    "from sklearn.model_selection import KFold\n",
    "from sklearn.model_selection import StratifiedKFold\n",
    "from sklearn.model_selection import cross_val_score\n",
    "\n",
    "def classify(df, key):\n",
    "    X = vectorize(df)\n",
    "    y = df[\"rating\"]\n",
    "    y = y.astype('int')\n",
    "    clf = LinearSVC(random_state=0, tol=1e-5)\n",
    "    k_fold = StratifiedKFold(n_splits=10, shuffle=True, random_state=None)\n",
    "    score = cross_val_score(clf, X, y, cv=k_fold, scoring='accuracy')\n",
    "    print('%s - Mean accuracy: %f, Deviation: %f' % (key,score.mean(),score.std()))"
   ]
  },
  {
   "cell_type": "code",
   "execution_count": 16,
   "metadata": {},
   "outputs": [
    {
     "name": "stdout",
     "output_type": "stream",
     "text": [
      "3 Classes - Mean accuracy: 0.551233, Deviation: 0.013827\n",
      "2 Classes - Mean accuracy: 0.650431, Deviation: 0.029969\n",
      "2 Mixed Classes - Mean accuracy: 0.562215, Deviation: 0.026105\n"
     ]
    }
   ],
   "source": [
    "for key in dfs:\n",
    "    classify(dfs[key], key)"
   ]
  },
  {
   "cell_type": "markdown",
   "metadata": {},
   "source": [
    "### Feature Selection"
   ]
  },
  {
   "cell_type": "code",
   "execution_count": 17,
   "metadata": {},
   "outputs": [],
   "source": [
    "from sklearn.feature_selection import mutual_info_classif\n",
    "\n",
    "def get_top_features(df):\n",
    "    vectorizer = TfidfVectorizer(ngram_range=ngram,min_df=mindf,max_df=maxdf)\n",
    "    vectors = vectorizer.fit_transform(df['text']).toarray()\n",
    "    feature_scores = mutual_info_classif(vectors, df['rating'].astype('int'))\n",
    "    \n",
    "    for score, fname in sorted(zip(feature_scores, vectorizer.get_feature_names()), reverse=True)[:30]:\n",
    "        print(fname, score)"
   ]
  },
  {
   "cell_type": "code",
   "execution_count": 18,
   "metadata": {},
   "outputs": [],
   "source": [
    "# for key in dfs:\n",
    "#     print(\"********** %s **********\" % key)\n",
    "#     get_top_features(dfs[key])\n",
    "#     print()"
   ]
  }
 ],
 "metadata": {
  "kernelspec": {
   "display_name": "Python 3",
   "language": "python",
   "name": "python3"
  },
  "language_info": {
   "codemirror_mode": {
    "name": "ipython",
    "version": 3
   },
   "file_extension": ".py",
   "mimetype": "text/x-python",
   "name": "python",
   "nbconvert_exporter": "python",
   "pygments_lexer": "ipython3",
   "version": "3.7.4"
  }
 },
 "nbformat": 4,
 "nbformat_minor": 2
}
