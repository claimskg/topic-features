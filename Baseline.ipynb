{
 "cells": [
  {
   "cell_type": "code",
   "execution_count": 1,
   "metadata": {},
   "outputs": [],
   "source": [
    "# Load contractions model\n",
    "from pycontractions import Contractions\n",
    "\n",
    "cont = Contractions(api_key=\"glove-twitter-100\")\n",
    "cont.load_models()"
   ]
  },
  {
   "cell_type": "markdown",
   "metadata": {},
   "source": [
    "### Parameters"
   ]
  },
  {
   "cell_type": "code",
   "execution_count": 36,
   "metadata": {},
   "outputs": [],
   "source": [
    "file = 'Data/c3.csv'\n",
    "ngram = (1,3)\n",
    "mindf = 2\n",
    "maxdf = 0.8"
   ]
  },
  {
   "cell_type": "markdown",
   "metadata": {},
   "source": [
    "### Load"
   ]
  },
  {
   "cell_type": "code",
   "execution_count": 37,
   "metadata": {},
   "outputs": [
    {
     "data": {
      "text/html": [
       "<div>\n",
       "<style scoped>\n",
       "    .dataframe tbody tr th:only-of-type {\n",
       "        vertical-align: middle;\n",
       "    }\n",
       "\n",
       "    .dataframe tbody tr th {\n",
       "        vertical-align: top;\n",
       "    }\n",
       "\n",
       "    .dataframe thead th {\n",
       "        text-align: right;\n",
       "    }\n",
       "</style>\n",
       "<table border=\"1\" class=\"dataframe\">\n",
       "  <thead>\n",
       "    <tr style=\"text-align: right;\">\n",
       "      <th></th>\n",
       "      <th>id</th>\n",
       "      <th>text</th>\n",
       "      <th>author</th>\n",
       "      <th>date</th>\n",
       "      <th>keywords</th>\n",
       "      <th>organization</th>\n",
       "      <th>rating</th>\n",
       "    </tr>\n",
       "  </thead>\n",
       "  <tbody>\n",
       "    <tr>\n",
       "      <th>0</th>\n",
       "      <td>http://data.gesis.org/claimskg/creative_work/c...</td>\n",
       "      <td>Says Obama adviser David Plouffe took 'large p...</td>\n",
       "      <td>Secure America Now</td>\n",
       "      <td>09/12/2019</td>\n",
       "      <td>candidate biography,foreign policy,message mac...</td>\n",
       "      <td>politifact</td>\n",
       "      <td>MIXTURE</td>\n",
       "    </tr>\n",
       "    <tr>\n",
       "      <th>1</th>\n",
       "      <td>http://data.gesis.org/claimskg/creative_work/5...</td>\n",
       "      <td>'For his first interview as president, Barack ...</td>\n",
       "      <td>Secure America Now</td>\n",
       "      <td>07/04/2019</td>\n",
       "      <td>foreign policy,message machine 2012</td>\n",
       "      <td>politifact</td>\n",
       "      <td>MIXTURE</td>\n",
       "    </tr>\n",
       "    <tr>\n",
       "      <th>2</th>\n",
       "      <td>http://data.gesis.org/claimskg/creative_work/0...</td>\n",
       "      <td>'A few months ago when you were asked what's t...</td>\n",
       "      <td>Barack Obama</td>\n",
       "      <td>03/25/2019</td>\n",
       "      <td>corrections and updates,debates,foreign policy</td>\n",
       "      <td>politifact</td>\n",
       "      <td>MIXTURE</td>\n",
       "    </tr>\n",
       "    <tr>\n",
       "      <th>3</th>\n",
       "      <td>http://data.gesis.org/claimskg/creative_work/0...</td>\n",
       "      <td>Russia and China are 'doing naval exercises to...</td>\n",
       "      <td>Donald Trump</td>\n",
       "      <td>03/25/2019</td>\n",
       "      <td>china,foreign policy,terrorism</td>\n",
       "      <td>politifact</td>\n",
       "      <td>MIXTURE</td>\n",
       "    </tr>\n",
       "    <tr>\n",
       "      <th>4</th>\n",
       "      <td>http://data.gesis.org/claimskg/creative_work/0...</td>\n",
       "      <td>'The president said he’s going to bring in 250...</td>\n",
       "      <td>Sean Hannity</td>\n",
       "      <td>03/25/2019</td>\n",
       "      <td>foreign policy,immigration,terrorism</td>\n",
       "      <td>politifact</td>\n",
       "      <td>FALSE</td>\n",
       "    </tr>\n",
       "  </tbody>\n",
       "</table>\n",
       "</div>"
      ],
      "text/plain": [
       "                                                  id  \\\n",
       "0  http://data.gesis.org/claimskg/creative_work/c...   \n",
       "1  http://data.gesis.org/claimskg/creative_work/5...   \n",
       "2  http://data.gesis.org/claimskg/creative_work/0...   \n",
       "3  http://data.gesis.org/claimskg/creative_work/0...   \n",
       "4  http://data.gesis.org/claimskg/creative_work/0...   \n",
       "\n",
       "                                                text              author  \\\n",
       "0  Says Obama adviser David Plouffe took 'large p...  Secure America Now   \n",
       "1  'For his first interview as president, Barack ...  Secure America Now   \n",
       "2  'A few months ago when you were asked what's t...        Barack Obama   \n",
       "3  Russia and China are 'doing naval exercises to...        Donald Trump   \n",
       "4  'The president said he’s going to bring in 250...        Sean Hannity   \n",
       "\n",
       "         date                                           keywords organization  \\\n",
       "0  09/12/2019  candidate biography,foreign policy,message mac...   politifact   \n",
       "1  07/04/2019                foreign policy,message machine 2012   politifact   \n",
       "2  03/25/2019     corrections and updates,debates,foreign policy   politifact   \n",
       "3  03/25/2019                     china,foreign policy,terrorism   politifact   \n",
       "4  03/25/2019               foreign policy,immigration,terrorism   politifact   \n",
       "\n",
       "    rating  \n",
       "0  MIXTURE  \n",
       "1  MIXTURE  \n",
       "2  MIXTURE  \n",
       "3  MIXTURE  \n",
       "4    FALSE  "
      ]
     },
     "metadata": {},
     "output_type": "display_data"
    }
   ],
   "source": [
    "import pandas as pd\n",
    "\n",
    "df = pd.read_csv(file,sep=\",\")\n",
    "display(df.head())"
   ]
  },
  {
   "cell_type": "code",
   "execution_count": 38,
   "metadata": {},
   "outputs": [
    {
     "name": "stdout",
     "output_type": "stream",
     "text": [
      "(1377, 7)\n"
     ]
    },
    {
     "data": {
      "text/plain": [
       "498"
      ]
     },
     "execution_count": 38,
     "metadata": {},
     "output_type": "execute_result"
    }
   ],
   "source": [
    "df5 = df.copy().sort_values(by=\"author\")\n",
    "df6 = df5.loc[(df5['organization'] != 'snopes')]\n",
    "authors = df6[\"author\"].unique()\n",
    "#display(df6)\n",
    "\n",
    "print(df6.shape)\n",
    "len(authors)"
   ]
  },
  {
   "cell_type": "code",
   "execution_count": 39,
   "metadata": {},
   "outputs": [
    {
     "data": {
      "text/html": [
       "<div>\n",
       "<style scoped>\n",
       "    .dataframe tbody tr th:only-of-type {\n",
       "        vertical-align: middle;\n",
       "    }\n",
       "\n",
       "    .dataframe tbody tr th {\n",
       "        vertical-align: top;\n",
       "    }\n",
       "\n",
       "    .dataframe thead th {\n",
       "        text-align: right;\n",
       "    }\n",
       "</style>\n",
       "<table border=\"1\" class=\"dataframe\">\n",
       "  <thead>\n",
       "    <tr style=\"text-align: right;\">\n",
       "      <th></th>\n",
       "      <th>id</th>\n",
       "      <th>text</th>\n",
       "      <th>author</th>\n",
       "      <th>date</th>\n",
       "      <th>keywords</th>\n",
       "      <th>organization</th>\n",
       "      <th>rating</th>\n",
       "    </tr>\n",
       "  </thead>\n",
       "  <tbody>\n",
       "    <tr>\n",
       "      <th>0</th>\n",
       "      <td>http://data.gesis.org/claimskg/creative_work/c...</td>\n",
       "      <td>Says Obama adviser David Plouffe took 'large p...</td>\n",
       "      <td>Secure America Now</td>\n",
       "      <td>09/12/2019</td>\n",
       "      <td>candidate biography,foreign policy,message mac...</td>\n",
       "      <td>politifact</td>\n",
       "      <td>MIXTURE</td>\n",
       "    </tr>\n",
       "    <tr>\n",
       "      <th>1</th>\n",
       "      <td>http://data.gesis.org/claimskg/creative_work/5...</td>\n",
       "      <td>'For his first interview as president, Barack ...</td>\n",
       "      <td>Secure America Now</td>\n",
       "      <td>07/04/2019</td>\n",
       "      <td>foreign policy,message machine 2012</td>\n",
       "      <td>politifact</td>\n",
       "      <td>MIXTURE</td>\n",
       "    </tr>\n",
       "    <tr>\n",
       "      <th>2</th>\n",
       "      <td>http://data.gesis.org/claimskg/creative_work/0...</td>\n",
       "      <td>'A few months ago when you were asked what's t...</td>\n",
       "      <td>Barack Obama</td>\n",
       "      <td>03/25/2019</td>\n",
       "      <td>corrections and updates,debates,foreign policy</td>\n",
       "      <td>politifact</td>\n",
       "      <td>MIXTURE</td>\n",
       "    </tr>\n",
       "    <tr>\n",
       "      <th>3</th>\n",
       "      <td>http://data.gesis.org/claimskg/creative_work/0...</td>\n",
       "      <td>Russia and China are 'doing naval exercises to...</td>\n",
       "      <td>Donald Trump</td>\n",
       "      <td>03/25/2019</td>\n",
       "      <td>china,foreign policy,terrorism</td>\n",
       "      <td>politifact</td>\n",
       "      <td>MIXTURE</td>\n",
       "    </tr>\n",
       "    <tr>\n",
       "      <th>4</th>\n",
       "      <td>http://data.gesis.org/claimskg/creative_work/0...</td>\n",
       "      <td>'The president said he’s going to bring in 250...</td>\n",
       "      <td>Sean Hannity</td>\n",
       "      <td>03/25/2019</td>\n",
       "      <td>foreign policy,immigration,terrorism</td>\n",
       "      <td>politifact</td>\n",
       "      <td>FALSE</td>\n",
       "    </tr>\n",
       "  </tbody>\n",
       "</table>\n",
       "</div>"
      ],
      "text/plain": [
       "                                                  id  \\\n",
       "0  http://data.gesis.org/claimskg/creative_work/c...   \n",
       "1  http://data.gesis.org/claimskg/creative_work/5...   \n",
       "2  http://data.gesis.org/claimskg/creative_work/0...   \n",
       "3  http://data.gesis.org/claimskg/creative_work/0...   \n",
       "4  http://data.gesis.org/claimskg/creative_work/0...   \n",
       "\n",
       "                                                text              author  \\\n",
       "0  Says Obama adviser David Plouffe took 'large p...  Secure America Now   \n",
       "1  'For his first interview as president, Barack ...  Secure America Now   \n",
       "2  'A few months ago when you were asked what's t...        Barack Obama   \n",
       "3  Russia and China are 'doing naval exercises to...        Donald Trump   \n",
       "4  'The president said he’s going to bring in 250...        Sean Hannity   \n",
       "\n",
       "         date                                           keywords organization  \\\n",
       "0  09/12/2019  candidate biography,foreign policy,message mac...   politifact   \n",
       "1  07/04/2019                foreign policy,message machine 2012   politifact   \n",
       "2  03/25/2019     corrections and updates,debates,foreign policy   politifact   \n",
       "3  03/25/2019                     china,foreign policy,terrorism   politifact   \n",
       "4  03/25/2019               foreign policy,immigration,terrorism   politifact   \n",
       "\n",
       "    rating  \n",
       "0  MIXTURE  \n",
       "1  MIXTURE  \n",
       "2  MIXTURE  \n",
       "3  MIXTURE  \n",
       "4    FALSE  "
      ]
     },
     "metadata": {},
     "output_type": "display_data"
    }
   ],
   "source": [
    "df1 = df.copy()\n",
    "df1 = df1.loc[df1['rating'] != 'OTHER']\n",
    "display(df1.head())"
   ]
  },
  {
   "cell_type": "code",
   "execution_count": 40,
   "metadata": {},
   "outputs": [
    {
     "name": "stdout",
     "output_type": "stream",
     "text": [
      "True claims : 209\n",
      "False claims : 438\n",
      "Mixture claims : 763\n",
      "TF claims : 647\n"
     ]
    }
   ],
   "source": [
    "t = df1.loc[(df1['rating'] == 'TRUE')]['id'].count()\n",
    "f = df1.loc[(df1['rating'] == 'FALSE')]['id'].count()\n",
    "m = df1.loc[(df1['rating'] == 'MIXTURE')]['id'].count()\n",
    "\n",
    "print('True claims : %d' % t)\n",
    "print('False claims : %d' % f)\n",
    "print('Mixture claims : %d' % m)\n",
    "print('TF claims : %d' % (t+f))"
   ]
  },
  {
   "cell_type": "markdown",
   "metadata": {},
   "source": [
    "### Preprocess"
   ]
  },
  {
   "cell_type": "code",
   "execution_count": 41,
   "metadata": {},
   "outputs": [],
   "source": [
    "import re\n",
    "\n",
    "# def preprocess(sentence):\n",
    "#     sentence = sentence.lower().strip()\n",
    "#     translator = str.maketrans('’', \"'\", '')\n",
    "#     sentence = sentence.translate(translator)\n",
    "#     sentence = re.sub(\"u\\.s\\.\",\"united states\",sentence)\n",
    "#     sentence = list(cont.expand_texts([sentence],precise=True))[0]\n",
    "#     sentence = re.sub(\"[^a-zA-Z0-9_.’,]|(?<!\\d)\\.(?!\\d)|(?<!\\w)-(?!\\w)|(?<!\\d)\\,(?!\\d)\",' ',sentence)\n",
    "#     sentence = re.sub(\",\",'',sentence)\n",
    "#     sentence = re.sub('\\s+', ' ', sentence).strip()\n",
    "#     sentence = re.sub(\" s \",' ',sentence)\n",
    "#     if sentence[0:5] == 'says ':\n",
    "#         sentence = sentence[5:]\n",
    "#     return sentence\n",
    "\n",
    "def preprocess(sentence):\n",
    "    sentence = sentence.lower().strip()\n",
    "    translator = str.maketrans('’', \"'\", '')\n",
    "    sentence = sentence.translate(translator)\n",
    "    sentence = re.sub(\"u\\.s\\.\",\"united states\",sentence)\n",
    "    sentence = list(cont.expand_texts([sentence],precise=True))[0]\n",
    "    sentence = re.sub(\"[^a-zA-Z0-9_.’,]|(?<!\\d)\\.(?!\\d)|(?<!\\w)-(?!\\w)|(?<!\\d)\\,(?!\\d)\",' ',sentence)\n",
    "    sentence = re.sub(\",\",'',sentence)\n",
    "    sentence = re.sub(\"\\.\",'',sentence)\n",
    "    sentence = re.sub(\" a \",' ',sentence)\n",
    "    sentence = re.sub('\\s+', ' ', sentence).strip()\n",
    "    sentence = re.sub(\" s \",' ',sentence)\n",
    "    if sentence[0:5] == 'says ':\n",
    "        sentence = sentence[5:]\n",
    "    sentence = ' '.join([w for w in sentence.split() if len(w)>1])\n",
    "    return sentence"
   ]
  },
  {
   "cell_type": "code",
   "execution_count": 42,
   "metadata": {},
   "outputs": [],
   "source": [
    "for index in df1.index:\n",
    "    df1.at[index,'text'] = preprocess(df1.at[index,'text'])\n",
    "    rating = df1.at[index,'rating']\n",
    "    if rating == 'FALSE':\n",
    "        df1.at[index,'rating'] = 0\n",
    "    if rating == 'TRUE':\n",
    "        df1.at[index,'rating'] = 1\n",
    "    if rating == 'MIXTURE':\n",
    "        df1.at[index,'rating'] = 2"
   ]
  },
  {
   "cell_type": "code",
   "execution_count": 43,
   "metadata": {},
   "outputs": [
    {
     "name": "stdout",
     "output_type": "stream",
     "text": [
      "obama adviser david plouffe took large piles of cash from joint venture partner of company owned by iran revolutionary guard\n",
      "\n",
      "for his first interview as president barack obama chose arab tv for an apology\n",
      "\n",
      "few months ago when you we are asked what has the biggest geopolitical threat facing america you said russia\n",
      "\n",
      "russia and china are doing naval exercises together someplace\n",
      "\n",
      "the president said he is going to bring in 250000 syrian and iraqi refugees into this country\n",
      "\n",
      "donald trump publicly invited putin to hack into americans emails\n",
      "\n",
      "al franken said almost exactly what trump said about john mccain military record\n",
      "\n",
      "now we have isis coming over the united states mexico border\n",
      "\n",
      "the pass rate for high school level test to join the military is 35 to 40 percent\n",
      "\n",
      "it is more difficult to obtain costco membership than it is to get nyc municipal id\n",
      "\n",
      "donald trump has outlined policies that read like kremlin wish list\n",
      "\n",
      "led the fight to require the coast guard to buy their engines from us not foreign companies\n",
      "\n",
      "ron johnson helped companies ship jobs overseas\n",
      "\n",
      "united states troops are getting only hours of ebola training before deployment to liberia\n",
      "\n",
      "marco rubio did not show up for vote on his own bill on sanctions against hezbollah\n",
      "\n",
      "virginia is home to more veterans per capita than any state in america\n",
      "\n",
      "am the only united states senate candidate who spoke out against bombing syria and who challenged georgia governor and insurance commissioner over obstruction to the affordable care act\n",
      "\n",
      "obama orders ban on christmas cards to military\n",
      "\n",
      "tim kaine doubled down in his support of devastating defense cuts saying the the deal was the right thing to do\n",
      "\n",
      "we are amassing most of our military strength in country where fewer than 100 members of al qaeda remain\n",
      "\n"
     ]
    }
   ],
   "source": [
    "for index in df1.index:\n",
    "    if index < 20:\n",
    "        print(\"%s\\n\" % df1.at[index,'text'])"
   ]
  },
  {
   "cell_type": "markdown",
   "metadata": {},
   "source": [
    "### Create additional dataframes"
   ]
  },
  {
   "cell_type": "code",
   "execution_count": 44,
   "metadata": {},
   "outputs": [],
   "source": [
    "#df1 = true/false/mixed\n",
    "#df2 = true/false\n",
    "#df3 = true-false/mixed"
   ]
  },
  {
   "cell_type": "code",
   "execution_count": 45,
   "metadata": {},
   "outputs": [
    {
     "data": {
      "text/html": [
       "<div>\n",
       "<style scoped>\n",
       "    .dataframe tbody tr th:only-of-type {\n",
       "        vertical-align: middle;\n",
       "    }\n",
       "\n",
       "    .dataframe tbody tr th {\n",
       "        vertical-align: top;\n",
       "    }\n",
       "\n",
       "    .dataframe thead th {\n",
       "        text-align: right;\n",
       "    }\n",
       "</style>\n",
       "<table border=\"1\" class=\"dataframe\">\n",
       "  <thead>\n",
       "    <tr style=\"text-align: right;\">\n",
       "      <th></th>\n",
       "      <th>id</th>\n",
       "      <th>text</th>\n",
       "      <th>author</th>\n",
       "      <th>date</th>\n",
       "      <th>keywords</th>\n",
       "      <th>organization</th>\n",
       "      <th>rating</th>\n",
       "    </tr>\n",
       "  </thead>\n",
       "  <tbody>\n",
       "    <tr>\n",
       "      <th>4</th>\n",
       "      <td>http://data.gesis.org/claimskg/creative_work/0...</td>\n",
       "      <td>the president said he is going to bring in 250...</td>\n",
       "      <td>Sean Hannity</td>\n",
       "      <td>03/25/2019</td>\n",
       "      <td>foreign policy,immigration,terrorism</td>\n",
       "      <td>politifact</td>\n",
       "      <td>0</td>\n",
       "    </tr>\n",
       "    <tr>\n",
       "      <th>7</th>\n",
       "      <td>http://data.gesis.org/claimskg/creative_work/0...</td>\n",
       "      <td>now we have isis coming over the united states...</td>\n",
       "      <td>Jeff DeWit</td>\n",
       "      <td>03/25/2019</td>\n",
       "      <td>terrorism</td>\n",
       "      <td>politifact</td>\n",
       "      <td>0</td>\n",
       "    </tr>\n",
       "    <tr>\n",
       "      <th>8</th>\n",
       "      <td>http://data.gesis.org/claimskg/creative_work/0...</td>\n",
       "      <td>the pass rate for high school level test to jo...</td>\n",
       "      <td>Jeb Bush</td>\n",
       "      <td>03/25/2019</td>\n",
       "      <td>education,military</td>\n",
       "      <td>politifact</td>\n",
       "      <td>0</td>\n",
       "    </tr>\n",
       "    <tr>\n",
       "      <th>9</th>\n",
       "      <td>http://data.gesis.org/claimskg/creative_work/0...</td>\n",
       "      <td>it is more difficult to obtain costco membersh...</td>\n",
       "      <td>Ron Castorina, Jr.</td>\n",
       "      <td>03/25/2019</td>\n",
       "      <td>immigration,terrorism</td>\n",
       "      <td>politifact</td>\n",
       "      <td>0</td>\n",
       "    </tr>\n",
       "    <tr>\n",
       "      <th>12</th>\n",
       "      <td>http://data.gesis.org/claimskg/creative_work/0...</td>\n",
       "      <td>ron johnson helped companies ship jobs overseas</td>\n",
       "      <td>Russ Feingold</td>\n",
       "      <td>03/25/2019</td>\n",
       "      <td>foreign policy,jobs,trade</td>\n",
       "      <td>politifact</td>\n",
       "      <td>0</td>\n",
       "    </tr>\n",
       "  </tbody>\n",
       "</table>\n",
       "</div>"
      ],
      "text/plain": [
       "                                                   id  \\\n",
       "4   http://data.gesis.org/claimskg/creative_work/0...   \n",
       "7   http://data.gesis.org/claimskg/creative_work/0...   \n",
       "8   http://data.gesis.org/claimskg/creative_work/0...   \n",
       "9   http://data.gesis.org/claimskg/creative_work/0...   \n",
       "12  http://data.gesis.org/claimskg/creative_work/0...   \n",
       "\n",
       "                                                 text              author  \\\n",
       "4   the president said he is going to bring in 250...        Sean Hannity   \n",
       "7   now we have isis coming over the united states...          Jeff DeWit   \n",
       "8   the pass rate for high school level test to jo...            Jeb Bush   \n",
       "9   it is more difficult to obtain costco membersh...  Ron Castorina, Jr.   \n",
       "12    ron johnson helped companies ship jobs overseas       Russ Feingold   \n",
       "\n",
       "          date                              keywords organization rating  \n",
       "4   03/25/2019  foreign policy,immigration,terrorism   politifact      0  \n",
       "7   03/25/2019                             terrorism   politifact      0  \n",
       "8   03/25/2019                    education,military   politifact      0  \n",
       "9   03/25/2019                 immigration,terrorism   politifact      0  \n",
       "12  03/25/2019             foreign policy,jobs,trade   politifact      0  "
      ]
     },
     "execution_count": 45,
     "metadata": {},
     "output_type": "execute_result"
    }
   ],
   "source": [
    "df2 = df1.copy()\n",
    "df2 = df2.loc[(df2['rating'] == 0) | (df2['rating'] == 1)]\n",
    "df2.head()"
   ]
  },
  {
   "cell_type": "code",
   "execution_count": 46,
   "metadata": {},
   "outputs": [
    {
     "data": {
      "text/html": [
       "<div>\n",
       "<style scoped>\n",
       "    .dataframe tbody tr th:only-of-type {\n",
       "        vertical-align: middle;\n",
       "    }\n",
       "\n",
       "    .dataframe tbody tr th {\n",
       "        vertical-align: top;\n",
       "    }\n",
       "\n",
       "    .dataframe thead th {\n",
       "        text-align: right;\n",
       "    }\n",
       "</style>\n",
       "<table border=\"1\" class=\"dataframe\">\n",
       "  <thead>\n",
       "    <tr style=\"text-align: right;\">\n",
       "      <th></th>\n",
       "      <th>id</th>\n",
       "      <th>text</th>\n",
       "      <th>author</th>\n",
       "      <th>date</th>\n",
       "      <th>keywords</th>\n",
       "      <th>organization</th>\n",
       "      <th>rating</th>\n",
       "    </tr>\n",
       "  </thead>\n",
       "  <tbody>\n",
       "    <tr>\n",
       "      <th>0</th>\n",
       "      <td>http://data.gesis.org/claimskg/creative_work/c...</td>\n",
       "      <td>obama adviser david plouffe took large piles o...</td>\n",
       "      <td>Secure America Now</td>\n",
       "      <td>09/12/2019</td>\n",
       "      <td>candidate biography,foreign policy,message mac...</td>\n",
       "      <td>politifact</td>\n",
       "      <td>1</td>\n",
       "    </tr>\n",
       "    <tr>\n",
       "      <th>1</th>\n",
       "      <td>http://data.gesis.org/claimskg/creative_work/5...</td>\n",
       "      <td>for his first interview as president barack ob...</td>\n",
       "      <td>Secure America Now</td>\n",
       "      <td>07/04/2019</td>\n",
       "      <td>foreign policy,message machine 2012</td>\n",
       "      <td>politifact</td>\n",
       "      <td>1</td>\n",
       "    </tr>\n",
       "    <tr>\n",
       "      <th>2</th>\n",
       "      <td>http://data.gesis.org/claimskg/creative_work/0...</td>\n",
       "      <td>few months ago when you we are asked what has ...</td>\n",
       "      <td>Barack Obama</td>\n",
       "      <td>03/25/2019</td>\n",
       "      <td>corrections and updates,debates,foreign policy</td>\n",
       "      <td>politifact</td>\n",
       "      <td>1</td>\n",
       "    </tr>\n",
       "    <tr>\n",
       "      <th>3</th>\n",
       "      <td>http://data.gesis.org/claimskg/creative_work/0...</td>\n",
       "      <td>russia and china are doing naval exercises tog...</td>\n",
       "      <td>Donald Trump</td>\n",
       "      <td>03/25/2019</td>\n",
       "      <td>china,foreign policy,terrorism</td>\n",
       "      <td>politifact</td>\n",
       "      <td>1</td>\n",
       "    </tr>\n",
       "    <tr>\n",
       "      <th>4</th>\n",
       "      <td>http://data.gesis.org/claimskg/creative_work/0...</td>\n",
       "      <td>the president said he is going to bring in 250...</td>\n",
       "      <td>Sean Hannity</td>\n",
       "      <td>03/25/2019</td>\n",
       "      <td>foreign policy,immigration,terrorism</td>\n",
       "      <td>politifact</td>\n",
       "      <td>0</td>\n",
       "    </tr>\n",
       "  </tbody>\n",
       "</table>\n",
       "</div>"
      ],
      "text/plain": [
       "                                                  id  \\\n",
       "0  http://data.gesis.org/claimskg/creative_work/c...   \n",
       "1  http://data.gesis.org/claimskg/creative_work/5...   \n",
       "2  http://data.gesis.org/claimskg/creative_work/0...   \n",
       "3  http://data.gesis.org/claimskg/creative_work/0...   \n",
       "4  http://data.gesis.org/claimskg/creative_work/0...   \n",
       "\n",
       "                                                text              author  \\\n",
       "0  obama adviser david plouffe took large piles o...  Secure America Now   \n",
       "1  for his first interview as president barack ob...  Secure America Now   \n",
       "2  few months ago when you we are asked what has ...        Barack Obama   \n",
       "3  russia and china are doing naval exercises tog...        Donald Trump   \n",
       "4  the president said he is going to bring in 250...        Sean Hannity   \n",
       "\n",
       "         date                                           keywords organization  \\\n",
       "0  09/12/2019  candidate biography,foreign policy,message mac...   politifact   \n",
       "1  07/04/2019                foreign policy,message machine 2012   politifact   \n",
       "2  03/25/2019     corrections and updates,debates,foreign policy   politifact   \n",
       "3  03/25/2019                     china,foreign policy,terrorism   politifact   \n",
       "4  03/25/2019               foreign policy,immigration,terrorism   politifact   \n",
       "\n",
       "  rating  \n",
       "0      1  \n",
       "1      1  \n",
       "2      1  \n",
       "3      1  \n",
       "4      0  "
      ]
     },
     "execution_count": 46,
     "metadata": {},
     "output_type": "execute_result"
    }
   ],
   "source": [
    "df3 = df1.copy()\n",
    "for index in df3.index:\n",
    "    rating = df3.at[index,'rating']\n",
    "    if rating == 1:\n",
    "        df3.at[index,'rating'] = 0\n",
    "    if rating == 2:\n",
    "        df3.at[index,'rating'] = 1\n",
    "        \n",
    "df3.head()"
   ]
  },
  {
   "cell_type": "code",
   "execution_count": 47,
   "metadata": {},
   "outputs": [],
   "source": [
    "dfs = dict()\n",
    "dfs['3 Classes'] = df1\n",
    "dfs['2 Classes'] = df2\n",
    "dfs['2 Mixed Classes'] = df3"
   ]
  },
  {
   "cell_type": "markdown",
   "metadata": {},
   "source": [
    "### Vectors"
   ]
  },
  {
   "cell_type": "code",
   "execution_count": 48,
   "metadata": {},
   "outputs": [],
   "source": [
    "from sklearn.feature_extraction.text import TfidfVectorizer\n",
    "\n",
    "def vectorize(df):\n",
    "    vectorizer = TfidfVectorizer(ngram_range=ngram,min_df=mindf,max_df=maxdf)\n",
    "    vectors = vectorizer.fit_transform(df['text']).toarray()\n",
    "    #print(vectorizer.get_feature_names())\n",
    "    return vectors"
   ]
  },
  {
   "cell_type": "markdown",
   "metadata": {},
   "source": [
    "### Classification"
   ]
  },
  {
   "cell_type": "code",
   "execution_count": 49,
   "metadata": {},
   "outputs": [],
   "source": [
    "from sklearn.svm import LinearSVC\n",
    "from sklearn.model_selection import KFold\n",
    "from sklearn.model_selection import StratifiedKFold\n",
    "from sklearn.model_selection import cross_val_score\n",
    "\n",
    "def classify(df, key):\n",
    "    X = vectorize(df)\n",
    "    y = df[\"rating\"]\n",
    "    y = y.astype('int')\n",
    "    clf = LinearSVC(random_state=0, tol=1e-5)\n",
    "    k_fold = StratifiedKFold(n_splits=10, shuffle=True, random_state=None)\n",
    "    score = cross_val_score(clf, X, y, cv=k_fold, scoring='accuracy')\n",
    "    print('%s - Mean accuracy: %f, Deviation: %f' % (key,score.mean(),score.std()))"
   ]
  },
  {
   "cell_type": "code",
   "execution_count": 50,
   "metadata": {},
   "outputs": [
    {
     "name": "stdout",
     "output_type": "stream",
     "text": [
      "3 Classes - Mean accuracy: 0.533456, Deviation: 0.053546\n",
      "2 Classes - Mean accuracy: 0.706087, Deviation: 0.064653\n",
      "2 Mixed Classes - Mean accuracy: 0.576719, Deviation: 0.034614\n"
     ]
    }
   ],
   "source": [
    "for key in dfs:\n",
    "    classify(dfs[key], key)"
   ]
  },
  {
   "cell_type": "markdown",
   "metadata": {},
   "source": [
    "### Feature Selection"
   ]
  },
  {
   "cell_type": "code",
   "execution_count": 51,
   "metadata": {},
   "outputs": [],
   "source": [
    "from sklearn.feature_selection import mutual_info_classif\n",
    "\n",
    "def get_top_features(df):\n",
    "    vectorizer = TfidfVectorizer(ngram_range=ngram,min_df=mindf,max_df=maxdf)\n",
    "    vectors = vectorizer.fit_transform(df['text']).toarray()\n",
    "    feature_scores = mutual_info_classif(vectors, df['rating'].astype('int'))\n",
    "    \n",
    "    for score, fname in sorted(zip(feature_scores, vectorizer.get_feature_names()), reverse=True)[:30]:\n",
    "        print(fname, score)"
   ]
  },
  {
   "cell_type": "code",
   "execution_count": 52,
   "metadata": {},
   "outputs": [],
   "source": [
    "# for key in dfs:\n",
    "#     print(\"********** %s **********\" % key)\n",
    "#     get_top_features(dfs[key])\n",
    "#     print()"
   ]
  }
 ],
 "metadata": {
  "kernelspec": {
   "display_name": "Python 3",
   "language": "python",
   "name": "python3"
  },
  "language_info": {
   "codemirror_mode": {
    "name": "ipython",
    "version": 3
   },
   "file_extension": ".py",
   "mimetype": "text/x-python",
   "name": "python",
   "nbconvert_exporter": "python",
   "pygments_lexer": "ipython3",
   "version": "3.7.4"
  }
 },
 "nbformat": 4,
 "nbformat_minor": 2
}
