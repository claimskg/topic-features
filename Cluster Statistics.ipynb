{
 "cells": [
  {
   "cell_type": "markdown",
   "metadata": {},
   "source": [
    "### Imports"
   ]
  },
  {
   "cell_type": "code",
   "execution_count": 10,
   "metadata": {},
   "outputs": [],
   "source": [
    "import pandas as pd\n",
    "import numpy as np\n",
    "import csv"
   ]
  },
  {
   "cell_type": "markdown",
   "metadata": {},
   "source": [
    "### Load Data"
   ]
  },
  {
   "cell_type": "code",
   "execution_count": 11,
   "metadata": {},
   "outputs": [
    {
     "data": {
      "text/html": [
       "<div>\n",
       "<style scoped>\n",
       "    .dataframe tbody tr th:only-of-type {\n",
       "        vertical-align: middle;\n",
       "    }\n",
       "\n",
       "    .dataframe tbody tr th {\n",
       "        vertical-align: top;\n",
       "    }\n",
       "\n",
       "    .dataframe thead th {\n",
       "        text-align: right;\n",
       "    }\n",
       "</style>\n",
       "<table border=\"1\" class=\"dataframe\">\n",
       "  <thead>\n",
       "    <tr style=\"text-align: right;\">\n",
       "      <th></th>\n",
       "      <th>uri</th>\n",
       "      <th>date</th>\n",
       "      <th>author</th>\n",
       "      <th>claim</th>\n",
       "      <th>keywords</th>\n",
       "      <th>organization</th>\n",
       "      <th>rating</th>\n",
       "    </tr>\n",
       "  </thead>\n",
       "  <tbody>\n",
       "    <tr>\n",
       "      <th>0</th>\n",
       "      <td>http://data.gesis.org/claimskg/creative_work/9...</td>\n",
       "      <td>03/26/2055</td>\n",
       "      <td>Yes on 55</td>\n",
       "      <td>California’s Prop 55 'prevents $4 billion in n...</td>\n",
       "      <td>education,state finances</td>\n",
       "      <td>politifact</td>\n",
       "      <td>MIXTURE</td>\n",
       "    </tr>\n",
       "    <tr>\n",
       "      <th>1</th>\n",
       "      <td>http://data.gesis.org/claimskg/creative_work/e...</td>\n",
       "      <td>03/26/2020</td>\n",
       "      <td>Our Democracy 2020</td>\n",
       "      <td>Says an election clerk in Green Bay refused to...</td>\n",
       "      <td>bipartisanship,city government,education,elect...</td>\n",
       "      <td>politifact</td>\n",
       "      <td>MIXTURE</td>\n",
       "    </tr>\n",
       "    <tr>\n",
       "      <th>2</th>\n",
       "      <td>http://data.gesis.org/claimskg/creative_work/d...</td>\n",
       "      <td>12/10/2019</td>\n",
       "      <td>America Today</td>\n",
       "      <td>'Queen Elizabeth removes Obamas from royal wed...</td>\n",
       "      <td>fake news</td>\n",
       "      <td>politifact</td>\n",
       "      <td>FALSE</td>\n",
       "    </tr>\n",
       "    <tr>\n",
       "      <th>3</th>\n",
       "      <td>http://data.gesis.org/claimskg/creative_work/0...</td>\n",
       "      <td>12/03/2019</td>\n",
       "      <td>One Wisconsin Now</td>\n",
       "      <td>Says state schools superintendent candidate Do...</td>\n",
       "      <td>corporations,education,small business,state bu...</td>\n",
       "      <td>politifact</td>\n",
       "      <td>MIXTURE</td>\n",
       "    </tr>\n",
       "    <tr>\n",
       "      <th>4</th>\n",
       "      <td>http://data.gesis.org/claimskg/creative_work/f...</td>\n",
       "      <td>11/27/2019</td>\n",
       "      <td>One Wisconsin Now</td>\n",
       "      <td>'The Walton family, which owns Wal-Mart, contr...</td>\n",
       "      <td>corporations,economy,income,labor,wealth</td>\n",
       "      <td>politifact</td>\n",
       "      <td>TRUE</td>\n",
       "    </tr>\n",
       "  </tbody>\n",
       "</table>\n",
       "</div>"
      ],
      "text/plain": [
       "                                                 uri        date  \\\n",
       "0  http://data.gesis.org/claimskg/creative_work/9...  03/26/2055   \n",
       "1  http://data.gesis.org/claimskg/creative_work/e...  03/26/2020   \n",
       "2  http://data.gesis.org/claimskg/creative_work/d...  12/10/2019   \n",
       "3  http://data.gesis.org/claimskg/creative_work/0...  12/03/2019   \n",
       "4  http://data.gesis.org/claimskg/creative_work/f...  11/27/2019   \n",
       "\n",
       "               author                                              claim  \\\n",
       "0           Yes on 55  California’s Prop 55 'prevents $4 billion in n...   \n",
       "1  Our Democracy 2020  Says an election clerk in Green Bay refused to...   \n",
       "2       America Today  'Queen Elizabeth removes Obamas from royal wed...   \n",
       "3   One Wisconsin Now  Says state schools superintendent candidate Do...   \n",
       "4   One Wisconsin Now  'The Walton family, which owns Wal-Mart, contr...   \n",
       "\n",
       "                                            keywords organization   rating  \n",
       "0                           education,state finances   politifact  MIXTURE  \n",
       "1  bipartisanship,city government,education,elect...   politifact  MIXTURE  \n",
       "2                                          fake news   politifact    FALSE  \n",
       "3  corporations,education,small business,state bu...   politifact  MIXTURE  \n",
       "4           corporations,economy,income,labor,wealth   politifact     TRUE  "
      ]
     },
     "metadata": {},
     "output_type": "display_data"
    }
   ],
   "source": [
    "df = pd.read_csv('Data/data.csv',sep=\";\")\n",
    "display(df.head())"
   ]
  },
  {
   "cell_type": "markdown",
   "metadata": {},
   "source": [
    "### Get Clusters"
   ]
  },
  {
   "cell_type": "code",
   "execution_count": 12,
   "metadata": {},
   "outputs": [],
   "source": [
    "clusters = [\n",
    "    ['weather','oil spill','climate change','energy','environment'],\n",
    "    ['pensions','state government spending','wealth','retirement','unions','labor','state finances','transportation','state budget','education','economy'],\n",
    "    ['afghanistan','iraq','terrorism','military','foreign policy'],\n",
    "    #['welfare','families','social security','deficit','federal budget','health care']\n",
    "    ['weather','oil spill','climate change','energy','environment',\n",
    "    'pensions','state government spending','wealth','retirement','unions','labor','state finances','transportation','state budget','education','economy',\n",
    "    'afghanistan','iraq','terrorism','military','foreign policy']\n",
    "]\n",
    "\n",
    "for x in range(0, len(clusters)):\n",
    "    cluster_index = 'c' + str(x+1)\n",
    "    df[cluster_index] = False"
   ]
  },
  {
   "cell_type": "code",
   "execution_count": 13,
   "metadata": {},
   "outputs": [],
   "source": [
    "#Add cluster info to DF\n",
    "for index in range(0,len(df.index)):\n",
    "    keywords = [x.strip() for x in df.at[index,'keywords'].split(',')]\n",
    "    for x in range(0, len(clusters)):\n",
    "        kwl = clusters[x]\n",
    "        for keyword in keywords: \n",
    "            if keyword in kwl:\n",
    "                cluster_index = 'c' + str(x+1)\n",
    "                df.at[index,cluster_index] = True\n",
    "                break"
   ]
  },
  {
   "cell_type": "code",
   "execution_count": 14,
   "metadata": {},
   "outputs": [
    {
     "name": "stdout",
     "output_type": "stream",
     "text": [
      "c1: ['weather', 'oil spill', 'climate change', 'energy', 'environment']\n",
      "c2: ['pensions', 'state government spending', 'wealth', 'retirement', 'unions', 'labor', 'state finances', 'transportation', 'state budget', 'education', 'economy']\n",
      "c3: ['afghanistan', 'iraq', 'terrorism', 'military', 'foreign policy']\n",
      "c4: ['weather', 'oil spill', 'climate change', 'energy', 'environment', 'pensions', 'state government spending', 'wealth', 'retirement', 'unions', 'labor', 'state finances', 'transportation', 'state budget', 'education', 'economy', 'afghanistan', 'iraq', 'terrorism', 'military', 'foreign policy']\n",
      "\n",
      "c1 count: 1037\n",
      "c2 count: 4168\n",
      "c3 count: 1441\n",
      "c4 count: 6400\n",
      "\n",
      "c1,c2 overlap: 122\n",
      "c1,c3 overlap: 45\n",
      "c1,c4 overlap: 1037\n",
      "c2,c3 overlap: 84\n",
      "c2,c4 overlap: 4168\n",
      "c3,c4 overlap: 1441\n",
      "\n"
     ]
    }
   ],
   "source": [
    "#Print statistics\n",
    "for i in range (0, len(clusters)):\n",
    "    print('c%d: %s' % (i+1,clusters[i]))\n",
    "\n",
    "print()\n",
    "    \n",
    "for i in range (0, len(clusters)):\n",
    "    x = 'c' + str(i+1)\n",
    "    df2 = df.loc[df[x] == True]\n",
    "    count = df2.shape[0]\n",
    "    print('%s count: %d' % (x,count))\n",
    "\n",
    "print()\n",
    "    \n",
    "for i in range(0, len(clusters)-1):\n",
    "    for j in range(i+1, len(clusters)):\n",
    "        x = 'c' + str(i+1)\n",
    "        y = 'c' + str(j+1)\n",
    "        df2 = df.loc[(df[x] == True) & (df[y] == True)]\n",
    "        count = df2.shape[0]\n",
    "        print('%s,%s overlap: %d' % (x,y,count))\n",
    "\n",
    "print()\n",
    "        \n",
    "# df2 = df.loc[(df['c1'] == True) & (df['c2'] == True) & (df['c3'] == True)]\n",
    "# count = df2.shape[0]\n",
    "# print('c1,c2,c3 overlap: %d' % (count))"
   ]
  },
  {
   "cell_type": "markdown",
   "metadata": {},
   "source": [
    "### Save data"
   ]
  },
  {
   "cell_type": "code",
   "execution_count": 15,
   "metadata": {},
   "outputs": [],
   "source": [
    "def save_df(df,filename):\n",
    "    rows = list()\n",
    "    header = [\"id\",\"text\",\"author\",\"date\",\"keywords\",\"organization\",\"rating\"]\n",
    "    rows.append(header)\n",
    "    \n",
    "    for index,row in df.iterrows():\n",
    "        claim = row.uri\n",
    "        date = row.date\n",
    "        author = row.author\n",
    "        #keywords = row.keywords.replace(',','/')\n",
    "        keywords = row.keywords\n",
    "        orgName = row.organization\n",
    "        ratingName = row.rating\n",
    "        text = row.claim\n",
    "        claim_row = [claim,text,author,date,keywords,orgName,ratingName]\n",
    "        rows.append(claim_row)\n",
    "        \n",
    "    with open(filename,'w',newline='',encoding=\"utf-8\") as writeFile:\n",
    "        writer = csv.writer(writeFile,delimiter=',')\n",
    "        writer.writerows(rows)\n",
    "        writeFile.close()"
   ]
  },
  {
   "cell_type": "code",
   "execution_count": 16,
   "metadata": {},
   "outputs": [],
   "source": [
    "#Individual Clusters\n",
    "for i in range(0, len(clusters)):\n",
    "    x = 'c' + str(i+1)\n",
    "    df2 = df.loc[df[x] == True]\n",
    "    filename = 'Data/' + x + '.csv'\n",
    "    save_df(df2,filename)\n",
    "\n",
    "#2 Clusters overlap\n",
    "for i in range(0, len(clusters)-1):\n",
    "    for j in range(i+1, len(clusters)):\n",
    "        x = 'c' + str(i+1)\n",
    "        y = 'c' + str(j+1)\n",
    "        df2 = df.loc[(df[x] == True) & (df[y] == True)]\n",
    "        filename = 'Data/' + x + '_' + y + '.csv'\n",
    "        save_df(df2,filename)\n",
    "        \n",
    "#3 Clusters overlap\n",
    "df2 = df.loc[(df['c1'] == True) & (df['c2'] == True) & (df['c3'] == True)]\n",
    "save_df(df2,'Data/c1_c2_c3.csv')"
   ]
  }
 ],
 "metadata": {
  "kernelspec": {
   "display_name": "Python 3",
   "language": "python",
   "name": "python3"
  },
  "language_info": {
   "codemirror_mode": {
    "name": "ipython",
    "version": 3
   },
   "file_extension": ".py",
   "mimetype": "text/x-python",
   "name": "python",
   "nbconvert_exporter": "python",
   "pygments_lexer": "ipython3",
   "version": "3.7.2"
  }
 },
 "nbformat": 4,
 "nbformat_minor": 2
}
