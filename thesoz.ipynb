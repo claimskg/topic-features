{
 "cells": [
  {
   "cell_type": "code",
   "execution_count": 1,
   "metadata": {},
   "outputs": [
    {
     "data": {
      "text/plain": [
       "<Graph identifier=N06808967c34d49e6b7e251674743cc66 (<class 'rdflib.graph.Graph'>)>"
      ]
     },
     "execution_count": 1,
     "metadata": {},
     "output_type": "execute_result"
    }
   ],
   "source": [
    "from rdflib import Graph\n",
    "\n",
    "g = Graph()\n",
    "g.parse(\"Data/thesoz-komplett.xml\")"
   ]
  },
  {
   "cell_type": "code",
   "execution_count": 2,
   "metadata": {},
   "outputs": [],
   "source": [
    "qres = g.query(\"\"\"PREFIX skos: <http://www.w3.org/2004/02/skos/core#> \n",
    " \n",
    "SELECT ?concept ?label ?match WHERE \n",
    "{ \n",
    "\t?concept a skos:Concept.\n",
    "\t?concept skos:prefLabel ?label.\n",
    "    ?concept skos:exactMatch ?match.\n",
    "    FILTER (LANG(?label) = \"en\") \n",
    "} LIMIT 100\"\"\")"
   ]
  },
  {
   "cell_type": "code",
   "execution_count": 4,
   "metadata": {},
   "outputs": [
    {
     "name": "stdout",
     "output_type": "stream",
     "text": [
      "http://lod.gesis.org/thesoz/concept_10037018 research http://zbw.eu/stw/descriptor/10436-6\n",
      "http://lod.gesis.org/thesoz/concept_10037018 research http://aims.fao.org/aos/agrovoc/c_6513\n",
      "http://lod.gesis.org/thesoz/concept_10039874 public advocate http://dbpedia.org/resource/Public_Advocate\n",
      "http://lod.gesis.org/thesoz/concept_10039874 public advocate http://zbw.eu/stw/descriptor/16301-6\n",
      "http://lod.gesis.org/thesoz/concept_10044165 free trade http://zbw.eu/stw/descriptor/10696-1\n",
      "http://lod.gesis.org/thesoz/concept_10044165 free trade http://dbpedia.org/resource/Free_trade\n",
      "http://lod.gesis.org/thesoz/concept_10054515 political philosophy http://dbpedia.org/resource/Political_philosophy\n",
      "http://lod.gesis.org/thesoz/concept_10050009 conscientious objector http://dbpedia.org/resource/Conscientious_objector\n",
      "http://lod.gesis.org/thesoz/concept_10036110 labor administration http://zbw.eu/stw/descriptor/11237-0\n",
      "http://lod.gesis.org/thesoz/concept_10041040 economic goods http://dbpedia.org/resource/Economic_goods\n",
      "http://lod.gesis.org/thesoz/concept_10041040 economic goods http://zbw.eu/stw/descriptor/10030-6\n",
      "http://lod.gesis.org/thesoz/concept_10045211 literary history http://dbpedia.org/resource/Literary_history\n",
      "http://lod.gesis.org/thesoz/concept_10042343 Paraguay http://aims.fao.org/aos/agrovoc/c_5560\n",
      "http://lod.gesis.org/thesoz/concept_10042343 Paraguay http://zbw.eu/stw/descriptor/17927-1\n",
      "http://lod.gesis.org/thesoz/concept_10042343 Paraguay http://dbpedia.org/resource/Paraguay\n",
      "http://lod.gesis.org/thesoz/concept_10045473 gestalt psychology http://zbw.eu/stw/descriptor/15790-5\n",
      "http://lod.gesis.org/thesoz/concept_10045473 gestalt psychology http://dbpedia.org/resource/Gestalt_psychology\n",
      "http://lod.gesis.org/thesoz/concept_10061146 constitutional law http://zbw.eu/stw/descriptor/16017-3\n",
      "http://lod.gesis.org/thesoz/concept_10061146 constitutional law http://dbpedia.org/resource/Constitutional_law\n",
      "http://lod.gesis.org/thesoz/concept_10035191 social administration http://dbpedia.org/resource/Social_administration\n",
      "http://lod.gesis.org/thesoz/concept_10035191 social administration http://zbw.eu/stw/descriptor/13419-5\n",
      "http://lod.gesis.org/thesoz/concept_10037395 international cooperation http://zbw.eu/stw/descriptor/19708-3\n",
      "http://lod.gesis.org/thesoz/concept_10037395 international cooperation http://dbpedia.org/resource/International_cooperation\n",
      "http://lod.gesis.org/thesoz/concept_10037395 international cooperation http://aims.fao.org/aos/agrovoc/c_16378\n",
      "http://lod.gesis.org/thesoz/concept_10037331 international relations http://aims.fao.org/aos/agrovoc/c_26793\n",
      "http://lod.gesis.org/thesoz/concept_10037331 international relations http://dbpedia.org/resource/International_relations\n",
      "http://lod.gesis.org/thesoz/concept_10037331 international relations http://zbw.eu/stw/descriptor/16441-4\n",
      "http://lod.gesis.org/thesoz/concept_10053279 nihilism http://dbpedia.org/resource/Nihilism\n",
      "http://lod.gesis.org/thesoz/concept_10062608 welfare economics http://zbw.eu/stw/descriptor/10113-2\n",
      "http://lod.gesis.org/thesoz/concept_10062608 welfare economics http://aims.fao.org/aos/agrovoc/c_8353\n",
      "http://lod.gesis.org/thesoz/concept_10062608 welfare economics http://dbpedia.org/resource/Welfare_economics\n",
      "http://lod.gesis.org/thesoz/concept_10066735 best practice http://dbpedia.org/resource/Best_practice\n",
      "http://lod.gesis.org/thesoz/concept_10066735 best practice http://aims.fao.org/aos/agrovoc/c_49833\n",
      "http://lod.gesis.org/thesoz/concept_10043539 manufacturing procedure http://zbw.eu/stw/descriptor/12711-0\n",
      "http://lod.gesis.org/thesoz/concept_10034765 rural population http://zbw.eu/stw/descriptor/13454-3\n",
      "http://lod.gesis.org/thesoz/concept_10034765 rural population http://aims.fao.org/aos/agrovoc/c_6705\n",
      "http://lod.gesis.org/thesoz/concept_10056161 legal protection http://zbw.eu/stw/descriptor/15972-6\n",
      "http://lod.gesis.org/thesoz/concept_10055685 psychological warfare http://dbpedia.org/resource/Psychological_warfare\n",
      "http://lod.gesis.org/thesoz/concept_10059003 public policy http://dbpedia.org/resource/Public_policy\n",
      "http://lod.gesis.org/thesoz/concept_10080282 business concept http://zbw.eu/stw/descriptor/20468-1\n",
      "http://lod.gesis.org/thesoz/concept_10062042 compulsory military service http://dbpedia.org/resource/Compulsory_military_service\n",
      "http://lod.gesis.org/thesoz/concept_10062042 compulsory military service http://zbw.eu/stw/descriptor/16522-4\n",
      "http://lod.gesis.org/thesoz/concept_10037140 vocational training situation http://zbw.eu/stw/descriptor/11267-5\n",
      "http://lod.gesis.org/thesoz/concept_10045281 class society http://dbpedia.org/resource/Class_society\n",
      "http://lod.gesis.org/thesoz/concept_10072954 news value http://dbpedia.org/resource/News_value\n",
      "http://lod.gesis.org/thesoz/concept_10043870 logic http://aims.fao.org/aos/agrovoc/c_330832\n",
      "http://lod.gesis.org/thesoz/concept_10043870 logic http://zbw.eu/stw/descriptor/16716-5\n",
      "http://lod.gesis.org/thesoz/concept_10043870 logic http://dbpedia.org/resource/Logic\n",
      "http://lod.gesis.org/thesoz/concept_10054535 phonology http://dbpedia.org/resource/Phonology\n",
      "http://lod.gesis.org/thesoz/concept_10058920 dual citizenship http://dbpedia.org/resource/Dual_citizenship\n",
      "http://lod.gesis.org/thesoz/concept_10060509 transference http://dbpedia.org/resource/Transference\n",
      "http://lod.gesis.org/thesoz/concept_10041029 Green Party http://dbpedia.org/resource/Green_party\n",
      "http://lod.gesis.org/thesoz/concept_10041029 Green Party http://zbw.eu/stw/descriptor/16364-3\n",
      "http://lod.gesis.org/thesoz/concept_10057791 senate http://dbpedia.org/resource/Senate\n",
      "http://lod.gesis.org/thesoz/concept_10047607 institutionalization http://dbpedia.org/resource/Institutionalization\n",
      "http://lod.gesis.org/thesoz/concept_10056290 reformism http://dbpedia.org/resource/Reformism\n",
      "http://lod.gesis.org/thesoz/concept_10040355 workstation http://dbpedia.org/resource/Workstation\n",
      "http://lod.gesis.org/thesoz/concept_10040355 workstation http://zbw.eu/stw/descriptor/18004-2\n",
      "http://lod.gesis.org/thesoz/concept_10035558 Chile http://zbw.eu/stw/descriptor/17919-0\n",
      "http://lod.gesis.org/thesoz/concept_10035558 Chile http://dbpedia.org/resource/Chile\n",
      "http://lod.gesis.org/thesoz/concept_10044521 function http://dbpedia.org/resource/Function\n",
      "http://lod.gesis.org/thesoz/concept_10037437 exchange theory http://dbpedia.org/resource/Exchange_theory\n",
      "http://lod.gesis.org/thesoz/concept_10037437 exchange theory http://zbw.eu/stw/descriptor/15801-5\n",
      "http://lod.gesis.org/thesoz/concept_10049884 outpatient clinic http://dbpedia.org/resource/Outpatient_clinic\n",
      "http://lod.gesis.org/thesoz/concept_10040998 conversation http://dbpedia.org/resource/Conversation\n",
      "http://lod.gesis.org/thesoz/concept_10059938 tactics http://dbpedia.org/resource/Tactics\n",
      "http://lod.gesis.org/thesoz/concept_10078413 glocalization http://dbpedia.org/resource/Glocalization\n",
      "http://lod.gesis.org/thesoz/concept_10043461 media criticism http://dbpedia.org/resource/Media_criticism\n",
      "http://lod.gesis.org/thesoz/concept_10045139 comprehensive school http://zbw.eu/stw/descriptor/11357-4\n",
      "http://lod.gesis.org/thesoz/concept_10045139 comprehensive school http://dbpedia.org/resource/Comprehensive_school\n",
      "http://lod.gesis.org/thesoz/concept_10050664 way of life http://dbpedia.org/resource/Way_of_life\n",
      "http://lod.gesis.org/thesoz/concept_10050664 way of life http://zbw.eu/stw/descriptor/19754-3\n",
      "http://lod.gesis.org/thesoz/concept_10039110 social stratum http://dbpedia.org/resource/Social_stratum\n",
      "http://lod.gesis.org/thesoz/concept_10039110 social stratum http://zbw.eu/stw/descriptor/15717-1\n",
      "http://lod.gesis.org/thesoz/concept_10052130 menstruation http://dbpedia.org/resource/Menstruation\n",
      "http://lod.gesis.org/thesoz/concept_10068552 musicology http://dbpedia.org/resource/Musicology\n",
      "http://lod.gesis.org/thesoz/concept_10043068 radicalism http://dbpedia.org/resource/Radicalism\n",
      "http://lod.gesis.org/thesoz/concept_10043068 radicalism http://zbw.eu/stw/descriptor/16404-3\n",
      "http://lod.gesis.org/thesoz/concept_10063746 media job http://zbw.eu/stw/descriptor/14004-1\n",
      "http://lod.gesis.org/thesoz/concept_10056953 Ruhr District http://dbpedia.org/resource/Ruhr_district\n",
      "http://lod.gesis.org/thesoz/concept_10062311 reprocessing http://dbpedia.org/resource/Reprocessing\n",
      "http://lod.gesis.org/thesoz/concept_10040700 political behavior http://dbpedia.org/resource/Political_behavior\n",
      "http://lod.gesis.org/thesoz/concept_10041347 drug scene http://dbpedia.org/resource/Drug_scene\n",
      "http://lod.gesis.org/thesoz/concept_10034547 agriculture http://aims.fao.org/aos/agrovoc/c_203\n",
      "http://lod.gesis.org/thesoz/concept_10034547 agriculture http://zbw.eu/stw/descriptor/12945-3\n",
      "http://lod.gesis.org/thesoz/concept_10034547 agriculture http://dbpedia.org/resource/Agriculture\n",
      "http://lod.gesis.org/thesoz/concept_10050386 instability http://dbpedia.org/resource/Instability\n",
      "http://lod.gesis.org/thesoz/concept_10055764 publicity http://dbpedia.org/resource/Publicity\n",
      "http://lod.gesis.org/thesoz/concept_10059356 Heinrich Böll foundation http://dbpedia.org/resource/Heinrich_Boell_Foundation\n",
      "http://lod.gesis.org/thesoz/concept_10046735 private university http://zbw.eu/stw/descriptor/28542-3\n",
      "http://lod.gesis.org/thesoz/concept_10061335 publishing house http://dbpedia.org/resource/Publishing_house\n",
      "http://lod.gesis.org/thesoz/concept_10061335 publishing house http://zbw.eu/stw/descriptor/13367-5\n",
      "http://lod.gesis.org/thesoz/concept_10037824 required area http://zbw.eu/stw/descriptor/11859-1\n",
      "http://lod.gesis.org/thesoz/concept_10055693 psychometrics http://dbpedia.org/resource/Psychometrics\n",
      "http://lod.gesis.org/thesoz/concept_10035866 Jordan http://aims.fao.org/aos/agrovoc/c_29733\n",
      "http://lod.gesis.org/thesoz/concept_10035866 Jordan http://dbpedia.org/resource/Jordan\n",
      "http://lod.gesis.org/thesoz/concept_10035866 Jordan http://zbw.eu/stw/descriptor/17626-1\n",
      "http://lod.gesis.org/thesoz/concept_10055846 ratio of government expenditures http://zbw.eu/stw/descriptor/11721-2\n",
      "http://lod.gesis.org/thesoz/concept_10051624 manufactury http://zbw.eu/stw/descriptor/25501-4\n"
     ]
    }
   ],
   "source": [
    "for row in qres:\n",
    "    print(\"%s %s %s\" % (row.concept, row.label, row.match) )"
   ]
  },
  {
   "cell_type": "code",
   "execution_count": 28,
   "metadata": {},
   "outputs": [],
   "source": [
    "qres = g.query(\"\"\"PREFIX skos: <http://www.w3.org/2004/02/skos/core#> \n",
    " \n",
    "SELECT (count(?concept) as ?count) WHERE \n",
    "{ \n",
    "\t?concept a skos:Concept \n",
    "}\"\"\")"
   ]
  },
  {
   "cell_type": "code",
   "execution_count": 29,
   "metadata": {},
   "outputs": [
    {
     "name": "stdout",
     "output_type": "stream",
     "text": [
      "8223 \n"
     ]
    }
   ],
   "source": [
    "for row in qres:\n",
    "    print(\"%s \" % row )"
   ]
  }
 ],
 "metadata": {
  "kernelspec": {
   "display_name": "Python 3",
   "language": "python",
   "name": "python3"
  },
  "language_info": {
   "codemirror_mode": {
    "name": "ipython",
    "version": 3
   },
   "file_extension": ".py",
   "mimetype": "text/x-python",
   "name": "python",
   "nbconvert_exporter": "python",
   "pygments_lexer": "ipython3",
   "version": "3.7.2"
  }
 },
 "nbformat": 4,
 "nbformat_minor": 2
}
