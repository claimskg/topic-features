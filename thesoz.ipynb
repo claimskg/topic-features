{
 "cells": [
  {
   "cell_type": "code",
   "execution_count": 1,
   "metadata": {},
   "outputs": [
    {
     "data": {
      "text/plain": [
       "<Graph identifier=N9a1b64760e6341608ad4d58a94cc89bf (<class 'rdflib.graph.Graph'>)>"
      ]
     },
     "execution_count": 1,
     "metadata": {},
     "output_type": "execute_result"
    }
   ],
   "source": [
    "from rdflib import Graph\n",
    "\n",
    "g = Graph()\n",
    "g.parse(\"Data/thesoz-komplett.xml\")"
   ]
  },
  {
   "cell_type": "code",
   "execution_count": 20,
   "metadata": {},
   "outputs": [],
   "source": [
    "qres = g.query(\"\"\"PREFIX skos: <http://www.w3.org/2004/02/skos/core#> \n",
    " \n",
    "SELECT ?concept ?label WHERE \n",
    "{ \n",
    "\t?concept a skos:Concept.\n",
    "\t?concept skos:prefLabel ?label.\n",
    "    FILTER (LANG(?label) = \"en\") \n",
    "} LIMIT 100\"\"\")"
   ]
  },
  {
   "cell_type": "code",
   "execution_count": 21,
   "metadata": {},
   "outputs": [
    {
     "name": "stdout",
     "output_type": "stream",
     "text": [
      "http://lod.gesis.org/thesoz/concept_10036635 employment service\n",
      "http://lod.gesis.org/thesoz/concept_10037376 security policy\n",
      "http://lod.gesis.org/thesoz/concept_10056216 legal process\n",
      "http://lod.gesis.org/thesoz/concept_10039109 language group\n",
      "http://lod.gesis.org/thesoz/concept_10044366 peace research\n",
      "http://lod.gesis.org/thesoz/concept_10052519 medium-range weapon\n",
      "http://lod.gesis.org/thesoz/concept_10074214 Strauss, Leo\n",
      "http://lod.gesis.org/thesoz/concept_10040674 people's democracy\n",
      "http://lod.gesis.org/thesoz/concept_10034855 agrarian law\n",
      "http://lod.gesis.org/thesoz/concept_10047839 conference\n",
      "http://lod.gesis.org/thesoz/concept_10035138 everyday consciousness\n",
      "http://lod.gesis.org/thesoz/concept_10046573 authoritarian system\n",
      "http://lod.gesis.org/thesoz/concept_10041934 parents training\n",
      "http://lod.gesis.org/thesoz/concept_10051851 maximization\n",
      "http://lod.gesis.org/thesoz/concept_10047422 information technology\n",
      "http://lod.gesis.org/thesoz/concept_10049385 primitive communism\n",
      "http://lod.gesis.org/thesoz/concept_10051676 market share\n",
      "http://lod.gesis.org/thesoz/concept_10037310 extradition\n",
      "http://lod.gesis.org/thesoz/concept_10036486 occupational education\n",
      "http://lod.gesis.org/thesoz/concept_10050783 teaching load\n",
      "http://lod.gesis.org/thesoz/concept_10097824 transition from school to work\n",
      "http://lod.gesis.org/thesoz/concept_10043558 social structure\n",
      "http://lod.gesis.org/thesoz/concept_10054562 Piaget, Jean\n",
      "http://lod.gesis.org/thesoz/concept_10058094 social darwinism\n",
      "http://lod.gesis.org/thesoz/concept_10037446 austerity policy\n",
      "http://lod.gesis.org/thesoz/concept_10044948 non-profit\n",
      "http://lod.gesis.org/thesoz/concept_10039270 trade balance\n",
      "http://lod.gesis.org/thesoz/concept_10042243 system development\n",
      "http://lod.gesis.org/thesoz/concept_10042505 recreation\n",
      "http://lod.gesis.org/thesoz/concept_10054202 loss of partner\n",
      "http://lod.gesis.org/thesoz/concept_10073809 Schengen Agreement\n",
      "http://lod.gesis.org/thesoz/concept_10042026 contraception\n",
      "http://lod.gesis.org/thesoz/concept_10084267 economic education\n",
      "http://lod.gesis.org/thesoz/concept_10049503 conflict strategy\n",
      "http://lod.gesis.org/thesoz/concept_10044382 political negotiation\n",
      "http://lod.gesis.org/thesoz/concept_10065629 EEMU\n",
      "http://lod.gesis.org/thesoz/concept_10052818 maternity leave\n",
      "http://lod.gesis.org/thesoz/concept_10056378 traffic volume\n",
      "http://lod.gesis.org/thesoz/concept_10054637 planning process\n",
      "http://lod.gesis.org/thesoz/concept_10042440 inheritance law\n",
      "http://lod.gesis.org/thesoz/concept_10055040 positivism\n",
      "http://lod.gesis.org/thesoz/concept_10063849 urbanity\n",
      "http://lod.gesis.org/thesoz/concept_10040511 personnel data\n",
      "http://lod.gesis.org/thesoz/concept_10051139 taxonomy\n",
      "http://lod.gesis.org/thesoz/concept_10043698 finance theory\n",
      "http://lod.gesis.org/thesoz/concept_10046890 Horkheimer, Max\n",
      "http://lod.gesis.org/thesoz/concept_10045275 sociability\n",
      "http://lod.gesis.org/thesoz/concept_10053279 nihilism\n",
      "http://lod.gesis.org/thesoz/concept_10043178 set of subjects (school)\n",
      "http://lod.gesis.org/thesoz/concept_10040965 diagnostic\n",
      "http://lod.gesis.org/thesoz/concept_10059367 right to vote\n",
      "http://lod.gesis.org/thesoz/concept_10048045 investment appraisal\n",
      "http://lod.gesis.org/thesoz/concept_10064146 Belorussia\n",
      "http://lod.gesis.org/thesoz/concept_10035187 apartment\n",
      "http://lod.gesis.org/thesoz/concept_10061513 vote of confidence\n",
      "http://lod.gesis.org/thesoz/concept_10052775 music lessons\n",
      "http://lod.gesis.org/thesoz/concept_10056047 auditing\n",
      "http://lod.gesis.org/thesoz/concept_10066830 functional differentiation\n",
      "http://lod.gesis.org/thesoz/concept_10044328 foreign language\n",
      "http://lod.gesis.org/thesoz/concept_10040692 democratic socialism\n",
      "http://lod.gesis.org/thesoz/concept_10034776 export\n",
      "http://lod.gesis.org/thesoz/concept_10050101 Cuban Missile Crisis\n",
      "http://lod.gesis.org/thesoz/concept_10039023 portfolio-theory\n",
      "http://lod.gesis.org/thesoz/concept_10060306 Tönnies, Ferdinand\n",
      "http://lod.gesis.org/thesoz/concept_10035740 open ward (of an insane asylum)\n",
      "http://lod.gesis.org/thesoz/concept_10035577 epilepsy\n",
      "http://lod.gesis.org/thesoz/concept_10058542 social scientist\n",
      "http://lod.gesis.org/thesoz/concept_10055264 Waldorf school\n",
      "http://lod.gesis.org/thesoz/concept_10038912 bankruptcy\n",
      "http://lod.gesis.org/thesoz/concept_10038741 Employment Promotion Act\n",
      "http://lod.gesis.org/thesoz/concept_10036251 workhouse\n",
      "http://lod.gesis.org/thesoz/concept_10040229 equality of rights\n",
      "http://lod.gesis.org/thesoz/concept_10056170 sociology of law\n",
      "http://lod.gesis.org/thesoz/concept_10041873 preschool school\n",
      "http://lod.gesis.org/thesoz/concept_10050218 sociocultural factors\n",
      "http://lod.gesis.org/thesoz/concept_10054083 parliamentary debate\n",
      "http://lod.gesis.org/thesoz/concept_10038863 family business\n",
      "http://lod.gesis.org/thesoz/concept_10050403 business hours\n",
      "http://lod.gesis.org/thesoz/concept_10038037 learning disability\n",
      "http://lod.gesis.org/thesoz/concept_10061649 referendum\n",
      "http://lod.gesis.org/thesoz/concept_10043578 horror film\n",
      "http://lod.gesis.org/thesoz/concept_10053597 press office\n",
      "http://lod.gesis.org/thesoz/concept_10037442 exhibitions and fairs\n",
      "http://lod.gesis.org/thesoz/concept_10039070 demography\n",
      "http://lod.gesis.org/thesoz/concept_10041040 economic goods\n",
      "http://lod.gesis.org/thesoz/concept_10050660 life expectancy\n",
      "http://lod.gesis.org/thesoz/concept_10045517 male nurse\n",
      "http://lod.gesis.org/thesoz/concept_10051144 reader (schoolbook)\n",
      "http://lod.gesis.org/thesoz/concept_10041647 household income\n",
      "http://lod.gesis.org/thesoz/concept_10051579 product management\n",
      "http://lod.gesis.org/thesoz/concept_10040153 Federal Administrative Court\n",
      "http://lod.gesis.org/thesoz/concept_10035480 structural analysis\n",
      "http://lod.gesis.org/thesoz/concept_10042079 crude oil\n",
      "http://lod.gesis.org/thesoz/concept_10044960 social studies\n",
      "http://lod.gesis.org/thesoz/concept_10052888 communications\n",
      "http://lod.gesis.org/thesoz/concept_10039758 brewing industry\n",
      "http://lod.gesis.org/thesoz/concept_10057565 Canton of Ticino\n",
      "http://lod.gesis.org/thesoz/concept_10050175 Kuhn, Thomas S.\n",
      "http://lod.gesis.org/thesoz/concept_10044398 handicraft trade\n",
      "http://lod.gesis.org/thesoz/concept_10056262 student teacher\n"
     ]
    }
   ],
   "source": [
    "for row in qres:\n",
    "    print(\"%s %s\" % (row.concept, row.label) )"
   ]
  },
  {
   "cell_type": "code",
   "execution_count": 28,
   "metadata": {},
   "outputs": [],
   "source": [
    "qres = g.query(\"\"\"PREFIX skos: <http://www.w3.org/2004/02/skos/core#> \n",
    " \n",
    "SELECT (count(?concept) as ?count) WHERE \n",
    "{ \n",
    "\t?concept a skos:Concept \n",
    "}\"\"\")"
   ]
  },
  {
   "cell_type": "code",
   "execution_count": 29,
   "metadata": {},
   "outputs": [
    {
     "name": "stdout",
     "output_type": "stream",
     "text": [
      "8223 \n"
     ]
    }
   ],
   "source": [
    "for row in qres:\n",
    "    print(\"%s \" % row )"
   ]
  }
 ],
 "metadata": {
  "kernelspec": {
   "display_name": "Python 3",
   "language": "python",
   "name": "python3"
  },
  "language_info": {
   "codemirror_mode": {
    "name": "ipython",
    "version": 3
   },
   "file_extension": ".py",
   "mimetype": "text/x-python",
   "name": "python",
   "nbconvert_exporter": "python",
   "pygments_lexer": "ipython3",
   "version": "3.7.2"
  }
 },
 "nbformat": 4,
 "nbformat_minor": 2
}
